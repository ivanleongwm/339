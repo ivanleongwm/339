{
 "cells": [
  {
   "cell_type": "markdown",
   "id": "7a39b33a",
   "metadata": {},
   "source": [
    "# Standard Genetic Algo"
   ]
  },
  {
   "cell_type": "code",
   "execution_count": 217,
   "id": "7b0e2f4b",
   "metadata": {},
   "outputs": [],
   "source": [
    "from random import randint, uniform\n",
    "n_pop = 10\n",
    "n_bits = 8\n",
    "n_iter = 5\n",
    "r_cross = 0.8 # crossover rate\n",
    "r_mut = 0.1 # flip bits with probability"
   ]
  },
  {
   "cell_type": "code",
   "execution_count": 218,
   "id": "a585e380",
   "metadata": {},
   "outputs": [],
   "source": [
    "def objective(candidate):\n",
    "    sum_ = 0\n",
    "    for bit in candidate:\n",
    "        sum_ += bit\n",
    "    return sum_"
   ]
  },
  {
   "cell_type": "code",
   "execution_count": 219,
   "id": "97aae7c3",
   "metadata": {},
   "outputs": [],
   "source": [
    "def selection(pop,scores,k=3):\n",
    "    # first random selection\n",
    "    selection_ix = randint(0,len(pop)-1)\n",
    "    for ix in [randint(0,len(pop)-1) for x in range(k-1)]:\n",
    "    # check if better (e.g. perform a tournament)\n",
    "        if scores[ix] < scores[selection_ix]:\n",
    "            selection_ix = ix\n",
    "    return pop[selection_ix]"
   ]
  },
  {
   "cell_type": "code",
   "execution_count": 220,
   "id": "109154fc",
   "metadata": {},
   "outputs": [],
   "source": [
    "# crossover two parents to create two children\n",
    "def crossover(p1,p2,r_cross):\n",
    "    print([p1,p2])\n",
    "    # children are copies of parents by default\n",
    "    c1 , c2 = p1.copy(), p2.copy()\n",
    "    # check for recombination\n",
    "    if uniform(0,1) < r_cross:\n",
    "        # select crossover point that is not on the end of the string\n",
    "        pt = randint(1, len(p1)-2)\n",
    "        # perform crossover\n",
    "        c1 = p1[:pt] + p2[pt:]\n",
    "        c2 = p2[:pt] + p1[pt:]\n",
    "    return [c1,c2]"
   ]
  },
  {
   "cell_type": "code",
   "execution_count": 221,
   "id": "1763ba21",
   "metadata": {},
   "outputs": [],
   "source": [
    "def mutation(bitstring, r_mut):\n",
    "    for i in range(len(bitstring)):\n",
    "        # check for a mutation\n",
    "        if uniform(0,1) < r_mut:\n",
    "            # flip the bit\n",
    "            bitstring[i] = 1 - bitstring[i]"
   ]
  },
  {
   "cell_type": "code",
   "execution_count": 222,
   "id": "283c1345",
   "metadata": {},
   "outputs": [],
   "source": [
    "def genetic_algorithm(objective, n_bits, n_iter, n_pop, r_cross, r_mut):\n",
    "    # initial population of random bitstring\n",
    "    pop = [[randint(0,1) for x in range(n_bits)] for _ in range(n_pop)]\n",
    "    print(pop)\n",
    "    # keep track of best solution\n",
    "    best, best_eval = 0, objective(pop[0])\n",
    "    # enumerate generations\n",
    "    for gen in range(n_iter):\n",
    "        # evaluate all candidates in the population\n",
    "        scores = [objective(c) for c in pop]\n",
    "        # check for new best solution\n",
    "        for i in range(n_pop):\n",
    "            if scores[i] < best_eval:\n",
    "                best, best_eval = pop[i], scores[i]\n",
    "                print(\">%d, new best f(%s) = %.3f\" % (gen, pop[i], scores[i]))\n",
    "        # select parents\n",
    "        selected = [selection(pop, scores) for _ in range(n_pop)]\n",
    "        # create the next generation\n",
    "        children = list()\n",
    "        for i in range(0, n_pop, 2):\n",
    "            # get selected parents in pairs\n",
    "            p1, p2 = selected[i], selected[i+1]\n",
    "            # crossover and mutation\n",
    "            for c in crossover(p1, p2, r_cross):\n",
    "                # mutation\n",
    "                mutation(c, r_mut)\n",
    "                # store for next generation\n",
    "                children.append(c)\n",
    "        # replace population\n",
    "        pop = children\n",
    "    return [best, best_eval]"
   ]
  },
  {
   "cell_type": "code",
   "execution_count": 226,
   "id": "e762625e",
   "metadata": {},
   "outputs": [
    {
     "name": "stdout",
     "output_type": "stream",
     "text": [
      "[[1, 1, 1, 1, 1, 0, 0, 1], [1, 0, 1, 0, 1, 1, 1, 1], [0, 0, 1, 1, 1, 0, 1, 1], [0, 1, 1, 1, 0, 1, 0, 1], [0, 0, 1, 0, 1, 0, 1, 1], [1, 1, 0, 0, 0, 1, 0, 1], [0, 1, 1, 1, 0, 0, 0, 1], [0, 0, 1, 0, 1, 0, 1, 1], [0, 1, 0, 1, 1, 1, 0, 0], [0, 1, 0, 0, 1, 0, 1, 1]]\n",
      ">0, new best f([0, 0, 1, 1, 1, 0, 1, 1]) = 5.000\n",
      ">0, new best f([0, 0, 1, 0, 1, 0, 1, 1]) = 4.000\n",
      "[[0, 1, 0, 1, 1, 1, 0, 0], [1, 1, 0, 0, 0, 1, 0, 1]]\n",
      "[[0, 1, 0, 1, 1, 1, 0, 0], [0, 0, 1, 0, 1, 0, 1, 1]]\n",
      "[[0, 1, 0, 0, 1, 0, 1, 1], [0, 0, 1, 0, 1, 0, 1, 1]]\n",
      "[[0, 1, 0, 1, 1, 1, 0, 0], [0, 0, 1, 0, 1, 0, 1, 1]]\n",
      "[[0, 1, 0, 1, 1, 1, 0, 0], [0, 1, 0, 0, 1, 0, 1, 1]]\n",
      ">1, new best f([0, 0, 0, 1, 1, 1, 0, 0]) = 3.000\n",
      "[[0, 0, 0, 0, 1, 0, 1, 1], [0, 1, 0, 1, 1, 0, 0, 0]]\n",
      "[[0, 1, 0, 1, 1, 0, 0, 0], [0, 1, 0, 1, 1, 0, 0, 0]]\n",
      "[[0, 1, 0, 1, 1, 1, 0, 0], [0, 1, 1, 0, 1, 1, 1, 1]]\n",
      "[[0, 1, 0, 1, 1, 0, 0, 0], [0, 0, 1, 0, 1, 0, 1, 1]]\n",
      "[[0, 1, 0, 0, 1, 0, 1, 1], [0, 1, 0, 1, 1, 0, 0, 0]]\n",
      ">2, new best f([0, 1, 0, 0, 1, 0, 0, 0]) = 2.000\n",
      "[[0, 1, 1, 1, 0, 0, 0, 0], [0, 1, 0, 1, 1, 0, 0, 0]]\n",
      "[[0, 0, 1, 0, 0, 0, 1, 1], [1, 1, 0, 1, 0, 0, 0, 0]]\n",
      "[[0, 0, 0, 0, 1, 0, 1, 1], [0, 0, 1, 0, 0, 0, 1, 1]]\n",
      "[[0, 1, 0, 1, 1, 0, 0, 0], [0, 1, 1, 1, 0, 0, 0, 0]]\n",
      "[[0, 1, 0, 1, 1, 0, 0, 0], [0, 1, 0, 1, 1, 0, 0, 0]]\n",
      "[[0, 0, 1, 0, 0, 0, 1, 0], [0, 1, 0, 1, 1, 0, 0, 0]]\n",
      "[[0, 0, 1, 0, 0, 0, 1, 0], [0, 0, 1, 1, 0, 0, 0, 0]]\n",
      "[[0, 0, 1, 1, 0, 0, 0, 0], [0, 0, 1, 0, 0, 1, 0, 0]]\n",
      "[[0, 0, 1, 0, 0, 0, 1, 0], [0, 0, 1, 1, 0, 0, 0, 0]]\n",
      "[[0, 0, 1, 0, 0, 1, 0, 0], [0, 0, 1, 1, 0, 0, 0, 0]]\n",
      ">4, new best f([0, 0, 1, 0, 0, 0, 0, 0]) = 1.000\n",
      "[[0, 0, 1, 0, 0, 0, 0, 0], [0, 0, 1, 0, 0, 0, 1, 0]]\n",
      "[[0, 0, 1, 0, 0, 0, 0, 1], [0, 0, 1, 1, 0, 0, 0, 0]]\n",
      "[[0, 0, 1, 0, 0, 0, 0, 1], [0, 0, 1, 0, 0, 0, 0, 0]]\n",
      "[[0, 0, 1, 0, 0, 0, 0, 0], [0, 0, 1, 0, 0, 0, 0, 1]]\n",
      "[[0, 0, 1, 0, 0, 0, 0, 0], [0, 0, 1, 0, 0, 0, 1, 0]]\n"
     ]
    },
    {
     "data": {
      "text/plain": [
       "[[0, 0, 1, 0, 0, 0, 0, 0], 1]"
      ]
     },
     "execution_count": 226,
     "metadata": {},
     "output_type": "execute_result"
    }
   ],
   "source": [
    "genetic_algorithm(objective, n_bits, n_iter, n_pop, r_cross, r_mut)"
   ]
  },
  {
   "cell_type": "markdown",
   "id": "182644e9",
   "metadata": {},
   "source": [
    "# P&L Table Creation"
   ]
  },
  {
   "attachments": {
    "pnl_table_formulation.png": {
     "image/png": "[encoded data removed]"
    }
   },
   "cell_type": "markdown",
   "id": "645227c0",
   "metadata": {},
   "source": [
    "Target: (rank((vwap - close)) / rank((vwap + close)))\n",
    "![pnl_table_formulation.png](attachment:pnl_table_formulation.png)"
   ]
  },
  {
   "cell_type": "code",
   "execution_count": 8,
   "id": "c6a26ae0",
   "metadata": {},
   "outputs": [
    {
     "data": {
      "text/plain": [
       "0.14"
      ]
     },
     "execution_count": 8,
     "metadata": {},
     "output_type": "execute_result"
    }
   ],
   "source": [
    "14/100"
   ]
  },
  {
   "cell_type": "code",
   "execution_count": 9,
   "id": "dedb2a9b",
   "metadata": {},
   "outputs": [
    {
     "data": {
      "text/plain": [
       "0.2727272727272727"
      ]
     },
     "execution_count": 9,
     "metadata": {},
     "output_type": "execute_result"
    }
   ],
   "source": [
    "6/22"
   ]
  },
  {
   "cell_type": "code",
   "execution_count": 31,
   "id": "2f154c97",
   "metadata": {},
   "outputs": [],
   "source": [
    "import pandas as pd\n",
    "from datetime import date\n",
    "from IPython.display import display"
   ]
  },
  {
   "cell_type": "code",
   "execution_count": 100,
   "id": "d32ea407",
   "metadata": {},
   "outputs": [],
   "source": [
    "tickers = ['PLD','AMT','PSA','SPG','DLR','EQR']\n",
    "files_array = {}\n",
    "\n",
    "for ticker in tickers:\n",
    "    files_array[ticker] = pd.read_excel('yahoo_finance_reits_data.xlsx',sheet_name=ticker,index_col=0).reset_index()[-500:]"
   ]
  },
  {
   "cell_type": "code",
   "execution_count": 101,
   "id": "cb31d1d1",
   "metadata": {
    "scrolled": true
   },
   "outputs": [
    {
     "data": {
      "text/plain": [
       "{'PLD':            Date        Open        High         Low       Close   Volume  \\\n",
       " 5987 2021-09-09  131.094692  131.475776  128.322265  128.350845  2566600   \n",
       " 5988 2021-09-10  128.741486  128.941549  127.207601  127.312401  1963500   \n",
       " 5989 2021-09-13  128.398495  128.569978  126.340610  126.502571  1713800   \n",
       " 5990 2021-09-14  126.950358  127.350500  125.492693  126.283455  1781400   \n",
       " 5991 2021-09-15  126.721680  127.950701  125.816596  126.988441  2223700   \n",
       " ...         ...         ...         ...         ...         ...      ...   \n",
       " 6482 2023-08-29  123.970001  125.349998  122.760002  125.099998  1833500   \n",
       " 6483 2023-08-30  125.489998  125.959999  124.699997  125.699997  1849300   \n",
       " 6484 2023-08-31  125.360001  125.910004  123.889999  124.199997  3277600   \n",
       " 6485 2023-09-01  125.400002  125.570000  124.050003  124.589996  1591000   \n",
       " 6486 2023-09-05  124.250000  124.500000  121.860001  122.050003  2854100   \n",
       " \n",
       "       Dividends  Stock Splits  \n",
       " 5987        0.0             0  \n",
       " 5988        0.0             0  \n",
       " 5989        0.0             0  \n",
       " 5990        0.0             0  \n",
       " 5991        0.0             0  \n",
       " ...         ...           ...  \n",
       " 6482        0.0             0  \n",
       " 6483        0.0             0  \n",
       " 6484        0.0             0  \n",
       " 6485        0.0             0  \n",
       " 6486        0.0             0  \n",
       " \n",
       " [500 rows x 8 columns],\n",
       " 'AMT':            Date        Open        High         Low       Close   Volume  \\\n",
       " 5922 2021-09-09  287.432224  288.581945  281.911627  282.035156  1243100   \n",
       " 5923 2021-09-10  281.721588  282.348716  275.611878  279.241608  1488700   \n",
       " 5924 2021-09-13  281.740594  283.555459  278.576448  279.935211  1270100   \n",
       " 5925 2021-09-14  280.581351  282.956824  280.125250  281.636047  1109700   \n",
       " 5926 2021-09-15  281.845143  282.994863  279.593199  282.453278  1044200   \n",
       " ...         ...         ...         ...         ...         ...      ...   \n",
       " 6417 2023-08-29  178.679993  181.649994  177.779999  181.500000  1572900   \n",
       " 6418 2023-08-30  182.500000  184.190002  181.809998  182.279999  1858300   \n",
       " 6419 2023-08-31  183.080002  183.520004  180.729996  181.320007  1567100   \n",
       " 6420 2023-09-01  182.490005  182.490005  179.289993  180.789993  1654100   \n",
       " 6421 2023-09-05  180.559998  182.440002  179.500000  180.419998  1715200   \n",
       " \n",
       "       Dividends  Stock Splits  \n",
       " 5922        0.0             0  \n",
       " 5923        0.0             0  \n",
       " 5924        0.0             0  \n",
       " 5925        0.0             0  \n",
       " 5926        0.0             0  \n",
       " ...         ...           ...  \n",
       " 6417        0.0             0  \n",
       " 6418        0.0             0  \n",
       " 6419        0.0             0  \n",
       " 6420        0.0             0  \n",
       " 6421        0.0             0  \n",
       " \n",
       " [500 rows x 8 columns],\n",
       " 'PSA':            Date        Open        High         Low       Close  Volume  \\\n",
       " 7053 2021-09-09  300.153813  300.153813  293.631489  294.066925  573500   \n",
       " 7054 2021-09-10  294.284711  296.616063  292.561154  293.214294  524700   \n",
       " 7055 2021-09-13  294.438876  296.561603  291.227627  291.372772  601700   \n",
       " 7056 2021-09-14  292.367719  292.367719  287.484117  289.747925  543500   \n",
       " 7057 2021-09-15  290.633345  294.065536  289.802674  291.655701  457700   \n",
       " ...         ...         ...         ...         ...         ...     ...   \n",
       " 7548 2023-08-29  276.500000  279.329987  276.049988  278.929993  518800   \n",
       " 7549 2023-08-30  279.359985  281.200012  278.890015  281.000000  595700   \n",
       " 7550 2023-08-31  280.820007  280.820007  275.910004  276.380005  899100   \n",
       " 7551 2023-09-01  277.980011  278.720001  274.760010  275.799988  482500   \n",
       " 7552 2023-09-05  275.179993  275.760010  271.089996  271.190002  687700   \n",
       " \n",
       "       Dividends  Stock Splits  \n",
       " 7053        0.0             0  \n",
       " 7054        0.0             0  \n",
       " 7055        0.0             0  \n",
       " 7056        2.0             0  \n",
       " 7057        0.0             0  \n",
       " ...         ...           ...  \n",
       " 7548        0.0             0  \n",
       " 7549        0.0             0  \n",
       " 7550        0.0             0  \n",
       " 7551        0.0             0  \n",
       " 7552        0.0             0  \n",
       " \n",
       " [500 rows x 8 columns],\n",
       " 'SPG':            Date        Open        High         Low       Close   Volume  \\\n",
       " 6984 2021-09-09  118.057315  119.312379  117.344011  117.957993  1598800   \n",
       " 6985 2021-09-10  118.526835  118.562945  115.474947  115.483978  1879800   \n",
       " 6986 2021-09-13  117.082174  119.068604  115.890321  118.391411  1843600   \n",
       " 6987 2021-09-14  118.689367  119.176954  116.188264  116.982841  1291700   \n",
       " 6988 2021-09-15  116.910598  119.158884  116.197295  118.418480  1560900   \n",
       " ...         ...         ...         ...         ...         ...      ...   \n",
       " 7479 2023-08-29  111.680000  113.589996  111.000000  113.529999  1085900   \n",
       " 7480 2023-08-30  113.550003  114.320000  112.639999  113.510002   774600   \n",
       " 7481 2023-08-31  113.419998  113.860001  112.790001  113.489998  1573400   \n",
       " 7482 2023-09-01  114.360001  115.209999  114.330002  114.910004  1306000   \n",
       " 7483 2023-09-05  114.800003  115.570000  114.389999  114.940002  2187400   \n",
       " \n",
       "       Dividends  Stock Splits  \n",
       " 6984        0.0           0.0  \n",
       " 6985        0.0           0.0  \n",
       " 6986        0.0           0.0  \n",
       " 6987        0.0           0.0  \n",
       " 6988        0.0           0.0  \n",
       " ...         ...           ...  \n",
       " 7479        0.0           0.0  \n",
       " 7480        0.0           0.0  \n",
       " 7481        0.0           0.0  \n",
       " 7482        0.0           0.0  \n",
       " 7483        0.0           0.0  \n",
       " \n",
       " [500 rows x 8 columns],\n",
       " 'DLR':            Date        Open        High         Low       Close   Volume  \\\n",
       " 4244 2021-09-09  147.271294  148.483592  145.994210  146.105270  5111700   \n",
       " 4245 2021-09-10  146.373665  147.123252  143.615917  143.782486  2428000   \n",
       " 4246 2021-09-13  144.421031  145.115096  142.144506  143.171722  1617900   \n",
       " 4247 2021-09-14  143.470064  144.290590  142.882654  143.787094  1077300   \n",
       " 4248 2021-09-15  143.731159  146.164752  143.386171  145.474777  1695700   \n",
       " ...         ...         ...         ...         ...         ...      ...   \n",
       " 4739 2023-08-29  127.180000  130.429993  126.389999  130.369995  1529100   \n",
       " 4740 2023-08-30  129.839996  131.970001  129.839996  131.660004  1617500   \n",
       " 4741 2023-08-31  131.679993  132.250000  130.949997  131.720001  2004500   \n",
       " 4742 2023-09-01  132.619995  133.389999  131.139999  132.110001  1248300   \n",
       " 4743 2023-09-05  131.979996  132.050003  129.839996  130.699997  2268800   \n",
       " \n",
       "       Dividends  Stock Splits  \n",
       " 4244       0.00             0  \n",
       " 4245       0.00             0  \n",
       " 4246       0.00             0  \n",
       " 4247       1.16             0  \n",
       " 4248       0.00             0  \n",
       " ...         ...           ...  \n",
       " 4739       0.00             0  \n",
       " 4740       0.00             0  \n",
       " 4741       0.00             0  \n",
       " 4742       0.00             0  \n",
       " 4743       0.00             0  \n",
       " \n",
       " [500 rows x 8 columns],\n",
       " 'EQR':            Date       Open       High        Low      Close   Volume  \\\n",
       " 7053 2021-09-09  77.741748  77.881355  76.652825  76.755203  1273700   \n",
       " 7054 2021-09-10  77.015794  77.015794  75.759345  75.768654  1411000   \n",
       " 7055 2021-09-13  76.261923  77.257776  76.085087  76.271225  1338800   \n",
       " 7056 2021-09-14  76.550446  76.866883  75.703502  76.113014  1322400   \n",
       " 7057 2021-09-15  76.168859  76.857585  75.908263  76.299164  1384500   \n",
       " ...         ...        ...        ...        ...        ...      ...   \n",
       " 7548 2023-08-29  64.519997  65.180000  64.150002  65.150002   975600   \n",
       " 7549 2023-08-30  65.349998  65.879997  65.080002  65.500000  1140100   \n",
       " 7550 2023-08-31  65.389999  65.500000  64.750000  64.830002  1677900   \n",
       " 7551 2023-09-01  65.059998  65.150002  63.970001  64.000000  1163100   \n",
       " 7552 2023-09-05  64.720001  64.919998  63.560001  63.799999  1783800   \n",
       " \n",
       "       Dividends  Stock Splits  \n",
       " 7053        0.0             0  \n",
       " 7054        0.0             0  \n",
       " 7055        0.0             0  \n",
       " 7056        0.0             0  \n",
       " 7057        0.0             0  \n",
       " ...         ...           ...  \n",
       " 7548        0.0             0  \n",
       " 7549        0.0             0  \n",
       " 7550        0.0             0  \n",
       " 7551        0.0             0  \n",
       " 7552        0.0             0  \n",
       " \n",
       " [500 rows x 8 columns]}"
      ]
     },
     "execution_count": 101,
     "metadata": {},
     "output_type": "execute_result"
    }
   ],
   "source": [
    "files_array"
   ]
  },
  {
   "cell_type": "code",
   "execution_count": 40,
   "id": "acb1695d",
   "metadata": {},
   "outputs": [
    {
     "name": "stdout",
     "output_type": "stream",
     "text": [
      "(x['Open']+x['Close']+x['High'])/3\n"
     ]
    }
   ],
   "source": [
    "string = '(Open+Close+High)/3'\n",
    "fields = ['Open','Close','High','Low','Volume']\n",
    "def create_expression(string):\n",
    "    for field in fields:\n",
    "        string = string.replace(field,f'x[\\'{field}\\']')\n",
    "    return string\n",
    "\n",
    "print(create_expression(string))"
   ]
  },
  {
   "cell_type": "code",
   "execution_count": 132,
   "id": "b72a513a",
   "metadata": {},
   "outputs": [
    {
     "name": "stdout",
     "output_type": "stream",
     "text": [
      "-x['Volume']\n"
     ]
    }
   ],
   "source": [
    "print(create_expression(r\"-Volume\"))"
   ]
  },
  {
   "cell_type": "code",
   "execution_count": 163,
   "id": "099f7f9d",
   "metadata": {},
   "outputs": [],
   "source": [
    "def day_average(df):\n",
    "    df['Day Ave'] = df.apply(lambda x: (x['Open']+x['Close']+x['High'])/3, axis=1)\n",
    "    return df"
   ]
  },
  {
   "cell_type": "code",
   "execution_count": 157,
   "id": "88cbf556",
   "metadata": {},
   "outputs": [],
   "source": [
    "def returns(df):\n",
    "    df['Yesterday Ave'] = df['Day Ave'].shift()\n",
    "    df['Dod Return'] = (df['Day Ave'] - df['Yesterday Ave'])/abs(df['Yesterday Ave'])\n",
    "    df['Tommorrow Ave'] = df['Day Ave'].shift(-1)\n",
    "    df['2nd Dod Return'] = (df['Tommorrow Ave'] - df['Day Ave'])/abs(df['Day Ave'])\n",
    "    return df"
   ]
  },
  {
   "cell_type": "code",
   "execution_count": 178,
   "id": "1d08a5e5",
   "metadata": {},
   "outputs": [],
   "source": [
    "def alpha_value(df,string):\n",
    "    df['Alpha Value'] = df.apply(lambda x: eval(create_expression(string)), axis=1)\n",
    "    return df"
   ]
  },
  {
   "cell_type": "code",
   "execution_count": 213,
   "id": "5a925d89",
   "metadata": {},
   "outputs": [],
   "source": [
    "def calculate_alpha_performance(files_array,alpha_expr):\n",
    "    print(f\"Calculating performance for alpha: {alpha_expr}\")\n",
    "    combi = pd.DataFrame(files_array[next(iter(files_array))].reset_index()['Date']) # get list of dates from any ticker\n",
    "    for key,value in files_array.items():\n",
    "        day_average(value)\n",
    "        returns(value)\n",
    "        dod_return = pd.DataFrame(value[['Date','Dod Return']])\n",
    "        dod_return.rename(columns={'Dod Return':f'{key} Dod Return'},inplace=True)\n",
    "        combi = combi.merge(dod_return,on='Date',how='left')\n",
    "    #print(\"\\nDay on day returns for each ticker:\")\n",
    "    #print(files_array)\n",
    "    #display(combi)\n",
    "    \n",
    "    combination = combi.melt(['Date'], var_name='Ticker', value_name='Dod Return') #need to double melt 2nd dod return\n",
    "    combination.sort_values('Date', inplace=True)\n",
    "    combination.dropna(inplace=True)\n",
    "    #print(\"\\nTranspose df:\")\n",
    "    #display(combination)\n",
    "    \n",
    "    combi2 = pd.DataFrame(files_array[next(iter(files_array))].reset_index()['Date'])\n",
    "    for key,value in files_array.items():\n",
    "        day_average(value)\n",
    "        returns(value)\n",
    "        dod_return = pd.DataFrame(value[['Date','2nd Dod Return']])\n",
    "        dod_return.rename(columns={'2nd Dod Return':f'{key} Dod Return'},inplace=True)\n",
    "        combi2 = combi2.merge(dod_return,on='Date',how='left')\n",
    "    \n",
    "    #print(\"\\nDay on day returns for following day for each ticker:\")\n",
    "    #display(combi2)\n",
    "    \n",
    "    combination2 = combi2.melt(['Date'], var_name='Ticker', value_name='2nd Dod Return') #need to double melt 2nd dod return\n",
    "    combination2.sort_values('Date', inplace=True)\n",
    "    combination2.dropna(inplace=True)\n",
    "    #print(\"\\nTranspose df for following day:\")\n",
    "    #display(combination2)\n",
    "    \n",
    "    combi3 = pd.DataFrame(files_array[next(iter(files_array))].reset_index()['Date']) # get list of dates from any ticker\n",
    "    for key,value in files_array.items():\n",
    "        alpha_value(value,alpha_expr)\n",
    "        alpha_return = pd.DataFrame(value[['Date','Alpha Value']])\n",
    "        alpha_return.rename(columns={'Alpha Value':f'{key} Dod Return'},inplace=True)\n",
    "        #print(\"TESTTTT\")\n",
    "        #display(alpha_return)\n",
    "        #display(combi)\n",
    "        combi3 = combi3.merge(alpha_return,on='Date',how='left')\n",
    "    #print(\"COMBI 3\")\n",
    "    #display(combi3)\n",
    "        \n",
    "    #print(\"\\nAlpha value for each ticker:\")\n",
    "    combination4 = combi3.melt(['Date'], var_name='Ticker', value_name='Alpha Value') #need to double melt 2nd dod return\n",
    "    combination4.sort_values('Date', inplace=True)\n",
    "    combination4.dropna(inplace=True)\n",
    "    #print(\"COMBI 4\")\n",
    "    #display(combination4)\n",
    "    \n",
    "    \n",
    "    combination3 = combination.merge(combination2,how='left',on=['Date','Ticker'])\n",
    "    combination3 = combination3.merge(combination4,how='left',on=['Date','Ticker'])\n",
    "    #print(\"\\nMerge both dfs:\")\n",
    "    #display(combination3)\n",
    "    \n",
    "    combination3['Rank'] = combination3.sort_values(['Alpha Value'], ascending=[True]).groupby(['Date']).cumcount() + 1\n",
    "    combination3['Alpha Rank'] = combination3['Rank'].apply(lambda x: x * (1/(len(tickers)-1)) - (1/(len(tickers)-1)))\n",
    "    combination3['Centered 0'] = combination3['Alpha Rank'] - 0.5\n",
    "    combination3['Abs Centered 0'] = abs(combination3['Centered 0'])\n",
    "    combination3['Sum Rank'] = combination3.apply(lambda x: sum(combination3[combination3['Date']==x['Date']]['Abs Centered 0']),axis=1)\n",
    "    combination3['Normalized'] = combination3.apply(lambda x: -x['Abs Centered 0']/x['Sum Rank'] if x['Centered 0'] < 0 else x['Abs Centered 0']/x['Sum Rank'], axis=1)\n",
    "    combination3['Allocated'] = combination3['Normalized'] * 20\n",
    "    combination3['PnL'] = combination3['Allocated'] * combination3['2nd Dod Return']\n",
    "    #print(\"\\nAllocate portfolio based on Alpha Rank:\")\n",
    "    #display(combination3)\n",
    "    \n",
    "    final = combination3[['Date','PnL']]\n",
    "    pnl = final.groupby(['Date']).sum()\n",
    "    pnl['PnL'] = pnl['PnL'].cumsum()\n",
    "    pnl.reset_index(inplace=True)\n",
    "    display(pnl)\n",
    "    pnl.plot(kind='line',x='Date',y='PnL');\n",
    "    \n",
    "    return combination3,pnl\n",
    "    \n",
    "    "
   ]
  },
  {
   "cell_type": "code",
   "execution_count": 130,
   "id": "355a2f01",
   "metadata": {
    "scrolled": false
   },
   "outputs": [
    {
     "name": "stdout",
     "output_type": "stream",
     "text": [
      "Calculating performance for alpha: (Open+Close+High)/3\n"
     ]
    },
    {
     "data": {
      "text/html": [
       "<div>\n",
       "<style scoped>\n",
       "    .dataframe tbody tr th:only-of-type {\n",
       "        vertical-align: middle;\n",
       "    }\n",
       "\n",
       "    .dataframe tbody tr th {\n",
       "        vertical-align: top;\n",
       "    }\n",
       "\n",
       "    .dataframe thead th {\n",
       "        text-align: right;\n",
       "    }\n",
       "</style>\n",
       "<table border=\"1\" class=\"dataframe\">\n",
       "  <thead>\n",
       "    <tr style=\"text-align: right;\">\n",
       "      <th></th>\n",
       "      <th>Date</th>\n",
       "      <th>PnL</th>\n",
       "    </tr>\n",
       "  </thead>\n",
       "  <tbody>\n",
       "    <tr>\n",
       "      <th>0</th>\n",
       "      <td>2021-09-10</td>\n",
       "      <td>-0.001134</td>\n",
       "    </tr>\n",
       "    <tr>\n",
       "      <th>1</th>\n",
       "      <td>2021-09-13</td>\n",
       "      <td>0.052114</td>\n",
       "    </tr>\n",
       "    <tr>\n",
       "      <th>2</th>\n",
       "      <td>2021-09-14</td>\n",
       "      <td>0.022667</td>\n",
       "    </tr>\n",
       "    <tr>\n",
       "      <th>3</th>\n",
       "      <td>2021-09-15</td>\n",
       "      <td>-0.023784</td>\n",
       "    </tr>\n",
       "    <tr>\n",
       "      <th>4</th>\n",
       "      <td>2021-09-16</td>\n",
       "      <td>0.065494</td>\n",
       "    </tr>\n",
       "    <tr>\n",
       "      <th>...</th>\n",
       "      <td>...</td>\n",
       "      <td>...</td>\n",
       "    </tr>\n",
       "    <tr>\n",
       "      <th>494</th>\n",
       "      <td>2023-08-29</td>\n",
       "      <td>25.202594</td>\n",
       "    </tr>\n",
       "    <tr>\n",
       "      <th>495</th>\n",
       "      <td>2023-08-30</td>\n",
       "      <td>25.256671</td>\n",
       "    </tr>\n",
       "    <tr>\n",
       "      <th>496</th>\n",
       "      <td>2023-08-31</td>\n",
       "      <td>25.372666</td>\n",
       "    </tr>\n",
       "    <tr>\n",
       "      <th>497</th>\n",
       "      <td>2023-09-01</td>\n",
       "      <td>25.411918</td>\n",
       "    </tr>\n",
       "    <tr>\n",
       "      <th>498</th>\n",
       "      <td>2023-09-05</td>\n",
       "      <td>25.411918</td>\n",
       "    </tr>\n",
       "  </tbody>\n",
       "</table>\n",
       "<p>499 rows × 2 columns</p>\n",
       "</div>"
      ],
      "text/plain": [
       "          Date        PnL\n",
       "0   2021-09-10  -0.001134\n",
       "1   2021-09-13   0.052114\n",
       "2   2021-09-14   0.022667\n",
       "3   2021-09-15  -0.023784\n",
       "4   2021-09-16   0.065494\n",
       "..         ...        ...\n",
       "494 2023-08-29  25.202594\n",
       "495 2023-08-30  25.256671\n",
       "496 2023-08-31  25.372666\n",
       "497 2023-09-01  25.411918\n",
       "498 2023-09-05  25.411918\n",
       "\n",
       "[499 rows x 2 columns]"
      ]
     },
     "metadata": {},
     "output_type": "display_data"
    },
    {
     "data": {
      "image/png": "[encoded data removed]",
      "text/plain": [
       "<Figure size 640x480 with 1 Axes>"
      ]
     },
     "metadata": {},
     "output_type": "display_data"
    }
   ],
   "source": [
    "resultDf,pnlDf = calculate_alpha_performance(files_array,string)"
   ]
  },
  {
   "cell_type": "markdown",
   "id": "dacd44b8",
   "metadata": {},
   "source": [
    "![pnl_table_formulation.png](attachment:pnl_table_formulation.png)"
   ]
  },
  {
   "cell_type": "code",
   "execution_count": 120,
   "id": "73d16f17",
   "metadata": {},
   "outputs": [
    {
     "data": {
      "text/html": [
       "<div>\n",
       "<style scoped>\n",
       "    .dataframe tbody tr th:only-of-type {\n",
       "        vertical-align: middle;\n",
       "    }\n",
       "\n",
       "    .dataframe tbody tr th {\n",
       "        vertical-align: top;\n",
       "    }\n",
       "\n",
       "    .dataframe thead th {\n",
       "        text-align: right;\n",
       "    }\n",
       "</style>\n",
       "<table border=\"1\" class=\"dataframe\">\n",
       "  <thead>\n",
       "    <tr style=\"text-align: right;\">\n",
       "      <th></th>\n",
       "      <th>Date</th>\n",
       "      <th>PnL</th>\n",
       "    </tr>\n",
       "  </thead>\n",
       "  <tbody>\n",
       "    <tr>\n",
       "      <th>0</th>\n",
       "      <td>2021-09-10</td>\n",
       "      <td>-0.001134</td>\n",
       "    </tr>\n",
       "    <tr>\n",
       "      <th>1</th>\n",
       "      <td>2021-09-13</td>\n",
       "      <td>0.052114</td>\n",
       "    </tr>\n",
       "    <tr>\n",
       "      <th>2</th>\n",
       "      <td>2021-09-14</td>\n",
       "      <td>0.022667</td>\n",
       "    </tr>\n",
       "    <tr>\n",
       "      <th>3</th>\n",
       "      <td>2021-09-15</td>\n",
       "      <td>-0.023784</td>\n",
       "    </tr>\n",
       "    <tr>\n",
       "      <th>4</th>\n",
       "      <td>2021-09-16</td>\n",
       "      <td>0.065494</td>\n",
       "    </tr>\n",
       "    <tr>\n",
       "      <th>...</th>\n",
       "      <td>...</td>\n",
       "      <td>...</td>\n",
       "    </tr>\n",
       "    <tr>\n",
       "      <th>494</th>\n",
       "      <td>2023-08-29</td>\n",
       "      <td>25.202594</td>\n",
       "    </tr>\n",
       "    <tr>\n",
       "      <th>495</th>\n",
       "      <td>2023-08-30</td>\n",
       "      <td>25.256671</td>\n",
       "    </tr>\n",
       "    <tr>\n",
       "      <th>496</th>\n",
       "      <td>2023-08-31</td>\n",
       "      <td>25.372666</td>\n",
       "    </tr>\n",
       "    <tr>\n",
       "      <th>497</th>\n",
       "      <td>2023-09-01</td>\n",
       "      <td>25.411918</td>\n",
       "    </tr>\n",
       "    <tr>\n",
       "      <th>498</th>\n",
       "      <td>2023-09-05</td>\n",
       "      <td>25.411918</td>\n",
       "    </tr>\n",
       "  </tbody>\n",
       "</table>\n",
       "<p>499 rows × 2 columns</p>\n",
       "</div>"
      ],
      "text/plain": [
       "          Date        PnL\n",
       "0   2021-09-10  -0.001134\n",
       "1   2021-09-13   0.052114\n",
       "2   2021-09-14   0.022667\n",
       "3   2021-09-15  -0.023784\n",
       "4   2021-09-16   0.065494\n",
       "..         ...        ...\n",
       "494 2023-08-29  25.202594\n",
       "495 2023-08-30  25.256671\n",
       "496 2023-08-31  25.372666\n",
       "497 2023-09-01  25.411918\n",
       "498 2023-09-05  25.411918\n",
       "\n",
       "[499 rows x 2 columns]"
      ]
     },
     "execution_count": 120,
     "metadata": {},
     "output_type": "execute_result"
    }
   ],
   "source": [
    "pnlDf"
   ]
  },
  {
   "cell_type": "code",
   "execution_count": 209,
   "id": "d65336c0",
   "metadata": {},
   "outputs": [],
   "source": [
    "def objective(files_array,candidate_string):\n",
    "    # Evaluate profit for alpha candidate for 1 year period\n",
    "    resultDf,pnlDf = calculate_alpha_performance(files_array,candidate_string)\n",
    "    one_year_return = pnlDf.iloc[-6,1] - pnlDf.iloc[-365,1]  \n",
    "    six_month_return = pnlDf.iloc[-6,1] - pnlDf.iloc[-180,1]\n",
    "    three_month_return = pnlDf.iloc[-6,1] - pnlDf.iloc[-90,1]  \n",
    "    one_month_return = pnlDf.iloc[-6,1] - pnlDf.iloc[-30,1]  \n",
    "    average_return = (one_month_return + three_month_return + six_month_return + one_year_return)/4\n",
    "    return average_return"
   ]
  },
  {
   "cell_type": "code",
   "execution_count": 216,
   "id": "3ba5dc72",
   "metadata": {
    "scrolled": true
   },
   "outputs": [
    {
     "name": "stdout",
     "output_type": "stream",
     "text": [
      "Calculating performance for alpha: -(High + Low - Open + Close * ((Low + Volume)) + Close + ((Close)) + ((Volume)))\n"
     ]
    },
    {
     "data": {
      "text/html": [
       "<div>\n",
       "<style scoped>\n",
       "    .dataframe tbody tr th:only-of-type {\n",
       "        vertical-align: middle;\n",
       "    }\n",
       "\n",
       "    .dataframe tbody tr th {\n",
       "        vertical-align: top;\n",
       "    }\n",
       "\n",
       "    .dataframe thead th {\n",
       "        text-align: right;\n",
       "    }\n",
       "</style>\n",
       "<table border=\"1\" class=\"dataframe\">\n",
       "  <thead>\n",
       "    <tr style=\"text-align: right;\">\n",
       "      <th></th>\n",
       "      <th>Date</th>\n",
       "      <th>PnL</th>\n",
       "    </tr>\n",
       "  </thead>\n",
       "  <tbody>\n",
       "    <tr>\n",
       "      <th>0</th>\n",
       "      <td>2021-09-10</td>\n",
       "      <td>0.026015</td>\n",
       "    </tr>\n",
       "    <tr>\n",
       "      <th>1</th>\n",
       "      <td>2021-09-13</td>\n",
       "      <td>-0.010106</td>\n",
       "    </tr>\n",
       "    <tr>\n",
       "      <th>2</th>\n",
       "      <td>2021-09-14</td>\n",
       "      <td>-0.034346</td>\n",
       "    </tr>\n",
       "    <tr>\n",
       "      <th>3</th>\n",
       "      <td>2021-09-15</td>\n",
       "      <td>-0.038108</td>\n",
       "    </tr>\n",
       "    <tr>\n",
       "      <th>4</th>\n",
       "      <td>2021-09-16</td>\n",
       "      <td>-0.031955</td>\n",
       "    </tr>\n",
       "    <tr>\n",
       "      <th>...</th>\n",
       "      <td>...</td>\n",
       "      <td>...</td>\n",
       "    </tr>\n",
       "    <tr>\n",
       "      <th>494</th>\n",
       "      <td>2023-08-29</td>\n",
       "      <td>1.650782</td>\n",
       "    </tr>\n",
       "    <tr>\n",
       "      <th>495</th>\n",
       "      <td>2023-08-30</td>\n",
       "      <td>1.630948</td>\n",
       "    </tr>\n",
       "    <tr>\n",
       "      <th>496</th>\n",
       "      <td>2023-08-31</td>\n",
       "      <td>1.621869</td>\n",
       "    </tr>\n",
       "    <tr>\n",
       "      <th>497</th>\n",
       "      <td>2023-09-01</td>\n",
       "      <td>1.636629</td>\n",
       "    </tr>\n",
       "    <tr>\n",
       "      <th>498</th>\n",
       "      <td>2023-09-05</td>\n",
       "      <td>1.636629</td>\n",
       "    </tr>\n",
       "  </tbody>\n",
       "</table>\n",
       "<p>499 rows × 2 columns</p>\n",
       "</div>"
      ],
      "text/plain": [
       "          Date       PnL\n",
       "0   2021-09-10  0.026015\n",
       "1   2021-09-13 -0.010106\n",
       "2   2021-09-14 -0.034346\n",
       "3   2021-09-15 -0.038108\n",
       "4   2021-09-16 -0.031955\n",
       "..         ...       ...\n",
       "494 2023-08-29  1.650782\n",
       "495 2023-08-30  1.630948\n",
       "496 2023-08-31  1.621869\n",
       "497 2023-09-01  1.636629\n",
       "498 2023-09-05  1.636629\n",
       "\n",
       "[499 rows x 2 columns]"
      ]
     },
     "metadata": {},
     "output_type": "display_data"
    },
    {
     "data": {
      "text/plain": [
       "0.6993177755419269"
      ]
     },
     "execution_count": 216,
     "metadata": {},
     "output_type": "execute_result"
    },
    {
     "data": {
      "image/png": "[encoded data removed]",
      "text/plain": [
       "<Figure size 640x480 with 1 Axes>"
      ]
     },
     "metadata": {},
     "output_type": "display_data"
    }
   ],
   "source": [
    "objective(files_array,r\"-(High + Low - Open + Close * ((Low + Volume)) + Close + ((Close)) + ((Volume)))\")"
   ]
  },
  {
   "cell_type": "code",
   "execution_count": null,
   "id": "7ff37028",
   "metadata": {},
   "outputs": [],
   "source": []
  },
  {
   "cell_type": "code",
   "execution_count": null,
   "id": "5be9290b",
   "metadata": {},
   "outputs": [],
   "source": []
  },
  {
   "cell_type": "code",
   "execution_count": null,
   "id": "19991b6e",
   "metadata": {},
   "outputs": [],
   "source": []
  },
  {
   "cell_type": "code",
   "execution_count": null,
   "id": "ba0554c5",
   "metadata": {},
   "outputs": [],
   "source": []
  },
  {
   "cell_type": "code",
   "execution_count": null,
   "id": "a7bbbb64",
   "metadata": {},
   "outputs": [],
   "source": [
    "def permutate(datafields):\n",
    "    randint(0,11)"
   ]
  },
  {
   "cell_type": "code",
   "execution_count": null,
   "id": "2f7d452e",
   "metadata": {},
   "outputs": [],
   "source": []
  },
  {
   "cell_type": "code",
   "execution_count": 76,
   "id": "8fd605ba",
   "metadata": {},
   "outputs": [
    {
     "name": "stdout",
     "output_type": "stream",
     "text": [
      "9\n"
     ]
    }
   ],
   "source": [
    "print()"
   ]
  },
  {
   "cell_type": "code",
   "execution_count": null,
   "id": "49cc53f3",
   "metadata": {},
   "outputs": [],
   "source": [
    "def selection(pop,scores,k=3):\n",
    "    # first random selection\n",
    "    selection_ix = randint(0,len(pop)-1)\n",
    "    for ix in [randint(0,len(pop)-1) for x in range(k-1)]:\n",
    "    # check if better (e.g. perform a tournament)\n",
    "        if scores[ix] < scores[selection_ix]:\n",
    "            selection_ix = ix\n",
    "    return pop[selection_ix]"
   ]
  },
  {
   "cell_type": "code",
   "execution_count": 77,
   "id": "c2db902c",
   "metadata": {},
   "outputs": [],
   "source": [
    "# Possible additions include methods to evaluate expressions and generate\n",
    "# some random expressions.\n",
    "\n",
    "class Expression:\n",
    "    pass\n",
    "\n",
    "class Number(Expression):\n",
    "    def __init__(self, num):\n",
    "        self.num = num\n",
    "\n",
    "    def __str__(self):\n",
    "        return str(self.num)\n",
    "\n",
    "class BinaryExpression(Expression):\n",
    "    def __init__(self, left, op, right):\n",
    "        self.left = left\n",
    "        self.op = op\n",
    "        self.right = right\n",
    "\n",
    "    def __str__(self):\n",
    "        return str(self.left) + \" \" + self.op + \" \"  + str(self.right)\n",
    "\n",
    "class ParenthesizedExpression(Expression):\n",
    "    def __init__(self, exp):\n",
    "        self.exp = exp\n",
    "\n",
    "    def __str__(self):\n",
    "        return \"(\" + str(self.exp) + \")\"\n",
    "\n",
    "e1 = Number(5)"
   ]
  },
  {
   "cell_type": "code",
   "execution_count": 97,
   "id": "d3f9b855",
   "metadata": {
    "scrolled": true
   },
   "outputs": [
    {
     "name": "stdout",
     "output_type": "stream",
     "text": [
      "(((Volume * Close))) + (Volume) + Open * Volume * (Close) + High + (Low)\n",
      "(High + Open)\n",
      "Low - High * ((Close) - Volume)\n",
      "((Low) + Low - ((Close)) / High + Close)\n",
      "((Open))\n",
      "((Volume)) + Close + Low + ((Volume)) - High + (Volume + Low) * Open\n",
      "Close - (Close) / (High) / ((Low))\n",
      "Low * Volume / (Open) * High / Close + High / Close / High\n",
      "(((((Low)))) + Volume)\n",
      "((((Open / Low + Volume * Close - Volume)) * Low / High))\n",
      "(Volume) / High / ((High))\n",
      "(((Open)))\n",
      "(Low - (Close - Open)) * Low + Volume + Open - Close * (High) - Close - Low / Close * Volume * Low - Open / High * High - High / Close\n",
      "(((Low + Low)))\n",
      "Open - Low + ((Close + Volume))\n",
      "((High))\n",
      "Volume * (Close)\n",
      "Open + Low / Volume + Open + Close + (Close) + Low\n",
      "(((Volume) * Low) + (Close * Close * Close) / (High))\n",
      "(Close)\n",
      "(Close - Open) - ((Open * High * Close + Close))\n",
      "(((((Open)))) * Close) * (Volume)\n",
      "((Low / Close * Close / Open))\n",
      "((Volume * Volume + Open) + (High))\n",
      "(Open + (Volume) / ((High) - (Volume) * Volume))\n",
      "(Volume - Open / Volume)\n",
      "(Open) - ((Open))\n",
      "(Close) * (((Close))) + Volume / High * (Low) - Volume\n",
      "(Open * (High / Close)) * (Open) - Open * Close + Low * (Volume)\n",
      "((((Low))))\n",
      "(Volume - Open / (High))\n",
      "(High) - (High) - High - High * Open\n",
      "((Low * (Volume + ((High)) / Close) / Open + (Open))) - ((Low)) / High\n",
      "((Close) - Close * Open + High)\n",
      "(Close * Volume + (High) + Open)\n",
      "(Low - Low - ((Volume)))\n",
      "(Volume) - ((High))\n",
      "((Volume) - (High / Open) + (Volume))\n",
      "(Open - Close)\n",
      "Low / ((High)) + ((Volume * ((Volume / Volume))) / Close) - Low * Close - Close\n",
      "Close - Open * Volume * (Volume) * (Low) - Volume * Close * Open\n",
      "Volume - (Low)\n",
      "(Volume + ((Volume)))\n",
      "((((Open) / (((High / Close + Open / (Open * Low)))))))\n",
      "(Volume)\n",
      "(Close) * Open / Low / (((Volume))) - Open * Open * Low\n",
      "(High)\n",
      "(Open * Volume * Volume) * ((Open))\n",
      "Volume * Volume * (Close) - (((Volume)))\n",
      "(((Low) * (Open) * High) + Open)\n",
      "High - (Open + Open / High) - Close * Volume\n",
      "(Open)\n",
      "((High))\n",
      "((((High))))\n",
      "High + Low - Open + Close * ((Low + Volume)) + Close + ((Close)) + ((Volume))\n",
      "(Low)\n",
      "(((Low + Low) + Close / Low) - (Low) + (Low))\n",
      "Open * (Close)\n",
      "(Close - Low * (Low) - ((High / Open)) + High - (Open))\n",
      "(((Open)) / (Volume))\n",
      "((((Close))) * (Volume) / ((Open)))\n",
      "(Volume / Low / High) + High - Volume * (High) / Volume / Close + (Close) + Low * Low - (Open) * (((Low - Open / Close / Low - High - Volume)))\n",
      "((High))\n",
      "Close / ((Close - Close * Close))\n",
      "(High)\n",
      "(Volume) + Close + (Low)\n",
      "((Open / Volume) + Open - Open * (Volume) / Volume * ((Close - Open)))\n",
      "((Open))\n",
      "(Close)\n",
      "((High)) - (High)\n",
      "(((Close) / Low) + High)\n",
      "(High) * (((Low)) + Low) + ((Volume + Open))\n",
      "(Close) - Volume - Volume * (Low) / (Low / Volume) + High / (Low) - ((Close) - Low * Close)\n",
      "Close + (Low)\n",
      "((High)) / Low\n",
      "((((Volume))) - ((Open)))\n",
      "(Close - (Low) * Volume * High * Volume)\n",
      "(Close)\n",
      "((((((Volume))))))\n",
      "(Close) / Open * (((Close))) / Open - High * Close - High + Low / Close * Volume / (Open) * High / High\n",
      "(((Close)) - Low)\n",
      "(High)\n",
      "((Close - Volume - Low)) / (High + Open) / Open\n",
      "(High * Low)\n",
      "(Volume)\n",
      "(((Low)))\n",
      "(((High) / ((((High) / Volume)))))\n",
      "(High)\n",
      "(Low / Close * Low + ((High)))\n",
      "(Low + Low) - ((Open)) / ((Close))\n",
      "(Low - Low - (High) + Close + (High - Close))\n",
      "Volume + (((Volume) - High))\n",
      "(Volume + Close * Volume + Open + Open - (Close) * (Low) - Open + Low / Close)\n",
      "(Close) / Low - Low * ((Volume - (High / (Low)))) / (((((High)) - Volume * Open))) - (Volume)\n",
      "((Close)) + Open * Volume\n",
      "((Low + High)) / (Open) / High / Close + Volume - (Open)\n",
      "((Close - High))\n",
      "(Close) * (((Open))) * ((Open))\n",
      "((Close))\n",
      "(((Volume)))\n",
      "[<__main__.BinaryExpression object at 0x12da2a350>, <__main__.ParenthesizedExpression object at 0x12da44c90>, <__main__.BinaryExpression object at 0x12c42b850>, <__main__.ParenthesizedExpression object at 0x12da2c950>, <__main__.ParenthesizedExpression object at 0x12bc41650>, <__main__.BinaryExpression object at 0x130451010>, <__main__.BinaryExpression object at 0x130450690>, <__main__.BinaryExpression object at 0x130453f90>, <__main__.ParenthesizedExpression object at 0x130450c50>, <__main__.ParenthesizedExpression object at 0x130450e10>, <__main__.BinaryExpression object at 0x1304523d0>, <__main__.ParenthesizedExpression object at 0x130453090>, <__main__.BinaryExpression object at 0x13036e750>, <__main__.ParenthesizedExpression object at 0x12f813d50>, <__main__.BinaryExpression object at 0x12f813250>, <__main__.ParenthesizedExpression object at 0x12f8128d0>, <__main__.BinaryExpression object at 0x12f813cd0>, <__main__.BinaryExpression object at 0x12f813dd0>, <__main__.ParenthesizedExpression object at 0x12f810490>, <__main__.ParenthesizedExpression object at 0x12f810cd0>, <__main__.BinaryExpression object at 0x12f811f10>, <__main__.BinaryExpression object at 0x12f810550>, <__main__.ParenthesizedExpression object at 0x12f810c10>, <__main__.ParenthesizedExpression object at 0x12f810650>, <__main__.ParenthesizedExpression object at 0x12f810790>, <__main__.ParenthesizedExpression object at 0x12f8117d0>, <__main__.BinaryExpression object at 0x12f811710>, <__main__.BinaryExpression object at 0x12f8101d0>, <__main__.BinaryExpression object at 0x12f810c90>, <__main__.ParenthesizedExpression object at 0x12f811790>, <__main__.ParenthesizedExpression object at 0x12f812b90>, <__main__.BinaryExpression object at 0x12f8124d0>, <__main__.BinaryExpression object at 0x12f812750>, <__main__.ParenthesizedExpression object at 0x12f8138d0>, <__main__.ParenthesizedExpression object at 0x12f8134d0>, <__main__.ParenthesizedExpression object at 0x12f812590>, <__main__.BinaryExpression object at 0x12f813690>, <__main__.ParenthesizedExpression object at 0x12f811e90>, <__main__.ParenthesizedExpression object at 0x12f811f90>, <__main__.BinaryExpression object at 0x12f811b90>, <__main__.BinaryExpression object at 0x12f811950>, <__main__.BinaryExpression object at 0x12f811750>, <__main__.ParenthesizedExpression object at 0x12f8130d0>, <__main__.ParenthesizedExpression object at 0x12f811d50>, <__main__.ParenthesizedExpression object at 0x12f810590>, <__main__.BinaryExpression object at 0x12f818310>, <__main__.ParenthesizedExpression object at 0x12f81a190>, <__main__.BinaryExpression object at 0x12f81b010>, <__main__.BinaryExpression object at 0x12f81ad50>, <__main__.ParenthesizedExpression object at 0x12f81a9d0>, <__main__.BinaryExpression object at 0x12f81aed0>, <__main__.ParenthesizedExpression object at 0x12f81ac50>, <__main__.ParenthesizedExpression object at 0x12f81bbd0>, <__main__.ParenthesizedExpression object at 0x12f818490>, <__main__.BinaryExpression object at 0x12f818e90>, <__main__.ParenthesizedExpression object at 0x12f818150>, <__main__.ParenthesizedExpression object at 0x12f818fd0>, <__main__.BinaryExpression object at 0x12f818790>, <__main__.ParenthesizedExpression object at 0x12f819750>, <__main__.ParenthesizedExpression object at 0x12f81a790>, <__main__.ParenthesizedExpression object at 0x12f818910>, <__main__.BinaryExpression object at 0x12f81a0d0>, <__main__.ParenthesizedExpression object at 0x12f81b2d0>, <__main__.BinaryExpression object at 0x12f81b390>, <__main__.ParenthesizedExpression object at 0x12f819450>, <__main__.BinaryExpression object at 0x12f819cd0>, <__main__.ParenthesizedExpression object at 0x12f819290>, <__main__.ParenthesizedExpression object at 0x12f81b510>, <__main__.ParenthesizedExpression object at 0x130457290>, <__main__.BinaryExpression object at 0x12da29790>, <__main__.ParenthesizedExpression object at 0x12ac83c50>, <__main__.BinaryExpression object at 0x12da25950>, <__main__.BinaryExpression object at 0x12da44ed0>, <__main__.BinaryExpression object at 0x12da456d0>, <__main__.BinaryExpression object at 0x12da46ad0>, <__main__.ParenthesizedExpression object at 0x12da46e10>, <__main__.ParenthesizedExpression object at 0x12da47e90>, <__main__.ParenthesizedExpression object at 0x12da47050>, <__main__.ParenthesizedExpression object at 0x12d914f10>, <__main__.BinaryExpression object at 0x1287058d0>, <__main__.ParenthesizedExpression object at 0x128706a10>, <__main__.ParenthesizedExpression object at 0x128705990>, <__main__.BinaryExpression object at 0x12b9f7f90>, <__main__.ParenthesizedExpression object at 0x12b9f6f50>, <__main__.ParenthesizedExpression object at 0x12b9f6dd0>, <__main__.ParenthesizedExpression object at 0x12b9f73d0>, <__main__.ParenthesizedExpression object at 0x12c411dd0>, <__main__.ParenthesizedExpression object at 0x12c413550>, <__main__.ParenthesizedExpression object at 0x12da375d0>, <__main__.BinaryExpression object at 0x12da346d0>, <__main__.ParenthesizedExpression object at 0x12da35610>, <__main__.BinaryExpression object at 0x12da36d50>, <__main__.ParenthesizedExpression object at 0x12da35150>, <__main__.BinaryExpression object at 0x12da37610>, <__main__.BinaryExpression object at 0x12da34790>, <__main__.BinaryExpression object at 0x12da37810>, <__main__.ParenthesizedExpression object at 0x12da360d0>, <__main__.BinaryExpression object at 0x12da37210>, <__main__.ParenthesizedExpression object at 0x12da34dd0>, <__main__.ParenthesizedExpression object at 0x12da39950>]\n"
     ]
    }
   ],
   "source": [
    "from random import random, randint, choice\n",
    "\n",
    "def randomAlpha(prob,datafields):\n",
    "    p = random()\n",
    "    if p > prob:\n",
    "        return datafields[randint(0, 4)]\n",
    "    elif randint(0, 1) == 0:\n",
    "        return ParenthesizedExpression(randomAlpha(prob / 1.2,datafields))\n",
    "    else:\n",
    "        left = randomAlpha(prob / 1.2,datafields)\n",
    "        op = choice([\"+\", \"-\", \"*\", \"/\"])\n",
    "        right = randomAlpha(prob / 1.2,datafields)\n",
    "        return BinaryExpression(left, op, right)\n",
    "\n",
    "past_alphas = []\n",
    "alphas_to_sim = []\n",
    "for i in range(100):\n",
    "    duplicate = True\n",
    "    while duplicate:\n",
    "        generated = randomAlpha(1,fields)\n",
    "        if generated not in past_alphas:\n",
    "            duplicate = False\n",
    "            past_alphas.append(generated)\n",
    "            print(generated)\n",
    "print(past_alphas)"
   ]
  },
  {
   "cell_type": "code",
   "execution_count": null,
   "id": "02b945c6",
   "metadata": {},
   "outputs": [],
   "source": [
    "# record cost into  (buy-sell)/2 * trading volume (alpha tree)\n",
    "# if the volume keeps going up the volatility will be lower, liquidity higher (start with higher volatility stock)\n",
    "# AAPL. and choose some more larger or smaller companies. 3 large, 3 small 3 medium.\n",
    "# choose the most appropriate alpha signal for each stock, and continuously improve."
   ]
  },
  {
   "cell_type": "code",
   "execution_count": null,
   "id": "cbe4aed7",
   "metadata": {},
   "outputs": [],
   "source": [
    "# dont neccesarily need to buy or sell even if the signal moves. << \n",
    "# mid term: mid risk minimise risk and max profit. (sharpe ratio)\n",
    "# 1. how to optimise portfolio weight\n",
    "# 2. how to trade\n",
    "# 3. measure risk using formulas, if risk increases then buy or sell, if risk is low, can add probability to buy or sell.\n",
    "# if risk is low then quickly buy but if risk is high then buy before change.\n",
    "# High risk, high profit vice versa. \n",
    "\n",
    "# try to get more information beyond yahoofinance, for long term indicators. and fundamental data. Annual return must be more than benchmark. Compare against index \n",
    "\n",
    "#reason for choice of dataset and stocks\n",
    "# follow similiar writing to paper: \n",
    "\n",
    "# sliding window moving average 5 days moving average. 20 / 50 > 2 moving average crossover\n",
    "# genetic algorithm to choose when to buy or sell.\n"
   ]
  },
  {
   "cell_type": "code",
   "execution_count": 2,
   "id": "2bb5e170",
   "metadata": {},
   "outputs": [
    {
     "name": "stderr",
     "output_type": "stream",
     "text": [
      "IOPub data rate exceeded.\n",
      "The notebook server will temporarily stop sending output\n",
      "to the client in order to avoid crashing it.\n",
      "To change this limit, set the config variable\n",
      "`--NotebookApp.iopub_data_rate_limit`.\n",
      "\n",
      "Current values:\n",
      "NotebookApp.iopub_data_rate_limit=1000000.0 (bytes/sec)\n",
      "NotebookApp.rate_limit_window=3.0 (secs)\n",
      "\n"
     ]
    },
    {
     "ename": "RecursionError",
     "evalue": "maximum recursion depth exceeded while calling a Python object",
     "output_type": "error",
     "traceback": [
      "\u001b[0;31m---------------------------------------------------------------------------\u001b[0m",
      "\u001b[0;31mRecursionError\u001b[0m                            Traceback (most recent call last)",
      "Cell \u001b[0;32mIn[2], line 55\u001b[0m\n\u001b[1;32m     52\u001b[0m     \u001b[38;5;28;01mfor\u001b[39;00m child \u001b[38;5;129;01min\u001b[39;00m node\u001b[38;5;241m.\u001b[39mchildren:\n\u001b[1;32m     53\u001b[0m         print_tree(child, depth \u001b[38;5;241m+\u001b[39m \u001b[38;5;241m1\u001b[39m)\n\u001b[0;32m---> 55\u001b[0m print_tree(tree_root)\n",
      "Cell \u001b[0;32mIn[2], line 53\u001b[0m, in \u001b[0;36mprint_tree\u001b[0;34m(node, depth)\u001b[0m\n\u001b[1;32m     51\u001b[0m \u001b[38;5;28mprint\u001b[39m(\u001b[38;5;124m\"\u001b[39m\u001b[38;5;124m  \u001b[39m\u001b[38;5;124m\"\u001b[39m \u001b[38;5;241m*\u001b[39m depth \u001b[38;5;241m+\u001b[39m node\u001b[38;5;241m.\u001b[39mvalue)\n\u001b[1;32m     52\u001b[0m \u001b[38;5;28;01mfor\u001b[39;00m child \u001b[38;5;129;01min\u001b[39;00m node\u001b[38;5;241m.\u001b[39mchildren:\n\u001b[0;32m---> 53\u001b[0m     print_tree(child, depth \u001b[38;5;241m+\u001b[39m \u001b[38;5;241m1\u001b[39m)\n",
      "Cell \u001b[0;32mIn[2], line 53\u001b[0m, in \u001b[0;36mprint_tree\u001b[0;34m(node, depth)\u001b[0m\n\u001b[1;32m     51\u001b[0m \u001b[38;5;28mprint\u001b[39m(\u001b[38;5;124m\"\u001b[39m\u001b[38;5;124m  \u001b[39m\u001b[38;5;124m\"\u001b[39m \u001b[38;5;241m*\u001b[39m depth \u001b[38;5;241m+\u001b[39m node\u001b[38;5;241m.\u001b[39mvalue)\n\u001b[1;32m     52\u001b[0m \u001b[38;5;28;01mfor\u001b[39;00m child \u001b[38;5;129;01min\u001b[39;00m node\u001b[38;5;241m.\u001b[39mchildren:\n\u001b[0;32m---> 53\u001b[0m     print_tree(child, depth \u001b[38;5;241m+\u001b[39m \u001b[38;5;241m1\u001b[39m)\n",
      "    \u001b[0;31m[... skipping similar frames: print_tree at line 53 (2968 times)]\u001b[0m\n",
      "Cell \u001b[0;32mIn[2], line 53\u001b[0m, in \u001b[0;36mprint_tree\u001b[0;34m(node, depth)\u001b[0m\n\u001b[1;32m     51\u001b[0m \u001b[38;5;28mprint\u001b[39m(\u001b[38;5;124m\"\u001b[39m\u001b[38;5;124m  \u001b[39m\u001b[38;5;124m\"\u001b[39m \u001b[38;5;241m*\u001b[39m depth \u001b[38;5;241m+\u001b[39m node\u001b[38;5;241m.\u001b[39mvalue)\n\u001b[1;32m     52\u001b[0m \u001b[38;5;28;01mfor\u001b[39;00m child \u001b[38;5;129;01min\u001b[39;00m node\u001b[38;5;241m.\u001b[39mchildren:\n\u001b[0;32m---> 53\u001b[0m     print_tree(child, depth \u001b[38;5;241m+\u001b[39m \u001b[38;5;241m1\u001b[39m)\n",
      "Cell \u001b[0;32mIn[2], line 51\u001b[0m, in \u001b[0;36mprint_tree\u001b[0;34m(node, depth)\u001b[0m\n\u001b[1;32m     50\u001b[0m \u001b[38;5;28;01mdef\u001b[39;00m \u001b[38;5;21mprint_tree\u001b[39m(node, depth\u001b[38;5;241m=\u001b[39m\u001b[38;5;241m0\u001b[39m):\n\u001b[0;32m---> 51\u001b[0m     \u001b[38;5;28mprint\u001b[39m(\u001b[38;5;124m\"\u001b[39m\u001b[38;5;124m  \u001b[39m\u001b[38;5;124m\"\u001b[39m \u001b[38;5;241m*\u001b[39m depth \u001b[38;5;241m+\u001b[39m node\u001b[38;5;241m.\u001b[39mvalue)\n\u001b[1;32m     52\u001b[0m     \u001b[38;5;28;01mfor\u001b[39;00m child \u001b[38;5;129;01min\u001b[39;00m node\u001b[38;5;241m.\u001b[39mchildren:\n\u001b[1;32m     53\u001b[0m         print_tree(child, depth \u001b[38;5;241m+\u001b[39m \u001b[38;5;241m1\u001b[39m)\n",
      "File \u001b[0;32m~/anaconda3/lib/python3.11/site-packages/ipykernel/iostream.py:635\u001b[0m, in \u001b[0;36mOutStream.write\u001b[0;34m(self, string)\u001b[0m\n\u001b[1;32m    633\u001b[0m     \u001b[38;5;28;01mraise\u001b[39;00m \u001b[38;5;167;01mValueError\u001b[39;00m(msg)\n\u001b[1;32m    634\u001b[0m \u001b[38;5;28;01melse\u001b[39;00m:\n\u001b[0;32m--> 635\u001b[0m     is_child \u001b[38;5;241m=\u001b[39m \u001b[38;5;129;01mnot\u001b[39;00m \u001b[38;5;28mself\u001b[39m\u001b[38;5;241m.\u001b[39m_is_master_process()\n\u001b[1;32m    636\u001b[0m     \u001b[38;5;66;03m# only touch the buffer in the IO thread to avoid races\u001b[39;00m\n\u001b[1;32m    637\u001b[0m     \u001b[38;5;28;01mwith\u001b[39;00m \u001b[38;5;28mself\u001b[39m\u001b[38;5;241m.\u001b[39m_buffer_lock:\n",
      "File \u001b[0;32m~/anaconda3/lib/python3.11/site-packages/ipykernel/iostream.py:506\u001b[0m, in \u001b[0;36mOutStream._is_master_process\u001b[0;34m(self)\u001b[0m\n\u001b[1;32m    505\u001b[0m \u001b[38;5;28;01mdef\u001b[39;00m \u001b[38;5;21m_is_master_process\u001b[39m(\u001b[38;5;28mself\u001b[39m):\n\u001b[0;32m--> 506\u001b[0m     \u001b[38;5;28;01mreturn\u001b[39;00m os\u001b[38;5;241m.\u001b[39mgetpid() \u001b[38;5;241m==\u001b[39m \u001b[38;5;28mself\u001b[39m\u001b[38;5;241m.\u001b[39m_master_pid\n",
      "\u001b[0;31mRecursionError\u001b[0m: maximum recursion depth exceeded while calling a Python object"
     ]
    }
   ],
   "source": [
    "import re\n",
    "\n",
    "class Node:\n",
    "    def __init__(self, value):\n",
    "        self.value = value\n",
    "        self.children = []\n",
    "\n",
    "def parse_arithmetic(expression):\n",
    "    tokens = re.findall(r'\\w+|[()+\\-*\\/]', expression)\n",
    "\n",
    "    def parse_expression(tokens):\n",
    "        node = parse_term(tokens)\n",
    "\n",
    "        while tokens and tokens[0] in ['+', '-']:\n",
    "            operator = tokens.pop(0)\n",
    "            right = parse_term(tokens)\n",
    "            node = Node(operator)\n",
    "            node.children.extend([node, right])\n",
    "\n",
    "        return node\n",
    "\n",
    "    def parse_term(tokens):\n",
    "        node = parse_factor(tokens)\n",
    "\n",
    "        while tokens and tokens[0] in ['*', '/']:\n",
    "            operator = tokens.pop(0)\n",
    "            right = parse_factor(tokens)\n",
    "            node = Node(operator)\n",
    "            node.children.extend([node, right])\n",
    "\n",
    "        return node\n",
    "\n",
    "    def parse_factor(tokens):\n",
    "        token = tokens.pop(0)\n",
    "\n",
    "        if token == '(':\n",
    "            node = parse_expression(tokens)\n",
    "            tokens.pop(0)  # Consume ')'\n",
    "            return node\n",
    "        else:\n",
    "            return Node(token)\n",
    "\n",
    "    return parse_expression(tokens)\n",
    "\n",
    "# Example usage\n",
    "arithmetic_expression = \"a*b+c*(d*(g-f))\"\n",
    "tree_root = parse_arithmetic(arithmetic_expression)\n",
    "\n",
    "# Helper function to visualize the tree\n",
    "def print_tree(node, depth=0):\n",
    "    print(\"  \" * depth + node.value)\n",
    "    for child in node.children:\n",
    "        print_tree(child, depth + 1)\n",
    "\n",
    "print_tree(tree_root)"
   ]
  },
  {
   "cell_type": "code",
   "execution_count": null,
   "id": "23dd078e",
   "metadata": {},
   "outputs": [],
   "source": [
    "https://www.educative.io/answers/how-to-represent-a-mathematical-expression-using-the-parse-tree\n",
    "    \n",
    "# 1. implement the parse tree\n",
    "# 2. randomly select a break point to break the tree and rejoin\n",
    "# 3. complete the code that tests the data."
   ]
  },
  {
   "cell_type": "code",
   "execution_count": null,
   "id": "efecf00b",
   "metadata": {},
   "outputs": [],
   "source": [
    "class Node:\n",
    "    def __init__(self, value, parent):\n",
    "        self.value = value\n",
    "        self.children = []\n",
    "        self.parent = \"\""
   ]
  },
  {
   "cell_type": "code",
   "execution_count": 4,
   "id": "86bc287d",
   "metadata": {},
   "outputs": [
    {
     "name": "stdout",
     "output_type": "stream",
     "text": [
      "( ( Open / Volume )  + Open - Open *  ( Volume )  / Volume * ( ( Close - Open ) ) ) \n"
     ]
    }
   ],
   "source": [
    "import re\n",
    "\n",
    "def add_spaces_around_brackets(expression):\n",
    "    # Add a space before and after every open or close bracket\n",
    "    modified_expression = re.sub(r'(?<=\\w)([()])|([()])(?=\\w|$)', r' \\1\\2 ', expression)\n",
    "\n",
    "    return modified_expression\n",
    "\n",
    "# Example usage\n",
    "input_expression = \"((Open / Volume) + Open - Open * (Volume) / Volume * ((Close - Open)))\"\n",
    "result = add_spaces_around_brackets(input_expression)\n",
    "\n",
    "print(result)"
   ]
  },
  {
   "cell_type": "code",
   "execution_count": 8,
   "id": "7f8f4dfd",
   "metadata": {
    "scrolled": true
   },
   "outputs": [
    {
     "name": "stdout",
     "output_type": "stream",
     "text": [
      "3\n",
      "*\n"
     ]
    }
   ],
   "source": [
    "class Node:\n",
    "    def __init__(self, value):\n",
    "        self.value = value\n",
    "        self.children = []\n",
    "\n",
    "def parse_expression(tokens):\n",
    "    node = parse_term(tokens)\n",
    "\n",
    "    while tokens and tokens[0] in ['+', '-']:\n",
    "        operator = tokens.pop(0)\n",
    "        right = parse_term(tokens)\n",
    "        new_node = Node(operator)\n",
    "        new_node.children.extend([node, right])\n",
    "        node = new_node\n",
    "\n",
    "    return node\n",
    "\n",
    "def parse_term(tokens):\n",
    "    node = parse_factor(tokens)\n",
    "\n",
    "    while tokens and tokens[0] in ['*', '/']:\n",
    "        operator = tokens.pop(0)\n",
    "        right = parse_factor(tokens)\n",
    "        new_node = Node(operator)\n",
    "        new_node.children.extend([node, right])\n",
    "        node = new_node\n",
    "\n",
    "    return node\n",
    "\n",
    "def parse_factor(tokens):\n",
    "    token = tokens.pop(0)\n",
    "\n",
    "    if token.isdigit():\n",
    "        return Node(token)\n",
    "    elif token == '(':\n",
    "        node = parse_expression(tokens)\n",
    "        tokens.pop(0)  # Consume ')'\n",
    "        return node\n",
    "\n",
    "def parse_math_expression(expression):\n",
    "    tokens = expression.replace('(', ' ( ').replace(')', ' ) ').split()\n",
    "    return parse_expression(tokens)\n",
    "\n",
    "# Example usage\n",
    "math_expression = \"3 + 5 * ( 2 - 8 )\"\n",
    "parse_tree_root = parse_math_expression(math_expression)\n",
    "\n",
    "# Helper function to visualize the tree\n",
    "def print_tree(node, depth=0):\n",
    "    print(\"  \" * depth + str(node.value))\n",
    "    for child in node.children:\n",
    "        print_tree(child, depth + 1)\n",
    "\n",
    "for child in parse_tree_root.children:\n",
    "    print(child.value)"
   ]
  },
  {
   "cell_type": "code",
   "execution_count": 15,
   "id": "b4b679ca",
   "metadata": {},
   "outputs": [],
   "source": [
    "def print_vertical_tree(node, level=0, prefix=\"Root: \"):\n",
    "    if node is not None:\n",
    "        print(\" \" * (level * 4) + prefix + str(node.value))\n",
    "        if node.children:\n",
    "            print(\" \" * (level * 4) + \"|\")\n",
    "            for child in node.children[:-1]:\n",
    "                print_vertical_tree(child, level, prefix=\"\")\n",
    "                print(\" \" * (level * 4) + \"|\")\n",
    "            print_vertical_tree(node.children[-1], level, prefix=\"\")"
   ]
  },
  {
   "cell_type": "code",
   "execution_count": 20,
   "id": "f345f511",
   "metadata": {},
   "outputs": [
    {
     "name": "stdout",
     "output_type": "stream",
     "text": [
      "Collecting treelib\n",
      "  Obtaining dependency information for treelib from https://files.pythonhosted.org/packages/74/93/0944bb5ade972a5ef2dd9211a20730081ed2833024239171807d7a9bd4b0/treelib-1.7.0-py3-none-any.whl.metadata\n",
      "  Downloading treelib-1.7.0-py3-none-any.whl.metadata (1.3 kB)\n",
      "Requirement already satisfied: six in /Users/joykwok/anaconda3/lib/python3.11/site-packages (from treelib) (1.16.0)\n",
      "Downloading treelib-1.7.0-py3-none-any.whl (18 kB)\n",
      "Installing collected packages: treelib\n",
      "Successfully installed treelib-1.7.0\n"
     ]
    }
   ],
   "source": [
    "!pip3 install treelib"
   ]
  },
  {
   "cell_type": "code",
   "execution_count": 9,
   "id": "8aeae41f",
   "metadata": {},
   "outputs": [
    {
     "name": "stdout",
     "output_type": "stream",
     "text": [
      "+\n",
      "├── *\n",
      "│   ├── -\n",
      "│   │   ├── 2\n",
      "│   │   └── 8\n",
      "│   └── 5\n",
      "└── 3\n",
      "\n"
     ]
    }
   ],
   "source": [
    "from treelib import Node, Tree\n",
    "\n",
    "def build_tree(node, tree, parent=None):\n",
    "    if node is not None:\n",
    "        current_node = tree.create_node(str(node.value), node.value, parent=parent)\n",
    "        for child in node.children:\n",
    "            build_tree(child, tree, parent=current_node.identifier)\n",
    "\n",
    "# Example usage\n",
    "#math_expression = \"3 + 5 * ( 2 - 8 )\"\n",
    "#parse_tree_root = parse_math_expression(math_expression)\n",
    "\n",
    "# Create a tree structure\n",
    "tree = Tree()\n",
    "build_tree(parse_tree_root, tree)\n",
    "\n",
    "# Display the tree\n",
    "tree.show()"
   ]
  },
  {
   "cell_type": "code",
   "execution_count": null,
   "id": "bc9c9583",
   "metadata": {},
   "outputs": [],
   "source": []
  },
  {
   "cell_type": "code",
   "execution_count": null,
   "id": "8cacf025",
   "metadata": {},
   "outputs": [],
   "source": []
  }
 ],
 "metadata": {
  "kernelspec": {
   "display_name": "Python 3 (ipykernel)",
   "language": "python",
   "name": "python3"
  },
  "language_info": {
   "codemirror_mode": {
    "name": "ipython",
    "version": 3
   },
   "file_extension": ".py",
   "mimetype": "text/x-python",
   "name": "python",
   "nbconvert_exporter": "python",
   "pygments_lexer": "ipython3",
   "version": "3.11.5"
  }
 },
 "nbformat": 4,
 "nbformat_minor": 5
}
