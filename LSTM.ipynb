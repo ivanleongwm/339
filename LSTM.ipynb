{
 "cells": [
  {
   "cell_type": "code",
   "execution_count": 1,
   "id": "41ac4553",
   "metadata": {},
   "outputs": [],
   "source": [
    "import pandas as pd\n",
    "import numpy as np\n",
    "import matplotlib.pyplot as plt\n",
    "import torch\n",
    "import torch.nn as nn"
   ]
  },
  {
   "cell_type": "code",
   "execution_count": 2,
   "id": "7232e4f8",
   "metadata": {},
   "outputs": [
    {
     "data": {
      "text/html": [
       "<div>\n",
       "<style scoped>\n",
       "    .dataframe tbody tr th:only-of-type {\n",
       "        vertical-align: middle;\n",
       "    }\n",
       "\n",
       "    .dataframe tbody tr th {\n",
       "        vertical-align: top;\n",
       "    }\n",
       "\n",
       "    .dataframe thead th {\n",
       "        text-align: right;\n",
       "    }\n",
       "</style>\n",
       "<table border=\"1\" class=\"dataframe\">\n",
       "  <thead>\n",
       "    <tr style=\"text-align: right;\">\n",
       "      <th></th>\n",
       "      <th>Unnamed: 0</th>\n",
       "      <th>date</th>\n",
       "      <th>open</th>\n",
       "      <th>high</th>\n",
       "      <th>low</th>\n",
       "      <th>close</th>\n",
       "      <th>adjClose</th>\n",
       "      <th>volume</th>\n",
       "      <th>unadjustedVolume</th>\n",
       "      <th>change</th>\n",
       "      <th>...</th>\n",
       "      <th>returnOnTangibleAssets</th>\n",
       "      <th>revenuePerShare</th>\n",
       "      <th>roe</th>\n",
       "      <th>roic</th>\n",
       "      <th>salesGeneralAndAdministrativeToRevenue</th>\n",
       "      <th>shareholdersEquityPerShare</th>\n",
       "      <th>stockBasedCompensationToRevenue</th>\n",
       "      <th>tangibleAssetValue</th>\n",
       "      <th>tangibleBookValuePerShare</th>\n",
       "      <th>workingCapital</th>\n",
       "    </tr>\n",
       "  </thead>\n",
       "  <tbody>\n",
       "    <tr>\n",
       "      <th>0</th>\n",
       "      <td>21</td>\n",
       "      <td>2023-12-29</td>\n",
       "      <td>134.08</td>\n",
       "      <td>135.04</td>\n",
       "      <td>133.07</td>\n",
       "      <td>133.30</td>\n",
       "      <td>133.30</td>\n",
       "      <td>2938090</td>\n",
       "      <td>2938090</td>\n",
       "      <td>-0.78</td>\n",
       "      <td>...</td>\n",
       "      <td>0.006783</td>\n",
       "      <td>1.983672</td>\n",
       "      <td>0.011864</td>\n",
       "      <td>0.006577</td>\n",
       "      <td>0.050491</td>\n",
       "      <td>55.839752</td>\n",
       "      <td>-0.657998</td>\n",
       "      <td>5.782372e+10</td>\n",
       "      <td>60.713755</td>\n",
       "      <td>-530519000.0</td>\n",
       "    </tr>\n",
       "    <tr>\n",
       "      <th>1</th>\n",
       "      <td>22</td>\n",
       "      <td>2023-12-28</td>\n",
       "      <td>134.10</td>\n",
       "      <td>135.22</td>\n",
       "      <td>133.48</td>\n",
       "      <td>135.19</td>\n",
       "      <td>135.19</td>\n",
       "      <td>1953285</td>\n",
       "      <td>1953285</td>\n",
       "      <td>1.09</td>\n",
       "      <td>...</td>\n",
       "      <td>0.006783</td>\n",
       "      <td>1.983672</td>\n",
       "      <td>0.011864</td>\n",
       "      <td>0.006577</td>\n",
       "      <td>0.050491</td>\n",
       "      <td>55.839752</td>\n",
       "      <td>-0.657998</td>\n",
       "      <td>5.782372e+10</td>\n",
       "      <td>60.713755</td>\n",
       "      <td>-530519000.0</td>\n",
       "    </tr>\n",
       "    <tr>\n",
       "      <th>2</th>\n",
       "      <td>23</td>\n",
       "      <td>2023-12-27</td>\n",
       "      <td>133.86</td>\n",
       "      <td>134.19</td>\n",
       "      <td>132.78</td>\n",
       "      <td>134.18</td>\n",
       "      <td>134.18</td>\n",
       "      <td>2714750</td>\n",
       "      <td>2714750</td>\n",
       "      <td>0.32</td>\n",
       "      <td>...</td>\n",
       "      <td>0.006783</td>\n",
       "      <td>1.983672</td>\n",
       "      <td>0.011864</td>\n",
       "      <td>0.006577</td>\n",
       "      <td>0.050491</td>\n",
       "      <td>55.839752</td>\n",
       "      <td>-0.657998</td>\n",
       "      <td>5.782372e+10</td>\n",
       "      <td>60.713755</td>\n",
       "      <td>-530519000.0</td>\n",
       "    </tr>\n",
       "    <tr>\n",
       "      <th>3</th>\n",
       "      <td>24</td>\n",
       "      <td>2023-12-26</td>\n",
       "      <td>132.46</td>\n",
       "      <td>133.88</td>\n",
       "      <td>132.46</td>\n",
       "      <td>133.46</td>\n",
       "      <td>133.46</td>\n",
       "      <td>1215992</td>\n",
       "      <td>1215992</td>\n",
       "      <td>1.00</td>\n",
       "      <td>...</td>\n",
       "      <td>0.006783</td>\n",
       "      <td>1.983672</td>\n",
       "      <td>0.011864</td>\n",
       "      <td>0.006577</td>\n",
       "      <td>0.050491</td>\n",
       "      <td>55.839752</td>\n",
       "      <td>-0.657998</td>\n",
       "      <td>5.782372e+10</td>\n",
       "      <td>60.713755</td>\n",
       "      <td>-530519000.0</td>\n",
       "    </tr>\n",
       "    <tr>\n",
       "      <th>4</th>\n",
       "      <td>25</td>\n",
       "      <td>2023-12-22</td>\n",
       "      <td>131.07</td>\n",
       "      <td>133.22</td>\n",
       "      <td>130.81</td>\n",
       "      <td>132.40</td>\n",
       "      <td>132.40</td>\n",
       "      <td>2361335</td>\n",
       "      <td>2361335</td>\n",
       "      <td>1.33</td>\n",
       "      <td>...</td>\n",
       "      <td>0.006783</td>\n",
       "      <td>1.983672</td>\n",
       "      <td>0.011864</td>\n",
       "      <td>0.006577</td>\n",
       "      <td>0.050491</td>\n",
       "      <td>55.839752</td>\n",
       "      <td>-0.657998</td>\n",
       "      <td>5.782372e+10</td>\n",
       "      <td>60.713755</td>\n",
       "      <td>-530519000.0</td>\n",
       "    </tr>\n",
       "    <tr>\n",
       "      <th>...</th>\n",
       "      <td>...</td>\n",
       "      <td>...</td>\n",
       "      <td>...</td>\n",
       "      <td>...</td>\n",
       "      <td>...</td>\n",
       "      <td>...</td>\n",
       "      <td>...</td>\n",
       "      <td>...</td>\n",
       "      <td>...</td>\n",
       "      <td>...</td>\n",
       "      <td>...</td>\n",
       "      <td>...</td>\n",
       "      <td>...</td>\n",
       "      <td>...</td>\n",
       "      <td>...</td>\n",
       "      <td>...</td>\n",
       "      <td>...</td>\n",
       "      <td>...</td>\n",
       "      <td>...</td>\n",
       "      <td>...</td>\n",
       "      <td>...</td>\n",
       "    </tr>\n",
       "    <tr>\n",
       "      <th>6265</th>\n",
       "      <td>6286</td>\n",
       "      <td>1999-02-05</td>\n",
       "      <td>21.94</td>\n",
       "      <td>21.94</td>\n",
       "      <td>21.75</td>\n",
       "      <td>21.81</td>\n",
       "      <td>8.17</td>\n",
       "      <td>29500</td>\n",
       "      <td>29500</td>\n",
       "      <td>-0.13</td>\n",
       "      <td>...</td>\n",
       "      <td>0.007578</td>\n",
       "      <td>1.274078</td>\n",
       "      <td>0.015903</td>\n",
       "      <td>0.029531</td>\n",
       "      <td>0.037163</td>\n",
       "      <td>20.482704</td>\n",
       "      <td>0.031496</td>\n",
       "      <td>2.086393e+09</td>\n",
       "      <td>24.260102</td>\n",
       "      <td>33312000.0</td>\n",
       "    </tr>\n",
       "    <tr>\n",
       "      <th>6266</th>\n",
       "      <td>6287</td>\n",
       "      <td>1999-02-04</td>\n",
       "      <td>21.94</td>\n",
       "      <td>22.00</td>\n",
       "      <td>21.88</td>\n",
       "      <td>21.94</td>\n",
       "      <td>8.22</td>\n",
       "      <td>100600</td>\n",
       "      <td>100600</td>\n",
       "      <td>-0.13</td>\n",
       "      <td>...</td>\n",
       "      <td>0.007578</td>\n",
       "      <td>1.274078</td>\n",
       "      <td>0.015903</td>\n",
       "      <td>0.029531</td>\n",
       "      <td>0.037163</td>\n",
       "      <td>20.482704</td>\n",
       "      <td>0.031496</td>\n",
       "      <td>2.086393e+09</td>\n",
       "      <td>24.260102</td>\n",
       "      <td>33312000.0</td>\n",
       "    </tr>\n",
       "    <tr>\n",
       "      <th>6267</th>\n",
       "      <td>6288</td>\n",
       "      <td>1999-02-03</td>\n",
       "      <td>22.06</td>\n",
       "      <td>22.06</td>\n",
       "      <td>21.94</td>\n",
       "      <td>22.00</td>\n",
       "      <td>8.24</td>\n",
       "      <td>33400</td>\n",
       "      <td>33400</td>\n",
       "      <td>-0.06</td>\n",
       "      <td>...</td>\n",
       "      <td>0.007578</td>\n",
       "      <td>1.274078</td>\n",
       "      <td>0.015903</td>\n",
       "      <td>0.029531</td>\n",
       "      <td>0.037163</td>\n",
       "      <td>20.482704</td>\n",
       "      <td>0.031496</td>\n",
       "      <td>2.086393e+09</td>\n",
       "      <td>24.260102</td>\n",
       "      <td>33312000.0</td>\n",
       "    </tr>\n",
       "    <tr>\n",
       "      <th>6268</th>\n",
       "      <td>6289</td>\n",
       "      <td>1999-02-02</td>\n",
       "      <td>21.94</td>\n",
       "      <td>22.06</td>\n",
       "      <td>21.94</td>\n",
       "      <td>22.06</td>\n",
       "      <td>8.26</td>\n",
       "      <td>80600</td>\n",
       "      <td>80600</td>\n",
       "      <td>0.12</td>\n",
       "      <td>...</td>\n",
       "      <td>0.007578</td>\n",
       "      <td>1.274078</td>\n",
       "      <td>0.015903</td>\n",
       "      <td>0.029531</td>\n",
       "      <td>0.037163</td>\n",
       "      <td>20.482704</td>\n",
       "      <td>0.031496</td>\n",
       "      <td>2.086393e+09</td>\n",
       "      <td>24.260102</td>\n",
       "      <td>33312000.0</td>\n",
       "    </tr>\n",
       "    <tr>\n",
       "      <th>6269</th>\n",
       "      <td>6290</td>\n",
       "      <td>1999-02-01</td>\n",
       "      <td>22.00</td>\n",
       "      <td>22.19</td>\n",
       "      <td>22.00</td>\n",
       "      <td>22.06</td>\n",
       "      <td>8.26</td>\n",
       "      <td>84600</td>\n",
       "      <td>84600</td>\n",
       "      <td>0.06</td>\n",
       "      <td>...</td>\n",
       "      <td>0.007578</td>\n",
       "      <td>1.274078</td>\n",
       "      <td>0.015903</td>\n",
       "      <td>0.029531</td>\n",
       "      <td>0.037163</td>\n",
       "      <td>20.482704</td>\n",
       "      <td>0.031496</td>\n",
       "      <td>2.086393e+09</td>\n",
       "      <td>24.260102</td>\n",
       "      <td>33312000.0</td>\n",
       "    </tr>\n",
       "  </tbody>\n",
       "</table>\n",
       "<p>6270 rows × 179 columns</p>\n",
       "</div>"
      ],
      "text/plain": [
       "      Unnamed: 0        date    open    high     low   close  adjClose  \\\n",
       "0             21  2023-12-29  134.08  135.04  133.07  133.30    133.30   \n",
       "1             22  2023-12-28  134.10  135.22  133.48  135.19    135.19   \n",
       "2             23  2023-12-27  133.86  134.19  132.78  134.18    134.18   \n",
       "3             24  2023-12-26  132.46  133.88  132.46  133.46    133.46   \n",
       "4             25  2023-12-22  131.07  133.22  130.81  132.40    132.40   \n",
       "...          ...         ...     ...     ...     ...     ...       ...   \n",
       "6265        6286  1999-02-05   21.94   21.94   21.75   21.81      8.17   \n",
       "6266        6287  1999-02-04   21.94   22.00   21.88   21.94      8.22   \n",
       "6267        6288  1999-02-03   22.06   22.06   21.94   22.00      8.24   \n",
       "6268        6289  1999-02-02   21.94   22.06   21.94   22.06      8.26   \n",
       "6269        6290  1999-02-01   22.00   22.19   22.00   22.06      8.26   \n",
       "\n",
       "       volume  unadjustedVolume  change  ...  returnOnTangibleAssets  \\\n",
       "0     2938090           2938090   -0.78  ...                0.006783   \n",
       "1     1953285           1953285    1.09  ...                0.006783   \n",
       "2     2714750           2714750    0.32  ...                0.006783   \n",
       "3     1215992           1215992    1.00  ...                0.006783   \n",
       "4     2361335           2361335    1.33  ...                0.006783   \n",
       "...       ...               ...     ...  ...                     ...   \n",
       "6265    29500             29500   -0.13  ...                0.007578   \n",
       "6266   100600            100600   -0.13  ...                0.007578   \n",
       "6267    33400             33400   -0.06  ...                0.007578   \n",
       "6268    80600             80600    0.12  ...                0.007578   \n",
       "6269    84600             84600    0.06  ...                0.007578   \n",
       "\n",
       "      revenuePerShare       roe      roic  \\\n",
       "0            1.983672  0.011864  0.006577   \n",
       "1            1.983672  0.011864  0.006577   \n",
       "2            1.983672  0.011864  0.006577   \n",
       "3            1.983672  0.011864  0.006577   \n",
       "4            1.983672  0.011864  0.006577   \n",
       "...               ...       ...       ...   \n",
       "6265         1.274078  0.015903  0.029531   \n",
       "6266         1.274078  0.015903  0.029531   \n",
       "6267         1.274078  0.015903  0.029531   \n",
       "6268         1.274078  0.015903  0.029531   \n",
       "6269         1.274078  0.015903  0.029531   \n",
       "\n",
       "     salesGeneralAndAdministrativeToRevenue  shareholdersEquityPerShare  \\\n",
       "0                                  0.050491                   55.839752   \n",
       "1                                  0.050491                   55.839752   \n",
       "2                                  0.050491                   55.839752   \n",
       "3                                  0.050491                   55.839752   \n",
       "4                                  0.050491                   55.839752   \n",
       "...                                     ...                         ...   \n",
       "6265                               0.037163                   20.482704   \n",
       "6266                               0.037163                   20.482704   \n",
       "6267                               0.037163                   20.482704   \n",
       "6268                               0.037163                   20.482704   \n",
       "6269                               0.037163                   20.482704   \n",
       "\n",
       "     stockBasedCompensationToRevenue  tangibleAssetValue  \\\n",
       "0                          -0.657998        5.782372e+10   \n",
       "1                          -0.657998        5.782372e+10   \n",
       "2                          -0.657998        5.782372e+10   \n",
       "3                          -0.657998        5.782372e+10   \n",
       "4                          -0.657998        5.782372e+10   \n",
       "...                              ...                 ...   \n",
       "6265                        0.031496        2.086393e+09   \n",
       "6266                        0.031496        2.086393e+09   \n",
       "6267                        0.031496        2.086393e+09   \n",
       "6268                        0.031496        2.086393e+09   \n",
       "6269                        0.031496        2.086393e+09   \n",
       "\n",
       "      tangibleBookValuePerShare  workingCapital  \n",
       "0                     60.713755    -530519000.0  \n",
       "1                     60.713755    -530519000.0  \n",
       "2                     60.713755    -530519000.0  \n",
       "3                     60.713755    -530519000.0  \n",
       "4                     60.713755    -530519000.0  \n",
       "...                         ...             ...  \n",
       "6265                  24.260102      33312000.0  \n",
       "6266                  24.260102      33312000.0  \n",
       "6267                  24.260102      33312000.0  \n",
       "6268                  24.260102      33312000.0  \n",
       "6269                  24.260102      33312000.0  \n",
       "\n",
       "[6270 rows x 179 columns]"
      ]
     },
     "execution_count": 2,
     "metadata": {},
     "output_type": "execute_result"
    }
   ],
   "source": [
    "data = pd.read_csv('data/PLD.csv')\n",
    "data"
   ]
  },
  {
   "cell_type": "code",
   "execution_count": 3,
   "id": "f9df081a",
   "metadata": {},
   "outputs": [
    {
     "data": {
      "text/html": [
       "<div>\n",
       "<style scoped>\n",
       "    .dataframe tbody tr th:only-of-type {\n",
       "        vertical-align: middle;\n",
       "    }\n",
       "\n",
       "    .dataframe tbody tr th {\n",
       "        vertical-align: top;\n",
       "    }\n",
       "\n",
       "    .dataframe thead th {\n",
       "        text-align: right;\n",
       "    }\n",
       "</style>\n",
       "<table border=\"1\" class=\"dataframe\">\n",
       "  <thead>\n",
       "    <tr style=\"text-align: right;\">\n",
       "      <th></th>\n",
       "      <th>Date</th>\n",
       "      <th>Close</th>\n",
       "    </tr>\n",
       "  </thead>\n",
       "  <tbody>\n",
       "    <tr>\n",
       "      <th>0</th>\n",
       "      <td>2023-12-29</td>\n",
       "      <td>133.30</td>\n",
       "    </tr>\n",
       "    <tr>\n",
       "      <th>1</th>\n",
       "      <td>2023-12-28</td>\n",
       "      <td>135.19</td>\n",
       "    </tr>\n",
       "    <tr>\n",
       "      <th>2</th>\n",
       "      <td>2023-12-27</td>\n",
       "      <td>134.18</td>\n",
       "    </tr>\n",
       "    <tr>\n",
       "      <th>3</th>\n",
       "      <td>2023-12-26</td>\n",
       "      <td>133.46</td>\n",
       "    </tr>\n",
       "    <tr>\n",
       "      <th>4</th>\n",
       "      <td>2023-12-22</td>\n",
       "      <td>132.40</td>\n",
       "    </tr>\n",
       "    <tr>\n",
       "      <th>...</th>\n",
       "      <td>...</td>\n",
       "      <td>...</td>\n",
       "    </tr>\n",
       "    <tr>\n",
       "      <th>6265</th>\n",
       "      <td>1999-02-05</td>\n",
       "      <td>21.81</td>\n",
       "    </tr>\n",
       "    <tr>\n",
       "      <th>6266</th>\n",
       "      <td>1999-02-04</td>\n",
       "      <td>21.94</td>\n",
       "    </tr>\n",
       "    <tr>\n",
       "      <th>6267</th>\n",
       "      <td>1999-02-03</td>\n",
       "      <td>22.00</td>\n",
       "    </tr>\n",
       "    <tr>\n",
       "      <th>6268</th>\n",
       "      <td>1999-02-02</td>\n",
       "      <td>22.06</td>\n",
       "    </tr>\n",
       "    <tr>\n",
       "      <th>6269</th>\n",
       "      <td>1999-02-01</td>\n",
       "      <td>22.06</td>\n",
       "    </tr>\n",
       "  </tbody>\n",
       "</table>\n",
       "<p>6270 rows × 2 columns</p>\n",
       "</div>"
      ],
      "text/plain": [
       "            Date   Close\n",
       "0     2023-12-29  133.30\n",
       "1     2023-12-28  135.19\n",
       "2     2023-12-27  134.18\n",
       "3     2023-12-26  133.46\n",
       "4     2023-12-22  132.40\n",
       "...          ...     ...\n",
       "6265  1999-02-05   21.81\n",
       "6266  1999-02-04   21.94\n",
       "6267  1999-02-03   22.00\n",
       "6268  1999-02-02   22.06\n",
       "6269  1999-02-01   22.06\n",
       "\n",
       "[6270 rows x 2 columns]"
      ]
     },
     "execution_count": 3,
     "metadata": {},
     "output_type": "execute_result"
    }
   ],
   "source": [
    "data.rename(columns={'date':'Date','close':'Close'},inplace=True)\n",
    "data = data[['Date','Close']]\n",
    "data"
   ]
  },
  {
   "cell_type": "code",
   "execution_count": 4,
   "id": "c6d5c7e8",
   "metadata": {},
   "outputs": [
    {
     "data": {
      "text/plain": [
       "'cpu'"
      ]
     },
     "execution_count": 4,
     "metadata": {},
     "output_type": "execute_result"
    }
   ],
   "source": [
    "device = 'cuda:0' if torch.cuda.is_available() else 'cpu'\n",
    "device"
   ]
  },
  {
   "cell_type": "code",
   "execution_count": 5,
   "id": "f21fdf56",
   "metadata": {},
   "outputs": [
    {
     "name": "stderr",
     "output_type": "stream",
     "text": [
      "/var/folders/f5/msl9m0cs5nxb47jjzhk83z0r0000gn/T/ipykernel_18034/4283412521.py:1: SettingWithCopyWarning: \n",
      "A value is trying to be set on a copy of a slice from a DataFrame.\n",
      "Try using .loc[row_indexer,col_indexer] = value instead\n",
      "\n",
      "See the caveats in the documentation: https://pandas.pydata.org/pandas-docs/stable/user_guide/indexing.html#returning-a-view-versus-a-copy\n",
      "  data['Date'] = pd.to_datetime(data['Date'])\n"
     ]
    },
    {
     "data": {
      "text/plain": [
       "[<matplotlib.lines.Line2D at 0x1294ef390>]"
      ]
     },
     "execution_count": 5,
     "metadata": {},
     "output_type": "execute_result"
    },
    {
     "data": {
      "image/png": "[encoded data removed]",
      "text/plain": [
       "<Figure size 640x480 with 1 Axes>"
      ]
     },
     "metadata": {},
     "output_type": "display_data"
    }
   ],
   "source": [
    "data['Date'] = pd.to_datetime(data['Date'])\n",
    "plt.plot(data['Date'],data['Close'])"
   ]
  },
  {
   "cell_type": "code",
   "execution_count": 6,
   "id": "d570caca",
   "metadata": {},
   "outputs": [
    {
     "data": {
      "text/html": [
       "<div>\n",
       "<style scoped>\n",
       "    .dataframe tbody tr th:only-of-type {\n",
       "        vertical-align: middle;\n",
       "    }\n",
       "\n",
       "    .dataframe tbody tr th {\n",
       "        vertical-align: top;\n",
       "    }\n",
       "\n",
       "    .dataframe thead th {\n",
       "        text-align: right;\n",
       "    }\n",
       "</style>\n",
       "<table border=\"1\" class=\"dataframe\">\n",
       "  <thead>\n",
       "    <tr style=\"text-align: right;\">\n",
       "      <th></th>\n",
       "      <th>Close</th>\n",
       "      <th>Close(t-1)</th>\n",
       "      <th>Close(t-2)</th>\n",
       "      <th>Close(t-3)</th>\n",
       "      <th>Close(t-4)</th>\n",
       "      <th>Close(t-5)</th>\n",
       "      <th>Close(t-6)</th>\n",
       "      <th>Close(t-7)</th>\n",
       "    </tr>\n",
       "    <tr>\n",
       "      <th>Date</th>\n",
       "      <th></th>\n",
       "      <th></th>\n",
       "      <th></th>\n",
       "      <th></th>\n",
       "      <th></th>\n",
       "      <th></th>\n",
       "      <th></th>\n",
       "      <th></th>\n",
       "    </tr>\n",
       "  </thead>\n",
       "  <tbody>\n",
       "    <tr>\n",
       "      <th>2023-12-19</th>\n",
       "      <td>133.75</td>\n",
       "      <td>130.47</td>\n",
       "      <td>130.96</td>\n",
       "      <td>132.40</td>\n",
       "      <td>133.46</td>\n",
       "      <td>134.18</td>\n",
       "      <td>135.19</td>\n",
       "      <td>133.30</td>\n",
       "    </tr>\n",
       "    <tr>\n",
       "      <th>2023-12-18</th>\n",
       "      <td>132.68</td>\n",
       "      <td>133.75</td>\n",
       "      <td>130.47</td>\n",
       "      <td>130.96</td>\n",
       "      <td>132.40</td>\n",
       "      <td>133.46</td>\n",
       "      <td>134.18</td>\n",
       "      <td>135.19</td>\n",
       "    </tr>\n",
       "    <tr>\n",
       "      <th>2023-12-15</th>\n",
       "      <td>134.26</td>\n",
       "      <td>132.68</td>\n",
       "      <td>133.75</td>\n",
       "      <td>130.47</td>\n",
       "      <td>130.96</td>\n",
       "      <td>132.40</td>\n",
       "      <td>133.46</td>\n",
       "      <td>134.18</td>\n",
       "    </tr>\n",
       "    <tr>\n",
       "      <th>2023-12-14</th>\n",
       "      <td>137.12</td>\n",
       "      <td>134.26</td>\n",
       "      <td>132.68</td>\n",
       "      <td>133.75</td>\n",
       "      <td>130.47</td>\n",
       "      <td>130.96</td>\n",
       "      <td>132.40</td>\n",
       "      <td>133.46</td>\n",
       "    </tr>\n",
       "    <tr>\n",
       "      <th>2023-12-13</th>\n",
       "      <td>129.24</td>\n",
       "      <td>137.12</td>\n",
       "      <td>134.26</td>\n",
       "      <td>132.68</td>\n",
       "      <td>133.75</td>\n",
       "      <td>130.47</td>\n",
       "      <td>130.96</td>\n",
       "      <td>132.40</td>\n",
       "    </tr>\n",
       "    <tr>\n",
       "      <th>...</th>\n",
       "      <td>...</td>\n",
       "      <td>...</td>\n",
       "      <td>...</td>\n",
       "      <td>...</td>\n",
       "      <td>...</td>\n",
       "      <td>...</td>\n",
       "      <td>...</td>\n",
       "      <td>...</td>\n",
       "    </tr>\n",
       "    <tr>\n",
       "      <th>1999-02-05</th>\n",
       "      <td>21.81</td>\n",
       "      <td>21.81</td>\n",
       "      <td>21.88</td>\n",
       "      <td>21.06</td>\n",
       "      <td>21.06</td>\n",
       "      <td>20.94</td>\n",
       "      <td>21.00</td>\n",
       "      <td>20.88</td>\n",
       "    </tr>\n",
       "    <tr>\n",
       "      <th>1999-02-04</th>\n",
       "      <td>21.94</td>\n",
       "      <td>21.81</td>\n",
       "      <td>21.81</td>\n",
       "      <td>21.88</td>\n",
       "      <td>21.06</td>\n",
       "      <td>21.06</td>\n",
       "      <td>20.94</td>\n",
       "      <td>21.00</td>\n",
       "    </tr>\n",
       "    <tr>\n",
       "      <th>1999-02-03</th>\n",
       "      <td>22.00</td>\n",
       "      <td>21.94</td>\n",
       "      <td>21.81</td>\n",
       "      <td>21.81</td>\n",
       "      <td>21.88</td>\n",
       "      <td>21.06</td>\n",
       "      <td>21.06</td>\n",
       "      <td>20.94</td>\n",
       "    </tr>\n",
       "    <tr>\n",
       "      <th>1999-02-02</th>\n",
       "      <td>22.06</td>\n",
       "      <td>22.00</td>\n",
       "      <td>21.94</td>\n",
       "      <td>21.81</td>\n",
       "      <td>21.81</td>\n",
       "      <td>21.88</td>\n",
       "      <td>21.06</td>\n",
       "      <td>21.06</td>\n",
       "    </tr>\n",
       "    <tr>\n",
       "      <th>1999-02-01</th>\n",
       "      <td>22.06</td>\n",
       "      <td>22.06</td>\n",
       "      <td>22.00</td>\n",
       "      <td>21.94</td>\n",
       "      <td>21.81</td>\n",
       "      <td>21.81</td>\n",
       "      <td>21.88</td>\n",
       "      <td>21.06</td>\n",
       "    </tr>\n",
       "  </tbody>\n",
       "</table>\n",
       "<p>6263 rows × 8 columns</p>\n",
       "</div>"
      ],
      "text/plain": [
       "             Close  Close(t-1)  Close(t-2)  Close(t-3)  Close(t-4)  \\\n",
       "Date                                                                 \n",
       "2023-12-19  133.75      130.47      130.96      132.40      133.46   \n",
       "2023-12-18  132.68      133.75      130.47      130.96      132.40   \n",
       "2023-12-15  134.26      132.68      133.75      130.47      130.96   \n",
       "2023-12-14  137.12      134.26      132.68      133.75      130.47   \n",
       "2023-12-13  129.24      137.12      134.26      132.68      133.75   \n",
       "...            ...         ...         ...         ...         ...   \n",
       "1999-02-05   21.81       21.81       21.88       21.06       21.06   \n",
       "1999-02-04   21.94       21.81       21.81       21.88       21.06   \n",
       "1999-02-03   22.00       21.94       21.81       21.81       21.88   \n",
       "1999-02-02   22.06       22.00       21.94       21.81       21.81   \n",
       "1999-02-01   22.06       22.06       22.00       21.94       21.81   \n",
       "\n",
       "            Close(t-5)  Close(t-6)  Close(t-7)  \n",
       "Date                                            \n",
       "2023-12-19      134.18      135.19      133.30  \n",
       "2023-12-18      133.46      134.18      135.19  \n",
       "2023-12-15      132.40      133.46      134.18  \n",
       "2023-12-14      130.96      132.40      133.46  \n",
       "2023-12-13      130.47      130.96      132.40  \n",
       "...                ...         ...         ...  \n",
       "1999-02-05       20.94       21.00       20.88  \n",
       "1999-02-04       21.06       20.94       21.00  \n",
       "1999-02-03       21.06       21.06       20.94  \n",
       "1999-02-02       21.88       21.06       21.06  \n",
       "1999-02-01       21.81       21.88       21.06  \n",
       "\n",
       "[6263 rows x 8 columns]"
      ]
     },
     "execution_count": 6,
     "metadata": {},
     "output_type": "execute_result"
    }
   ],
   "source": [
    "from copy import deepcopy as dc\n",
    "def prepare_dataframe_for_lstm(df,n_steps):\n",
    "    df = dc(df)\n",
    "    df['Date'] = pd.to_datetime(df['Date'])\n",
    "    \n",
    "    df.set_index('Date',inplace=True)\n",
    "    \n",
    "    for i in range(1,n_steps+1):\n",
    "        df[f'Close(t-{i})'] = df['Close'].shift(i)\n",
    "    \n",
    "    df.dropna(inplace=True)\n",
    "    \n",
    "    return df\n",
    "\n",
    "lookback = 7\n",
    "shifted_df = prepare_dataframe_for_lstm(data,lookback)\n",
    "shifted_df"
   ]
  },
  {
   "cell_type": "code",
   "execution_count": 7,
   "id": "e0ca82ba",
   "metadata": {
    "scrolled": true
   },
   "outputs": [
    {
     "data": {
      "text/plain": [
       "array([[133.75, 130.47, 130.96, ..., 134.18, 135.19, 133.3 ],\n",
       "       [132.68, 133.75, 130.47, ..., 133.46, 134.18, 135.19],\n",
       "       [134.26, 132.68, 133.75, ..., 132.4 , 133.46, 134.18],\n",
       "       ...,\n",
       "       [ 22.  ,  21.94,  21.81, ...,  21.06,  21.06,  20.94],\n",
       "       [ 22.06,  22.  ,  21.94, ...,  21.88,  21.06,  21.06],\n",
       "       [ 22.06,  22.06,  22.  , ...,  21.81,  21.88,  21.06]])"
      ]
     },
     "execution_count": 7,
     "metadata": {},
     "output_type": "execute_result"
    }
   ],
   "source": [
    "shifted_df_as_np = shifted_df.to_numpy()\n",
    "shifted_df_as_np"
   ]
  },
  {
   "cell_type": "code",
   "execution_count": 8,
   "id": "86fa36ec",
   "metadata": {},
   "outputs": [
    {
     "data": {
      "text/plain": [
       "array([[ 0.51913773,  0.47896381,  0.4849654 , ...,  0.52440443,\n",
       "         0.53677506,  0.51362606],\n",
       "       [ 0.50603221,  0.51913773,  0.47896381, ...,  0.51558577,\n",
       "         0.52440443,  0.53677506],\n",
       "       [ 0.52538429,  0.50603221,  0.51913773, ...,  0.50260273,\n",
       "         0.51558577,  0.52440443],\n",
       "       ...,\n",
       "       [-0.84959275, -0.85032764, -0.8519199 , ..., -0.86110601,\n",
       "        -0.86110601, -0.86257579],\n",
       "       [-0.84885786, -0.84959275, -0.85032764, ..., -0.85106253,\n",
       "        -0.86110601, -0.86110601],\n",
       "       [-0.84885786, -0.84885786, -0.84959275, ..., -0.8519199 ,\n",
       "        -0.85106253, -0.86110601]])"
      ]
     },
     "execution_count": 8,
     "metadata": {},
     "output_type": "execute_result"
    }
   ],
   "source": [
    "from sklearn.preprocessing import MinMaxScaler\n",
    "\n",
    "scaler = MinMaxScaler(feature_range=(-1,1))\n",
    "shifted_df_as_np = scaler.fit_transform(shifted_df_as_np)\n",
    "\n",
    "shifted_df_as_np"
   ]
  },
  {
   "cell_type": "code",
   "execution_count": 9,
   "id": "1b43a5b0",
   "metadata": {},
   "outputs": [
    {
     "data": {
      "text/plain": [
       "((6263, 7), (6263,))"
      ]
     },
     "execution_count": 9,
     "metadata": {},
     "output_type": "execute_result"
    }
   ],
   "source": [
    "x = shifted_df_as_np[:,1:]\n",
    "y = shifted_df_as_np[:,0]\n",
    "x.shape, y.shape"
   ]
  },
  {
   "cell_type": "code",
   "execution_count": 10,
   "id": "ad2873fd",
   "metadata": {},
   "outputs": [
    {
     "data": {
      "text/plain": [
       "array([[ 0.51362606,  0.53677506,  0.52440443, ...,  0.50260273,\n",
       "         0.4849654 ,  0.47896381],\n",
       "       [ 0.53677506,  0.52440443,  0.51558577, ...,  0.4849654 ,\n",
       "         0.47896381,  0.51913773],\n",
       "       [ 0.52440443,  0.51558577,  0.50260273, ...,  0.47896381,\n",
       "         0.51913773,  0.50603221],\n",
       "       ...,\n",
       "       [-0.86257579, -0.86110601, -0.86110601, ..., -0.8519199 ,\n",
       "        -0.8519199 , -0.85032764],\n",
       "       [-0.86110601, -0.86110601, -0.85106253, ..., -0.8519199 ,\n",
       "        -0.85032764, -0.84959275],\n",
       "       [-0.86110601, -0.85106253, -0.8519199 , ..., -0.85032764,\n",
       "        -0.84959275, -0.84885786]])"
      ]
     },
     "execution_count": 10,
     "metadata": {},
     "output_type": "execute_result"
    }
   ],
   "source": [
    "x = dc(np.flip(x,axis=1))\n",
    "x"
   ]
  },
  {
   "cell_type": "code",
   "execution_count": 11,
   "id": "7c86cd5f",
   "metadata": {},
   "outputs": [
    {
     "data": {
      "text/plain": [
       "5949"
      ]
     },
     "execution_count": 11,
     "metadata": {},
     "output_type": "execute_result"
    }
   ],
   "source": [
    "split_index = int(len(x)*0.95)\n",
    "split_index"
   ]
  },
  {
   "cell_type": "code",
   "execution_count": 12,
   "id": "1f75bf53",
   "metadata": {},
   "outputs": [
    {
     "data": {
      "text/plain": [
       "((5949, 7), (314, 7), (5949,), (314,))"
      ]
     },
     "execution_count": 12,
     "metadata": {},
     "output_type": "execute_result"
    }
   ],
   "source": [
    "x_train = x[:split_index]\n",
    "x_test = x[split_index:]\n",
    "\n",
    "y_train = y[:split_index]\n",
    "y_test = y[split_index:]\n",
    "\n",
    "x_train.shape, x_test.shape, y_train.shape, y_test.shape"
   ]
  },
  {
   "cell_type": "code",
   "execution_count": 13,
   "id": "c7fc4c65",
   "metadata": {},
   "outputs": [
    {
     "data": {
      "text/plain": [
       "(torch.Size([5949, 7]),\n",
       " torch.Size([314, 7]),\n",
       " torch.Size([5949]),\n",
       " torch.Size([314]))"
      ]
     },
     "execution_count": 13,
     "metadata": {},
     "output_type": "execute_result"
    }
   ],
   "source": [
    "x_train = torch.tensor(x_train).float()\n",
    "y_train = torch.tensor(y_train).float()\n",
    "x_test = torch.tensor(x_test).float()\n",
    "y_test = torch.tensor(y_test).float()\n",
    "\n",
    "x_train.shape, x_test.shape, y_train.shape, y_test.shape"
   ]
  },
  {
   "cell_type": "code",
   "execution_count": 14,
   "id": "5fa7855d",
   "metadata": {},
   "outputs": [],
   "source": [
    "from torch.utils.data import Dataset\n",
    "\n",
    "class TimeSeriesDataset(Dataset):\n",
    "    def __init__(self,x,y):\n",
    "        self.x = x\n",
    "        self.y = y\n",
    "        \n",
    "    def __len__(self):\n",
    "        return len(self.x)\n",
    "    \n",
    "    def __getitem__(self,i):\n",
    "        return self.x[i], self.y[i]\n",
    "    \n",
    "train_dataset = TimeSeriesDataset(x_train, y_train)\n",
    "test_dataset = TimeSeriesDataset(x_test, y_test)"
   ]
  },
  {
   "cell_type": "code",
   "execution_count": 15,
   "id": "25dca2d3",
   "metadata": {},
   "outputs": [
    {
     "data": {
      "text/plain": [
       "<__main__.TimeSeriesDataset at 0x12c14f3d0>"
      ]
     },
     "execution_count": 15,
     "metadata": {},
     "output_type": "execute_result"
    }
   ],
   "source": [
    "train_dataset"
   ]
  },
  {
   "cell_type": "code",
   "execution_count": 16,
   "id": "09eb1577",
   "metadata": {},
   "outputs": [],
   "source": [
    "from torch.utils.data import DataLoader\n",
    "\n",
    "batch_size = 16\n",
    "train_loader = DataLoader(train_dataset, batch_size=batch_size, shuffle=True)\n",
    "test_loader = DataLoader(test_dataset, batch_size=batch_size, shuffle=False) "
   ]
  },
  {
   "cell_type": "code",
   "execution_count": 17,
   "id": "030281f3",
   "metadata": {},
   "outputs": [
    {
     "name": "stdout",
     "output_type": "stream",
     "text": [
      "torch.Size([16, 7]) torch.Size([16])\n"
     ]
    }
   ],
   "source": [
    "for _, batch in enumerate(train_loader):\n",
    "    x_batch, y_batch = batch[0].to(device), batch[1].to(device)\n",
    "    print(x_batch.shape, y_batch.shape)\n",
    "    break"
   ]
  },
  {
   "cell_type": "code",
   "execution_count": 18,
   "id": "17a1138a",
   "metadata": {},
   "outputs": [
    {
     "data": {
      "text/plain": [
       "LSTM(\n",
       "  (lstm): LSTM(1, 4, batch_first=True)\n",
       "  (fc): Linear(in_features=4, out_features=1, bias=True)\n",
       ")"
      ]
     },
     "execution_count": 18,
     "metadata": {},
     "output_type": "execute_result"
    }
   ],
   "source": [
    "class LSTM(nn.Module):\n",
    "    def __init__(self, input_size, hidden_size, num_stacked_layers):\n",
    "        super().__init__()\n",
    "        self.hidden_size = hidden_size\n",
    "        self.num_stacked_layers = num_stacked_layers\n",
    "\n",
    "        self.lstm = nn.LSTM(input_size, hidden_size, num_stacked_layers, \n",
    "                            batch_first=True)\n",
    "        \n",
    "        self.fc = nn.Linear(hidden_size, 1)\n",
    "\n",
    "    def forward(self, x):\n",
    "        batch_size = x.size(0)\n",
    "        h0 = torch.zeros(self.num_stacked_layers, batch_size, self.hidden_size).to(device)\n",
    "        c0 = torch.zeros(self.num_stacked_layers, batch_size, self.hidden_size).to(device)\n",
    "        \n",
    "        out, _ = self.lstm(x, (h0, c0))\n",
    "        out = self.fc(out[:, -1, :])\n",
    "        return out\n",
    "\n",
    "model = LSTM(1, 4, 1)\n",
    "model.to(device)\n",
    "model"
   ]
  },
  {
   "cell_type": "code",
   "execution_count": 19,
   "id": "2566888b",
   "metadata": {},
   "outputs": [],
   "source": [
    "from IPython.display import display"
   ]
  },
  {
   "cell_type": "code",
   "execution_count": 20,
   "id": "dbd2d5b4",
   "metadata": {},
   "outputs": [],
   "source": [
    "def train_one_epoch():\n",
    "    model.train(True)\n",
    "    print(f'Epoch: {epoch + 1}')\n",
    "    running_loss = 0.0\n",
    "    \n",
    "    for batch_index, batch in enumerate(train_loader):\n",
    "        x_batch, y_batch = batch[0].to(device), batch[1].to(device)\n",
    "        \n",
    "        display(x_batch)\n",
    "        \n",
    "        output = model(x_batch)\n",
    "        loss = loss_function(output, y_batch)\n",
    "        running_loss += loss.item()\n",
    "        \n",
    "        optimizer.zero_grad()\n",
    "        loss.backward()\n",
    "        optimizer.step()\n",
    "\n",
    "        if batch_index % 100 == 99:  # print every 100 batches\n",
    "            avg_loss_across_batches = running_loss / 100\n",
    "            print('Batch {0}, Loss: {1:.3f}'.format(batch_index+1,\n",
    "                                                    avg_loss_across_batches))\n",
    "            running_loss = 0.0\n",
    "    print()"
   ]
  },
  {
   "cell_type": "code",
   "execution_count": 21,
   "id": "4e452e28",
   "metadata": {},
   "outputs": [],
   "source": [
    "def validate_one_epoch():\n",
    "    model.train(False)\n",
    "    running_loss = 0.0\n",
    "    \n",
    "    for batch_index, batch in enumerate(test_loader):\n",
    "        x_batch, y_batch = batch[0].to(device), batch[1].to(device)\n",
    "        \n",
    "        with torch.no_grad():\n",
    "            output = model(x_batch)\n",
    "            loss = loss_function(output, y_batch)\n",
    "            running_loss += loss.item()\n",
    "\n",
    "    avg_loss_across_batches = running_loss / len(test_loader)\n",
    "    \n",
    "    print('Val Loss: {0:.3f}'.format(avg_loss_across_batches))\n",
    "    print('***************************************************')\n",
    "    print()"
   ]
  },
  {
   "cell_type": "code",
   "execution_count": 22,
   "id": "a9159ac6",
   "metadata": {
    "scrolled": false
   },
   "outputs": [
    {
     "name": "stdout",
     "output_type": "stream",
     "text": [
      "Epoch: 1\n"
     ]
    },
    {
     "data": {
      "text/plain": [
       "tensor([[-0.6793, -0.6789, -0.6811, -0.6855, -0.6901, -0.6943, -0.7040],\n",
       "        [ 0.2039,  0.1883,  0.2105,  0.2374,  0.2647,  0.2406,  0.2267],\n",
       "        [-0.5347, -0.5342, -0.5311, -0.5385, -0.5463, -0.5471, -0.5581],\n",
       "        [-0.2177, -0.1942, -0.2218, -0.1347, -0.1039, -0.1494, -0.1675],\n",
       "        [ 0.4787,  0.4597,  0.4692,  0.4543,  0.4492,  0.4474,  0.4442],\n",
       "        [-0.6161, -0.6198, -0.6202, -0.6236, -0.6290, -0.6266, -0.6343],\n",
       "        [ 0.1056,  0.1229,  0.1572,  0.1457,  0.1490,  0.1379,  0.1305],\n",
       "        [-0.7726, -0.7732, -0.7718, -0.7773, -0.7761, -0.7778, -0.7772],\n",
       "        [-0.7815, -0.7847, -0.7810, -0.7828, -0.7810, -0.7795, -0.7706],\n",
       "        [-0.7463, -0.7517, -0.7441, -0.7452, -0.7479, -0.7418, -0.7492],\n",
       "        [-0.3150, -0.3289, -0.3346, -0.3299, -0.3282, -0.3184, -0.3143],\n",
       "        [-0.6849, -0.6800, -0.6846, -0.6889, -0.6893, -0.6977, -0.6929],\n",
       "        [-0.4273, -0.4204, -0.4007, -0.4261, -0.4430, -0.4455, -0.4394],\n",
       "        [-0.6770, -0.6815, -0.6803, -0.6831, -0.6911, -0.6969, -0.6891],\n",
       "        [-0.3494, -0.3447, -0.3407, -0.3658, -0.3750, -0.3703, -0.3791],\n",
       "        [-0.5783, -0.5830, -0.5836, -0.5837, -0.5728, -0.5783, -0.5774]])"
      ]
     },
     "metadata": {},
     "output_type": "display_data"
    },
    {
     "ename": "RuntimeError",
     "evalue": "For unbatched 2-D input, hx and cx should also be 2-D but got (3-D, 3-D) tensors",
     "output_type": "error",
     "traceback": [
      "\u001b[0;31m---------------------------------------------------------------------------\u001b[0m",
      "\u001b[0;31mRuntimeError\u001b[0m                              Traceback (most recent call last)",
      "Cell \u001b[0;32mIn[22], line 7\u001b[0m\n\u001b[1;32m      4\u001b[0m optimizer \u001b[38;5;241m=\u001b[39m torch\u001b[38;5;241m.\u001b[39moptim\u001b[38;5;241m.\u001b[39mAdam(model\u001b[38;5;241m.\u001b[39mparameters(), lr\u001b[38;5;241m=\u001b[39mlearning_rate)\n\u001b[1;32m      6\u001b[0m \u001b[38;5;28;01mfor\u001b[39;00m epoch \u001b[38;5;129;01min\u001b[39;00m \u001b[38;5;28mrange\u001b[39m(num_epochs):\n\u001b[0;32m----> 7\u001b[0m     train_one_epoch()\n\u001b[1;32m      8\u001b[0m     validate_one_epoch()\n",
      "Cell \u001b[0;32mIn[20], line 11\u001b[0m, in \u001b[0;36mtrain_one_epoch\u001b[0;34m()\u001b[0m\n\u001b[1;32m      7\u001b[0m x_batch, y_batch \u001b[38;5;241m=\u001b[39m batch[\u001b[38;5;241m0\u001b[39m]\u001b[38;5;241m.\u001b[39mto(device), batch[\u001b[38;5;241m1\u001b[39m]\u001b[38;5;241m.\u001b[39mto(device)\n\u001b[1;32m      9\u001b[0m display(x_batch)\n\u001b[0;32m---> 11\u001b[0m output \u001b[38;5;241m=\u001b[39m model(x_batch)\n\u001b[1;32m     12\u001b[0m loss \u001b[38;5;241m=\u001b[39m loss_function(output, y_batch)\n\u001b[1;32m     13\u001b[0m running_loss \u001b[38;5;241m+\u001b[39m\u001b[38;5;241m=\u001b[39m loss\u001b[38;5;241m.\u001b[39mitem()\n",
      "File \u001b[0;32m~/anaconda3/lib/python3.11/site-packages/torch/nn/modules/module.py:1518\u001b[0m, in \u001b[0;36mModule._wrapped_call_impl\u001b[0;34m(self, *args, **kwargs)\u001b[0m\n\u001b[1;32m   1516\u001b[0m     \u001b[38;5;28;01mreturn\u001b[39;00m \u001b[38;5;28mself\u001b[39m\u001b[38;5;241m.\u001b[39m_compiled_call_impl(\u001b[38;5;241m*\u001b[39margs, \u001b[38;5;241m*\u001b[39m\u001b[38;5;241m*\u001b[39mkwargs)  \u001b[38;5;66;03m# type: ignore[misc]\u001b[39;00m\n\u001b[1;32m   1517\u001b[0m \u001b[38;5;28;01melse\u001b[39;00m:\n\u001b[0;32m-> 1518\u001b[0m     \u001b[38;5;28;01mreturn\u001b[39;00m \u001b[38;5;28mself\u001b[39m\u001b[38;5;241m.\u001b[39m_call_impl(\u001b[38;5;241m*\u001b[39margs, \u001b[38;5;241m*\u001b[39m\u001b[38;5;241m*\u001b[39mkwargs)\n",
      "File \u001b[0;32m~/anaconda3/lib/python3.11/site-packages/torch/nn/modules/module.py:1527\u001b[0m, in \u001b[0;36mModule._call_impl\u001b[0;34m(self, *args, **kwargs)\u001b[0m\n\u001b[1;32m   1522\u001b[0m \u001b[38;5;66;03m# If we don't have any hooks, we want to skip the rest of the logic in\u001b[39;00m\n\u001b[1;32m   1523\u001b[0m \u001b[38;5;66;03m# this function, and just call forward.\u001b[39;00m\n\u001b[1;32m   1524\u001b[0m \u001b[38;5;28;01mif\u001b[39;00m \u001b[38;5;129;01mnot\u001b[39;00m (\u001b[38;5;28mself\u001b[39m\u001b[38;5;241m.\u001b[39m_backward_hooks \u001b[38;5;129;01mor\u001b[39;00m \u001b[38;5;28mself\u001b[39m\u001b[38;5;241m.\u001b[39m_backward_pre_hooks \u001b[38;5;129;01mor\u001b[39;00m \u001b[38;5;28mself\u001b[39m\u001b[38;5;241m.\u001b[39m_forward_hooks \u001b[38;5;129;01mor\u001b[39;00m \u001b[38;5;28mself\u001b[39m\u001b[38;5;241m.\u001b[39m_forward_pre_hooks\n\u001b[1;32m   1525\u001b[0m         \u001b[38;5;129;01mor\u001b[39;00m _global_backward_pre_hooks \u001b[38;5;129;01mor\u001b[39;00m _global_backward_hooks\n\u001b[1;32m   1526\u001b[0m         \u001b[38;5;129;01mor\u001b[39;00m _global_forward_hooks \u001b[38;5;129;01mor\u001b[39;00m _global_forward_pre_hooks):\n\u001b[0;32m-> 1527\u001b[0m     \u001b[38;5;28;01mreturn\u001b[39;00m forward_call(\u001b[38;5;241m*\u001b[39margs, \u001b[38;5;241m*\u001b[39m\u001b[38;5;241m*\u001b[39mkwargs)\n\u001b[1;32m   1529\u001b[0m \u001b[38;5;28;01mtry\u001b[39;00m:\n\u001b[1;32m   1530\u001b[0m     result \u001b[38;5;241m=\u001b[39m \u001b[38;5;28;01mNone\u001b[39;00m\n",
      "Cell \u001b[0;32mIn[18], line 17\u001b[0m, in \u001b[0;36mLSTM.forward\u001b[0;34m(self, x)\u001b[0m\n\u001b[1;32m     14\u001b[0m h0 \u001b[38;5;241m=\u001b[39m torch\u001b[38;5;241m.\u001b[39mzeros(\u001b[38;5;28mself\u001b[39m\u001b[38;5;241m.\u001b[39mnum_stacked_layers, batch_size, \u001b[38;5;28mself\u001b[39m\u001b[38;5;241m.\u001b[39mhidden_size)\u001b[38;5;241m.\u001b[39mto(device)\n\u001b[1;32m     15\u001b[0m c0 \u001b[38;5;241m=\u001b[39m torch\u001b[38;5;241m.\u001b[39mzeros(\u001b[38;5;28mself\u001b[39m\u001b[38;5;241m.\u001b[39mnum_stacked_layers, batch_size, \u001b[38;5;28mself\u001b[39m\u001b[38;5;241m.\u001b[39mhidden_size)\u001b[38;5;241m.\u001b[39mto(device)\n\u001b[0;32m---> 17\u001b[0m out, _ \u001b[38;5;241m=\u001b[39m \u001b[38;5;28mself\u001b[39m\u001b[38;5;241m.\u001b[39mlstm(x, (h0, c0))\n\u001b[1;32m     18\u001b[0m out \u001b[38;5;241m=\u001b[39m \u001b[38;5;28mself\u001b[39m\u001b[38;5;241m.\u001b[39mfc(out[:, \u001b[38;5;241m-\u001b[39m\u001b[38;5;241m1\u001b[39m, :])\n\u001b[1;32m     19\u001b[0m \u001b[38;5;28;01mreturn\u001b[39;00m out\n",
      "File \u001b[0;32m~/anaconda3/lib/python3.11/site-packages/torch/nn/modules/module.py:1518\u001b[0m, in \u001b[0;36mModule._wrapped_call_impl\u001b[0;34m(self, *args, **kwargs)\u001b[0m\n\u001b[1;32m   1516\u001b[0m     \u001b[38;5;28;01mreturn\u001b[39;00m \u001b[38;5;28mself\u001b[39m\u001b[38;5;241m.\u001b[39m_compiled_call_impl(\u001b[38;5;241m*\u001b[39margs, \u001b[38;5;241m*\u001b[39m\u001b[38;5;241m*\u001b[39mkwargs)  \u001b[38;5;66;03m# type: ignore[misc]\u001b[39;00m\n\u001b[1;32m   1517\u001b[0m \u001b[38;5;28;01melse\u001b[39;00m:\n\u001b[0;32m-> 1518\u001b[0m     \u001b[38;5;28;01mreturn\u001b[39;00m \u001b[38;5;28mself\u001b[39m\u001b[38;5;241m.\u001b[39m_call_impl(\u001b[38;5;241m*\u001b[39margs, \u001b[38;5;241m*\u001b[39m\u001b[38;5;241m*\u001b[39mkwargs)\n",
      "File \u001b[0;32m~/anaconda3/lib/python3.11/site-packages/torch/nn/modules/module.py:1527\u001b[0m, in \u001b[0;36mModule._call_impl\u001b[0;34m(self, *args, **kwargs)\u001b[0m\n\u001b[1;32m   1522\u001b[0m \u001b[38;5;66;03m# If we don't have any hooks, we want to skip the rest of the logic in\u001b[39;00m\n\u001b[1;32m   1523\u001b[0m \u001b[38;5;66;03m# this function, and just call forward.\u001b[39;00m\n\u001b[1;32m   1524\u001b[0m \u001b[38;5;28;01mif\u001b[39;00m \u001b[38;5;129;01mnot\u001b[39;00m (\u001b[38;5;28mself\u001b[39m\u001b[38;5;241m.\u001b[39m_backward_hooks \u001b[38;5;129;01mor\u001b[39;00m \u001b[38;5;28mself\u001b[39m\u001b[38;5;241m.\u001b[39m_backward_pre_hooks \u001b[38;5;129;01mor\u001b[39;00m \u001b[38;5;28mself\u001b[39m\u001b[38;5;241m.\u001b[39m_forward_hooks \u001b[38;5;129;01mor\u001b[39;00m \u001b[38;5;28mself\u001b[39m\u001b[38;5;241m.\u001b[39m_forward_pre_hooks\n\u001b[1;32m   1525\u001b[0m         \u001b[38;5;129;01mor\u001b[39;00m _global_backward_pre_hooks \u001b[38;5;129;01mor\u001b[39;00m _global_backward_hooks\n\u001b[1;32m   1526\u001b[0m         \u001b[38;5;129;01mor\u001b[39;00m _global_forward_hooks \u001b[38;5;129;01mor\u001b[39;00m _global_forward_pre_hooks):\n\u001b[0;32m-> 1527\u001b[0m     \u001b[38;5;28;01mreturn\u001b[39;00m forward_call(\u001b[38;5;241m*\u001b[39margs, \u001b[38;5;241m*\u001b[39m\u001b[38;5;241m*\u001b[39mkwargs)\n\u001b[1;32m   1529\u001b[0m \u001b[38;5;28;01mtry\u001b[39;00m:\n\u001b[1;32m   1530\u001b[0m     result \u001b[38;5;241m=\u001b[39m \u001b[38;5;28;01mNone\u001b[39;00m\n",
      "File \u001b[0;32m~/anaconda3/lib/python3.11/site-packages/torch/nn/modules/rnn.py:871\u001b[0m, in \u001b[0;36mLSTM.forward\u001b[0;34m(self, input, hx)\u001b[0m\n\u001b[1;32m    868\u001b[0m     \u001b[38;5;28;01mif\u001b[39;00m hx[\u001b[38;5;241m0\u001b[39m]\u001b[38;5;241m.\u001b[39mdim() \u001b[38;5;241m!=\u001b[39m \u001b[38;5;241m2\u001b[39m \u001b[38;5;129;01mor\u001b[39;00m hx[\u001b[38;5;241m1\u001b[39m]\u001b[38;5;241m.\u001b[39mdim() \u001b[38;5;241m!=\u001b[39m \u001b[38;5;241m2\u001b[39m:\n\u001b[1;32m    869\u001b[0m         msg \u001b[38;5;241m=\u001b[39m (\u001b[38;5;124m\"\u001b[39m\u001b[38;5;124mFor unbatched 2-D input, hx and cx should \u001b[39m\u001b[38;5;124m\"\u001b[39m\n\u001b[1;32m    870\u001b[0m                \u001b[38;5;124mf\u001b[39m\u001b[38;5;124m\"\u001b[39m\u001b[38;5;124malso be 2-D but got (\u001b[39m\u001b[38;5;132;01m{\u001b[39;00mhx[\u001b[38;5;241m0\u001b[39m]\u001b[38;5;241m.\u001b[39mdim()\u001b[38;5;132;01m}\u001b[39;00m\u001b[38;5;124m-D, \u001b[39m\u001b[38;5;132;01m{\u001b[39;00mhx[\u001b[38;5;241m1\u001b[39m]\u001b[38;5;241m.\u001b[39mdim()\u001b[38;5;132;01m}\u001b[39;00m\u001b[38;5;124m-D) tensors\u001b[39m\u001b[38;5;124m\"\u001b[39m)\n\u001b[0;32m--> 871\u001b[0m         \u001b[38;5;28;01mraise\u001b[39;00m \u001b[38;5;167;01mRuntimeError\u001b[39;00m(msg)\n\u001b[1;32m    872\u001b[0m     hx \u001b[38;5;241m=\u001b[39m (hx[\u001b[38;5;241m0\u001b[39m]\u001b[38;5;241m.\u001b[39munsqueeze(\u001b[38;5;241m1\u001b[39m), hx[\u001b[38;5;241m1\u001b[39m]\u001b[38;5;241m.\u001b[39munsqueeze(\u001b[38;5;241m1\u001b[39m))\n\u001b[1;32m    873\u001b[0m \u001b[38;5;66;03m# Each batch of the hidden state should match the input sequence that\u001b[39;00m\n\u001b[1;32m    874\u001b[0m \u001b[38;5;66;03m# the user believes he/she is passing in.\u001b[39;00m\n",
      "\u001b[0;31mRuntimeError\u001b[0m: For unbatched 2-D input, hx and cx should also be 2-D but got (3-D, 3-D) tensors"
     ]
    }
   ],
   "source": [
    "learning_rate = 0.001\n",
    "num_epochs = 10\n",
    "loss_function = nn.MSELoss()\n",
    "optimizer = torch.optim.Adam(model.parameters(), lr=learning_rate)\n",
    "\n",
    "for epoch in range(num_epochs):\n",
    "    train_one_epoch()\n",
    "    validate_one_epoch()"
   ]
  },
  {
   "cell_type": "code",
   "execution_count": null,
   "id": "270b49b1",
   "metadata": {},
   "outputs": [],
   "source": [
    "with torch.no_grad():\n",
    "    predicted = model(X_train.to(device)).to('cpu').numpy()\n",
    "\n",
    "plt.plot(y_train, label='Actual Close')\n",
    "plt.plot(predicted, label='Predicted Close')\n",
    "plt.xlabel('Day')\n",
    "plt.ylabel('Close')\n",
    "plt.legend()\n",
    "plt.show()\n"
   ]
  },
  {
   "cell_type": "code",
   "execution_count": null,
   "id": "9fe5edbb",
   "metadata": {},
   "outputs": [],
   "source": []
  },
  {
   "cell_type": "code",
   "execution_count": null,
   "id": "980281b0",
   "metadata": {},
   "outputs": [],
   "source": []
  },
  {
   "cell_type": "code",
   "execution_count": null,
   "id": "283882df",
   "metadata": {},
   "outputs": [],
   "source": []
  },
  {
   "cell_type": "code",
   "execution_count": null,
   "id": "6425606e",
   "metadata": {},
   "outputs": [],
   "source": []
  },
  {
   "cell_type": "code",
   "execution_count": 1,
   "id": "02cfa1e6",
   "metadata": {},
   "outputs": [],
   "source": [
    "import pandas as pd\n",
    "import datetime\n",
    "import numpy\n",
    "df = pd.read_csv('msft.csv')"
   ]
  },
  {
   "cell_type": "code",
   "execution_count": 2,
   "id": "e47637c4",
   "metadata": {},
   "outputs": [
    {
     "data": {
      "text/html": [
       "<div>\n",
       "<style scoped>\n",
       "    .dataframe tbody tr th:only-of-type {\n",
       "        vertical-align: middle;\n",
       "    }\n",
       "\n",
       "    .dataframe tbody tr th {\n",
       "        vertical-align: top;\n",
       "    }\n",
       "\n",
       "    .dataframe thead th {\n",
       "        text-align: right;\n",
       "    }\n",
       "</style>\n",
       "<table border=\"1\" class=\"dataframe\">\n",
       "  <thead>\n",
       "    <tr style=\"text-align: right;\">\n",
       "      <th></th>\n",
       "      <th>Date</th>\n",
       "      <th>Open</th>\n",
       "      <th>High</th>\n",
       "      <th>Low</th>\n",
       "      <th>Close</th>\n",
       "      <th>Adj Close</th>\n",
       "      <th>Volume</th>\n",
       "    </tr>\n",
       "  </thead>\n",
       "  <tbody>\n",
       "    <tr>\n",
       "      <th>0</th>\n",
       "      <td>1986-03-14</td>\n",
       "      <td>0.097222</td>\n",
       "      <td>0.102431</td>\n",
       "      <td>0.097222</td>\n",
       "      <td>0.100694</td>\n",
       "      <td>0.062311</td>\n",
       "      <td>308160000</td>\n",
       "    </tr>\n",
       "    <tr>\n",
       "      <th>1</th>\n",
       "      <td>1986-03-17</td>\n",
       "      <td>0.100694</td>\n",
       "      <td>0.103299</td>\n",
       "      <td>0.100694</td>\n",
       "      <td>0.102431</td>\n",
       "      <td>0.063386</td>\n",
       "      <td>133171200</td>\n",
       "    </tr>\n",
       "    <tr>\n",
       "      <th>2</th>\n",
       "      <td>1986-03-18</td>\n",
       "      <td>0.102431</td>\n",
       "      <td>0.103299</td>\n",
       "      <td>0.098958</td>\n",
       "      <td>0.099826</td>\n",
       "      <td>0.061774</td>\n",
       "      <td>67766400</td>\n",
       "    </tr>\n",
       "    <tr>\n",
       "      <th>3</th>\n",
       "      <td>1986-03-19</td>\n",
       "      <td>0.099826</td>\n",
       "      <td>0.100694</td>\n",
       "      <td>0.097222</td>\n",
       "      <td>0.098090</td>\n",
       "      <td>0.060700</td>\n",
       "      <td>47894400</td>\n",
       "    </tr>\n",
       "    <tr>\n",
       "      <th>4</th>\n",
       "      <td>1986-03-20</td>\n",
       "      <td>0.098090</td>\n",
       "      <td>0.098090</td>\n",
       "      <td>0.094618</td>\n",
       "      <td>0.095486</td>\n",
       "      <td>0.059089</td>\n",
       "      <td>58435200</td>\n",
       "    </tr>\n",
       "    <tr>\n",
       "      <th>...</th>\n",
       "      <td>...</td>\n",
       "      <td>...</td>\n",
       "      <td>...</td>\n",
       "      <td>...</td>\n",
       "      <td>...</td>\n",
       "      <td>...</td>\n",
       "      <td>...</td>\n",
       "    </tr>\n",
       "    <tr>\n",
       "      <th>9075</th>\n",
       "      <td>2022-03-16</td>\n",
       "      <td>289.109985</td>\n",
       "      <td>294.570007</td>\n",
       "      <td>283.200012</td>\n",
       "      <td>294.390015</td>\n",
       "      <td>289.156799</td>\n",
       "      <td>37826300</td>\n",
       "    </tr>\n",
       "    <tr>\n",
       "      <th>9076</th>\n",
       "      <td>2022-03-17</td>\n",
       "      <td>293.290009</td>\n",
       "      <td>295.609985</td>\n",
       "      <td>289.369995</td>\n",
       "      <td>295.220001</td>\n",
       "      <td>289.972046</td>\n",
       "      <td>30816600</td>\n",
       "    </tr>\n",
       "    <tr>\n",
       "      <th>9077</th>\n",
       "      <td>2022-03-18</td>\n",
       "      <td>295.369995</td>\n",
       "      <td>301.000000</td>\n",
       "      <td>292.730011</td>\n",
       "      <td>300.429993</td>\n",
       "      <td>295.089386</td>\n",
       "      <td>43390600</td>\n",
       "    </tr>\n",
       "    <tr>\n",
       "      <th>9078</th>\n",
       "      <td>2022-03-21</td>\n",
       "      <td>298.890015</td>\n",
       "      <td>300.140015</td>\n",
       "      <td>294.899994</td>\n",
       "      <td>299.160004</td>\n",
       "      <td>293.841949</td>\n",
       "      <td>28351200</td>\n",
       "    </tr>\n",
       "    <tr>\n",
       "      <th>9079</th>\n",
       "      <td>2022-03-22</td>\n",
       "      <td>299.799988</td>\n",
       "      <td>305.000000</td>\n",
       "      <td>298.769989</td>\n",
       "      <td>304.059998</td>\n",
       "      <td>298.654877</td>\n",
       "      <td>27599700</td>\n",
       "    </tr>\n",
       "  </tbody>\n",
       "</table>\n",
       "<p>9080 rows × 7 columns</p>\n",
       "</div>"
      ],
      "text/plain": [
       "            Date        Open        High         Low       Close   Adj Close  \\\n",
       "0     1986-03-14    0.097222    0.102431    0.097222    0.100694    0.062311   \n",
       "1     1986-03-17    0.100694    0.103299    0.100694    0.102431    0.063386   \n",
       "2     1986-03-18    0.102431    0.103299    0.098958    0.099826    0.061774   \n",
       "3     1986-03-19    0.099826    0.100694    0.097222    0.098090    0.060700   \n",
       "4     1986-03-20    0.098090    0.098090    0.094618    0.095486    0.059089   \n",
       "...          ...         ...         ...         ...         ...         ...   \n",
       "9075  2022-03-16  289.109985  294.570007  283.200012  294.390015  289.156799   \n",
       "9076  2022-03-17  293.290009  295.609985  289.369995  295.220001  289.972046   \n",
       "9077  2022-03-18  295.369995  301.000000  292.730011  300.429993  295.089386   \n",
       "9078  2022-03-21  298.890015  300.140015  294.899994  299.160004  293.841949   \n",
       "9079  2022-03-22  299.799988  305.000000  298.769989  304.059998  298.654877   \n",
       "\n",
       "         Volume  \n",
       "0     308160000  \n",
       "1     133171200  \n",
       "2      67766400  \n",
       "3      47894400  \n",
       "4      58435200  \n",
       "...         ...  \n",
       "9075   37826300  \n",
       "9076   30816600  \n",
       "9077   43390600  \n",
       "9078   28351200  \n",
       "9079   27599700  \n",
       "\n",
       "[9080 rows x 7 columns]"
      ]
     },
     "execution_count": 2,
     "metadata": {},
     "output_type": "execute_result"
    }
   ],
   "source": [
    "df"
   ]
  },
  {
   "cell_type": "code",
   "execution_count": 3,
   "id": "a74e68cb",
   "metadata": {},
   "outputs": [],
   "source": [
    "df = df[['Date','Close']]"
   ]
  },
  {
   "cell_type": "code",
   "execution_count": 4,
   "id": "165d5e58",
   "metadata": {},
   "outputs": [
    {
     "data": {
      "text/plain": [
       "datetime.datetime(1986, 3, 19, 0, 0)"
      ]
     },
     "execution_count": 4,
     "metadata": {},
     "output_type": "execute_result"
    }
   ],
   "source": [
    "def str_to_datetime(s):\n",
    "    split = s.split('-')\n",
    "    year, month, day = int(split[0]), int(split[1]), int(split[2])\n",
    "    return datetime.datetime(year=year, month=month, day=day)\n",
    "\n",
    "datetime_object = str_to_datetime('1986-03-19')\n",
    "datetime_object"
   ]
  },
  {
   "cell_type": "code",
   "execution_count": 5,
   "id": "873cb0cf",
   "metadata": {},
   "outputs": [
    {
     "name": "stderr",
     "output_type": "stream",
     "text": [
      "/var/folders/f5/msl9m0cs5nxb47jjzhk83z0r0000gn/T/ipykernel_11844/3172778012.py:1: SettingWithCopyWarning: \n",
      "A value is trying to be set on a copy of a slice from a DataFrame.\n",
      "Try using .loc[row_indexer,col_indexer] = value instead\n",
      "\n",
      "See the caveats in the documentation: https://pandas.pydata.org/pandas-docs/stable/user_guide/indexing.html#returning-a-view-versus-a-copy\n",
      "  df['Date'] = df['Date'].apply(str_to_datetime)\n"
     ]
    }
   ],
   "source": [
    "df['Date'] = df['Date'].apply(str_to_datetime)"
   ]
  },
  {
   "cell_type": "code",
   "execution_count": 6,
   "id": "477c748a",
   "metadata": {},
   "outputs": [],
   "source": [
    "df.index = df.pop('Date')"
   ]
  },
  {
   "cell_type": "code",
   "execution_count": 7,
   "id": "d0471a0a",
   "metadata": {},
   "outputs": [
    {
     "data": {
      "text/html": [
       "<div>\n",
       "<style scoped>\n",
       "    .dataframe tbody tr th:only-of-type {\n",
       "        vertical-align: middle;\n",
       "    }\n",
       "\n",
       "    .dataframe tbody tr th {\n",
       "        vertical-align: top;\n",
       "    }\n",
       "\n",
       "    .dataframe thead th {\n",
       "        text-align: right;\n",
       "    }\n",
       "</style>\n",
       "<table border=\"1\" class=\"dataframe\">\n",
       "  <thead>\n",
       "    <tr style=\"text-align: right;\">\n",
       "      <th></th>\n",
       "      <th>Close</th>\n",
       "    </tr>\n",
       "    <tr>\n",
       "      <th>Date</th>\n",
       "      <th></th>\n",
       "    </tr>\n",
       "  </thead>\n",
       "  <tbody>\n",
       "    <tr>\n",
       "      <th>1986-03-14</th>\n",
       "      <td>0.100694</td>\n",
       "    </tr>\n",
       "    <tr>\n",
       "      <th>1986-03-17</th>\n",
       "      <td>0.102431</td>\n",
       "    </tr>\n",
       "    <tr>\n",
       "      <th>1986-03-18</th>\n",
       "      <td>0.099826</td>\n",
       "    </tr>\n",
       "    <tr>\n",
       "      <th>1986-03-19</th>\n",
       "      <td>0.098090</td>\n",
       "    </tr>\n",
       "    <tr>\n",
       "      <th>1986-03-20</th>\n",
       "      <td>0.095486</td>\n",
       "    </tr>\n",
       "    <tr>\n",
       "      <th>...</th>\n",
       "      <td>...</td>\n",
       "    </tr>\n",
       "    <tr>\n",
       "      <th>2022-03-16</th>\n",
       "      <td>294.390015</td>\n",
       "    </tr>\n",
       "    <tr>\n",
       "      <th>2022-03-17</th>\n",
       "      <td>295.220001</td>\n",
       "    </tr>\n",
       "    <tr>\n",
       "      <th>2022-03-18</th>\n",
       "      <td>300.429993</td>\n",
       "    </tr>\n",
       "    <tr>\n",
       "      <th>2022-03-21</th>\n",
       "      <td>299.160004</td>\n",
       "    </tr>\n",
       "    <tr>\n",
       "      <th>2022-03-22</th>\n",
       "      <td>304.059998</td>\n",
       "    </tr>\n",
       "  </tbody>\n",
       "</table>\n",
       "<p>9080 rows × 1 columns</p>\n",
       "</div>"
      ],
      "text/plain": [
       "                 Close\n",
       "Date                  \n",
       "1986-03-14    0.100694\n",
       "1986-03-17    0.102431\n",
       "1986-03-18    0.099826\n",
       "1986-03-19    0.098090\n",
       "1986-03-20    0.095486\n",
       "...                ...\n",
       "2022-03-16  294.390015\n",
       "2022-03-17  295.220001\n",
       "2022-03-18  300.429993\n",
       "2022-03-21  299.160004\n",
       "2022-03-22  304.059998\n",
       "\n",
       "[9080 rows x 1 columns]"
      ]
     },
     "execution_count": 7,
     "metadata": {},
     "output_type": "execute_result"
    }
   ],
   "source": [
    "df"
   ]
  },
  {
   "cell_type": "code",
   "execution_count": 8,
   "id": "4b08a440",
   "metadata": {},
   "outputs": [
    {
     "data": {
      "text/plain": [
       "[<matplotlib.lines.Line2D at 0x12f494a50>]"
      ]
     },
     "execution_count": 8,
     "metadata": {},
     "output_type": "execute_result"
    },
    {
     "data": {
      "image/png": "[encoded data removed]",
      "text/plain": [
       "<Figure size 640x480 with 1 Axes>"
      ]
     },
     "metadata": {},
     "output_type": "display_data"
    }
   ],
   "source": [
    "import matplotlib.pyplot as plt\n",
    "plt.plot(df.index, df['Close'])"
   ]
  },
  {
   "cell_type": "code",
   "execution_count": 16,
   "id": "c70b407f",
   "metadata": {},
   "outputs": [],
   "source": [
    "dataframe=df\n",
    "first_date_str='2021-03-21'\n",
    "last_date_str\n",
    "n=3"
   ]
  },
  {
   "cell_type": "code",
   "execution_count": 17,
   "id": "9e1be608",
   "metadata": {},
   "outputs": [],
   "source": [
    "first_date = str_to_datetime(first_date_str)\n",
    "last_date  = str_to_datetime(last_date_str)\n",
    "\n",
    "target_date = first_date\n",
    "\n",
    "dates = []\n",
    "X, Y = [], []\n",
    "\n",
    "last_time = False"
   ]
  },
  {
   "cell_type": "code",
   "execution_count": 13,
   "id": "0c0ce570",
   "metadata": {},
   "outputs": [
    {
     "name": "stderr",
     "output_type": "stream",
     "text": [
      "\n",
      "KeyboardInterrupt\n",
      "\n"
     ]
    }
   ],
   "source": []
  },
  {
   "cell_type": "code",
   "execution_count": 24,
   "id": "8f75456d",
   "metadata": {},
   "outputs": [],
   "source": [
    "df_subset = dataframe.loc[:target_date].tail(3+1)"
   ]
  },
  {
   "cell_type": "code",
   "execution_count": 25,
   "id": "26bd9951",
   "metadata": {},
   "outputs": [
    {
     "data": {
      "text/html": [
       "<div>\n",
       "<style scoped>\n",
       "    .dataframe tbody tr th:only-of-type {\n",
       "        vertical-align: middle;\n",
       "    }\n",
       "\n",
       "    .dataframe tbody tr th {\n",
       "        vertical-align: top;\n",
       "    }\n",
       "\n",
       "    .dataframe thead th {\n",
       "        text-align: right;\n",
       "    }\n",
       "</style>\n",
       "<table border=\"1\" class=\"dataframe\">\n",
       "  <thead>\n",
       "    <tr style=\"text-align: right;\">\n",
       "      <th></th>\n",
       "      <th>Close</th>\n",
       "    </tr>\n",
       "    <tr>\n",
       "      <th>Date</th>\n",
       "      <th></th>\n",
       "    </tr>\n",
       "  </thead>\n",
       "  <tbody>\n",
       "    <tr>\n",
       "      <th>2021-03-16</th>\n",
       "      <td>237.710007</td>\n",
       "    </tr>\n",
       "    <tr>\n",
       "      <th>2021-03-17</th>\n",
       "      <td>237.039993</td>\n",
       "    </tr>\n",
       "    <tr>\n",
       "      <th>2021-03-18</th>\n",
       "      <td>230.720001</td>\n",
       "    </tr>\n",
       "    <tr>\n",
       "      <th>2021-03-19</th>\n",
       "      <td>230.350006</td>\n",
       "    </tr>\n",
       "  </tbody>\n",
       "</table>\n",
       "</div>"
      ],
      "text/plain": [
       "                 Close\n",
       "Date                  \n",
       "2021-03-16  237.710007\n",
       "2021-03-17  237.039993\n",
       "2021-03-18  230.720001\n",
       "2021-03-19  230.350006"
      ]
     },
     "execution_count": 25,
     "metadata": {},
     "output_type": "execute_result"
    }
   ],
   "source": [
    "df_subset"
   ]
  },
  {
   "cell_type": "code",
   "execution_count": null,
   "id": "4321a169",
   "metadata": {},
   "outputs": [],
   "source": []
  },
  {
   "cell_type": "code",
   "execution_count": null,
   "id": "46eb498c",
   "metadata": {},
   "outputs": [],
   "source": []
  },
  {
   "cell_type": "code",
   "execution_count": null,
   "id": "3ad043df",
   "metadata": {},
   "outputs": [],
   "source": []
  },
  {
   "cell_type": "code",
   "execution_count": null,
   "id": "e0ad66c9",
   "metadata": {},
   "outputs": [],
   "source": []
  },
  {
   "cell_type": "code",
   "execution_count": null,
   "id": "69fffcdd",
   "metadata": {},
   "outputs": [],
   "source": []
  },
  {
   "cell_type": "code",
   "execution_count": 10,
   "id": "97a6e592",
   "metadata": {},
   "outputs": [],
   "source": [
    "target_date = str_to_datetime('2021-03-21')"
   ]
  },
  {
   "cell_type": "code",
   "execution_count": 11,
   "id": "8d519a61",
   "metadata": {},
   "outputs": [
    {
     "data": {
      "text/plain": [
       "array([237.710007, 237.039993, 230.720001, 230.350006])"
      ]
     },
     "execution_count": 11,
     "metadata": {},
     "output_type": "execute_result"
    }
   ],
   "source": [
    "df_subset = df.loc[:target_date].tail(3+1)\n",
    "df_subset['Close'].to_numpy()"
   ]
  },
  {
   "cell_type": "code",
   "execution_count": 14,
   "id": "7ec72761",
   "metadata": {},
   "outputs": [],
   "source": [
    "def df_to_windowed_df(dataframe, first_date_str, last_date_str, n=3):\n",
    "    first_date = str_to_datetime(first_date_str)\n",
    "    last_date  = str_to_datetime(last_date_str)\n",
    "    \n",
    "    target_date = first_date\n",
    "    \n",
    "    dates = []\n",
    "    X, Y = [], []\n",
    "    \n",
    "    last_time = False\n",
    "    while True:\n",
    "        df_subset = dataframe.loc[:target_date].tail(n+1)\n",
    "    \n",
    "        if len(df_subset) != n+1:\n",
    "            print(f'Error: Window of size {n} is too large for date {target_date}')\n",
    "            return\n",
    "\n",
    "        values = df_subset['Close'].to_numpy()\n",
    "        x, y = values[:-1], values[-1]\n",
    "\n",
    "        dates.append(target_date)\n",
    "        X.append(x)\n",
    "        Y.append(y)\n",
    "\n",
    "        next_week = dataframe.loc[target_date:target_date+datetime.timedelta(days=7)]\n",
    "        next_datetime_str = str(next_week.head(2).tail(1).index.values[0])\n",
    "        next_date_str = next_datetime_str.split('T')[0]\n",
    "        year_month_day = next_date_str.split('-')\n",
    "        year, month, day = year_month_day\n",
    "        next_date = datetime.datetime(day=int(day), month=int(month), year=int(year))\n",
    "\n",
    "        if last_time:\n",
    "            break\n",
    "\n",
    "        target_date = next_date\n",
    "\n",
    "        if target_date == last_date:\n",
    "            last_time = True\n",
    "    \n",
    "    ret_df = pd.DataFrame({})\n",
    "    ret_df['Target Date'] = dates\n",
    "  \n",
    "    X = np.array(X)\n",
    "    for i in range(0, n):\n",
    "        X[:, i]\n",
    "        ret_df[f'Target-{n-i}'] = X[:, i]\n",
    "  \n",
    "    ret_df['Target'] = Y\n",
    "\n",
    "    return ret_df\n"
   ]
  },
  {
   "cell_type": "code",
   "execution_count": 39,
   "id": "20f90dcc",
   "metadata": {},
   "outputs": [],
   "source": []
  },
  {
   "cell_type": "code",
   "execution_count": 28,
   "id": "aa2ecfaf",
   "metadata": {},
   "outputs": [],
   "source": [
    "next_week = df.loc[target_date:target_date+datetime.timedelta(days=7)]\n"
   ]
  },
  {
   "cell_type": "code",
   "execution_count": 29,
   "id": "44b57bc8",
   "metadata": {},
   "outputs": [
    {
     "data": {
      "text/html": [
       "<div>\n",
       "<style scoped>\n",
       "    .dataframe tbody tr th:only-of-type {\n",
       "        vertical-align: middle;\n",
       "    }\n",
       "\n",
       "    .dataframe tbody tr th {\n",
       "        vertical-align: top;\n",
       "    }\n",
       "\n",
       "    .dataframe thead th {\n",
       "        text-align: right;\n",
       "    }\n",
       "</style>\n",
       "<table border=\"1\" class=\"dataframe\">\n",
       "  <thead>\n",
       "    <tr style=\"text-align: right;\">\n",
       "      <th></th>\n",
       "      <th>Close</th>\n",
       "    </tr>\n",
       "    <tr>\n",
       "      <th>Date</th>\n",
       "      <th></th>\n",
       "    </tr>\n",
       "  </thead>\n",
       "  <tbody>\n",
       "    <tr>\n",
       "      <th>2021-03-22</th>\n",
       "      <td>235.990005</td>\n",
       "    </tr>\n",
       "    <tr>\n",
       "      <th>2021-03-23</th>\n",
       "      <td>237.580002</td>\n",
       "    </tr>\n",
       "    <tr>\n",
       "      <th>2021-03-24</th>\n",
       "      <td>235.460007</td>\n",
       "    </tr>\n",
       "    <tr>\n",
       "      <th>2021-03-25</th>\n",
       "      <td>232.339996</td>\n",
       "    </tr>\n",
       "    <tr>\n",
       "      <th>2021-03-26</th>\n",
       "      <td>236.479996</td>\n",
       "    </tr>\n",
       "  </tbody>\n",
       "</table>\n",
       "</div>"
      ],
      "text/plain": [
       "                 Close\n",
       "Date                  \n",
       "2021-03-22  235.990005\n",
       "2021-03-23  237.580002\n",
       "2021-03-24  235.460007\n",
       "2021-03-25  232.339996\n",
       "2021-03-26  236.479996"
      ]
     },
     "execution_count": 29,
     "metadata": {},
     "output_type": "execute_result"
    }
   ],
   "source": [
    "next_week"
   ]
  },
  {
   "cell_type": "code",
   "execution_count": 15,
   "id": "f1a1bc0f",
   "metadata": {},
   "outputs": [
    {
     "ename": "KeyboardInterrupt",
     "evalue": "",
     "output_type": "error",
     "traceback": [
      "\u001b[0;31m---------------------------------------------------------------------------\u001b[0m",
      "\u001b[0;31mKeyboardInterrupt\u001b[0m                         Traceback (most recent call last)",
      "Cell \u001b[0;32mIn[15], line 2\u001b[0m\n\u001b[1;32m      1\u001b[0m \u001b[38;5;66;03m# Start day second time around: '2021-03-25'\u001b[39;00m\n\u001b[0;32m----> 2\u001b[0m windowed_df \u001b[38;5;241m=\u001b[39m df_to_windowed_df(df, \n\u001b[1;32m      3\u001b[0m                                 \u001b[38;5;124m'\u001b[39m\u001b[38;5;124m2021-03-21\u001b[39m\u001b[38;5;124m'\u001b[39m, \n\u001b[1;32m      4\u001b[0m                                 \u001b[38;5;124m'\u001b[39m\u001b[38;5;124m2022-03-19\u001b[39m\u001b[38;5;124m'\u001b[39m, \n\u001b[1;32m      5\u001b[0m                                 n\u001b[38;5;241m=\u001b[39m\u001b[38;5;241m3\u001b[39m)\n\u001b[1;32m      6\u001b[0m windowed_df\n",
      "Cell \u001b[0;32mIn[14], line 12\u001b[0m, in \u001b[0;36mdf_to_windowed_df\u001b[0;34m(dataframe, first_date_str, last_date_str, n)\u001b[0m\n\u001b[1;32m     10\u001b[0m last_time \u001b[38;5;241m=\u001b[39m \u001b[38;5;28;01mFalse\u001b[39;00m\n\u001b[1;32m     11\u001b[0m \u001b[38;5;28;01mwhile\u001b[39;00m \u001b[38;5;28;01mTrue\u001b[39;00m:\n\u001b[0;32m---> 12\u001b[0m     df_subset \u001b[38;5;241m=\u001b[39m dataframe\u001b[38;5;241m.\u001b[39mloc[:target_date]\u001b[38;5;241m.\u001b[39mtail(n\u001b[38;5;241m+\u001b[39m\u001b[38;5;241m1\u001b[39m)\n\u001b[1;32m     14\u001b[0m     \u001b[38;5;28;01mif\u001b[39;00m \u001b[38;5;28mlen\u001b[39m(df_subset) \u001b[38;5;241m!=\u001b[39m n\u001b[38;5;241m+\u001b[39m\u001b[38;5;241m1\u001b[39m:\n\u001b[1;32m     15\u001b[0m         \u001b[38;5;28mprint\u001b[39m(\u001b[38;5;124mf\u001b[39m\u001b[38;5;124m'\u001b[39m\u001b[38;5;124mError: Window of size \u001b[39m\u001b[38;5;132;01m{\u001b[39;00mn\u001b[38;5;132;01m}\u001b[39;00m\u001b[38;5;124m is too large for date \u001b[39m\u001b[38;5;132;01m{\u001b[39;00mtarget_date\u001b[38;5;132;01m}\u001b[39;00m\u001b[38;5;124m'\u001b[39m)\n",
      "File \u001b[0;32m~/anaconda3/lib/python3.11/site-packages/pandas/core/indexing.py:1103\u001b[0m, in \u001b[0;36m_LocationIndexer.__getitem__\u001b[0;34m(self, key)\u001b[0m\n\u001b[1;32m   1100\u001b[0m axis \u001b[38;5;241m=\u001b[39m \u001b[38;5;28mself\u001b[39m\u001b[38;5;241m.\u001b[39maxis \u001b[38;5;129;01mor\u001b[39;00m \u001b[38;5;241m0\u001b[39m\n\u001b[1;32m   1102\u001b[0m maybe_callable \u001b[38;5;241m=\u001b[39m com\u001b[38;5;241m.\u001b[39mapply_if_callable(key, \u001b[38;5;28mself\u001b[39m\u001b[38;5;241m.\u001b[39mobj)\n\u001b[0;32m-> 1103\u001b[0m \u001b[38;5;28;01mreturn\u001b[39;00m \u001b[38;5;28mself\u001b[39m\u001b[38;5;241m.\u001b[39m_getitem_axis(maybe_callable, axis\u001b[38;5;241m=\u001b[39maxis)\n",
      "File \u001b[0;32m~/anaconda3/lib/python3.11/site-packages/pandas/core/indexing.py:1323\u001b[0m, in \u001b[0;36m_LocIndexer._getitem_axis\u001b[0;34m(self, key, axis)\u001b[0m\n\u001b[1;32m   1321\u001b[0m \u001b[38;5;28;01mif\u001b[39;00m \u001b[38;5;28misinstance\u001b[39m(key, \u001b[38;5;28mslice\u001b[39m):\n\u001b[1;32m   1322\u001b[0m     \u001b[38;5;28mself\u001b[39m\u001b[38;5;241m.\u001b[39m_validate_key(key, axis)\n\u001b[0;32m-> 1323\u001b[0m     \u001b[38;5;28;01mreturn\u001b[39;00m \u001b[38;5;28mself\u001b[39m\u001b[38;5;241m.\u001b[39m_get_slice_axis(key, axis\u001b[38;5;241m=\u001b[39maxis)\n\u001b[1;32m   1324\u001b[0m \u001b[38;5;28;01melif\u001b[39;00m com\u001b[38;5;241m.\u001b[39mis_bool_indexer(key):\n\u001b[1;32m   1325\u001b[0m     \u001b[38;5;28;01mreturn\u001b[39;00m \u001b[38;5;28mself\u001b[39m\u001b[38;5;241m.\u001b[39m_getbool_axis(key, axis\u001b[38;5;241m=\u001b[39maxis)\n",
      "File \u001b[0;32m~/anaconda3/lib/python3.11/site-packages/pandas/core/indexing.py:1355\u001b[0m, in \u001b[0;36m_LocIndexer._get_slice_axis\u001b[0;34m(self, slice_obj, axis)\u001b[0m\n\u001b[1;32m   1352\u001b[0m     \u001b[38;5;28;01mreturn\u001b[39;00m obj\u001b[38;5;241m.\u001b[39mcopy(deep\u001b[38;5;241m=\u001b[39m\u001b[38;5;28;01mFalse\u001b[39;00m)\n\u001b[1;32m   1354\u001b[0m labels \u001b[38;5;241m=\u001b[39m obj\u001b[38;5;241m.\u001b[39m_get_axis(axis)\n\u001b[0;32m-> 1355\u001b[0m indexer \u001b[38;5;241m=\u001b[39m labels\u001b[38;5;241m.\u001b[39mslice_indexer(slice_obj\u001b[38;5;241m.\u001b[39mstart, slice_obj\u001b[38;5;241m.\u001b[39mstop, slice_obj\u001b[38;5;241m.\u001b[39mstep)\n\u001b[1;32m   1357\u001b[0m \u001b[38;5;28;01mif\u001b[39;00m \u001b[38;5;28misinstance\u001b[39m(indexer, \u001b[38;5;28mslice\u001b[39m):\n\u001b[1;32m   1358\u001b[0m     \u001b[38;5;28;01mreturn\u001b[39;00m \u001b[38;5;28mself\u001b[39m\u001b[38;5;241m.\u001b[39mobj\u001b[38;5;241m.\u001b[39m_slice(indexer, axis\u001b[38;5;241m=\u001b[39maxis)\n",
      "File \u001b[0;32m~/anaconda3/lib/python3.11/site-packages/pandas/core/indexes/datetimes.py:636\u001b[0m, in \u001b[0;36mDatetimeIndex.slice_indexer\u001b[0;34m(self, start, end, step)\u001b[0m\n\u001b[1;32m    628\u001b[0m \u001b[38;5;66;03m# GH#33146 if start and end are combinations of str and None and Index is not\u001b[39;00m\n\u001b[1;32m    629\u001b[0m \u001b[38;5;66;03m# monotonic, we can not use Index.slice_indexer because it does not honor the\u001b[39;00m\n\u001b[1;32m    630\u001b[0m \u001b[38;5;66;03m# actual elements, is only searching for start and end\u001b[39;00m\n\u001b[1;32m    631\u001b[0m \u001b[38;5;28;01mif\u001b[39;00m (\n\u001b[1;32m    632\u001b[0m     check_str_or_none(start)\n\u001b[1;32m    633\u001b[0m     \u001b[38;5;129;01mor\u001b[39;00m check_str_or_none(end)\n\u001b[1;32m    634\u001b[0m     \u001b[38;5;129;01mor\u001b[39;00m \u001b[38;5;28mself\u001b[39m\u001b[38;5;241m.\u001b[39mis_monotonic_increasing\n\u001b[1;32m    635\u001b[0m ):\n\u001b[0;32m--> 636\u001b[0m     \u001b[38;5;28;01mreturn\u001b[39;00m Index\u001b[38;5;241m.\u001b[39mslice_indexer(\u001b[38;5;28mself\u001b[39m, start, end, step)\n\u001b[1;32m    638\u001b[0m mask \u001b[38;5;241m=\u001b[39m np\u001b[38;5;241m.\u001b[39marray(\u001b[38;5;28;01mTrue\u001b[39;00m)\n\u001b[1;32m    639\u001b[0m raise_mask \u001b[38;5;241m=\u001b[39m np\u001b[38;5;241m.\u001b[39marray(\u001b[38;5;28;01mTrue\u001b[39;00m)\n",
      "File \u001b[0;32m~/anaconda3/lib/python3.11/site-packages/pandas/core/indexes/base.py:6344\u001b[0m, in \u001b[0;36mIndex.slice_indexer\u001b[0;34m(self, start, end, step)\u001b[0m\n\u001b[1;32m   6300\u001b[0m \u001b[38;5;28;01mdef\u001b[39;00m \u001b[38;5;21mslice_indexer\u001b[39m(\n\u001b[1;32m   6301\u001b[0m     \u001b[38;5;28mself\u001b[39m,\n\u001b[1;32m   6302\u001b[0m     start: Hashable \u001b[38;5;241m|\u001b[39m \u001b[38;5;28;01mNone\u001b[39;00m \u001b[38;5;241m=\u001b[39m \u001b[38;5;28;01mNone\u001b[39;00m,\n\u001b[1;32m   6303\u001b[0m     end: Hashable \u001b[38;5;241m|\u001b[39m \u001b[38;5;28;01mNone\u001b[39;00m \u001b[38;5;241m=\u001b[39m \u001b[38;5;28;01mNone\u001b[39;00m,\n\u001b[1;32m   6304\u001b[0m     step: \u001b[38;5;28mint\u001b[39m \u001b[38;5;241m|\u001b[39m \u001b[38;5;28;01mNone\u001b[39;00m \u001b[38;5;241m=\u001b[39m \u001b[38;5;28;01mNone\u001b[39;00m,\n\u001b[1;32m   6305\u001b[0m ) \u001b[38;5;241m-\u001b[39m\u001b[38;5;241m>\u001b[39m \u001b[38;5;28mslice\u001b[39m:\n\u001b[1;32m   6306\u001b[0m \u001b[38;5;250m    \u001b[39m\u001b[38;5;124;03m\"\"\"\u001b[39;00m\n\u001b[1;32m   6307\u001b[0m \u001b[38;5;124;03m    Compute the slice indexer for input labels and step.\u001b[39;00m\n\u001b[1;32m   6308\u001b[0m \n\u001b[0;32m   (...)\u001b[0m\n\u001b[1;32m   6342\u001b[0m \u001b[38;5;124;03m    slice(1, 3, None)\u001b[39;00m\n\u001b[1;32m   6343\u001b[0m \u001b[38;5;124;03m    \"\"\"\u001b[39;00m\n\u001b[0;32m-> 6344\u001b[0m     start_slice, end_slice \u001b[38;5;241m=\u001b[39m \u001b[38;5;28mself\u001b[39m\u001b[38;5;241m.\u001b[39mslice_locs(start, end, step\u001b[38;5;241m=\u001b[39mstep)\n\u001b[1;32m   6346\u001b[0m     \u001b[38;5;66;03m# return a slice\u001b[39;00m\n\u001b[1;32m   6347\u001b[0m     \u001b[38;5;28;01mif\u001b[39;00m \u001b[38;5;129;01mnot\u001b[39;00m is_scalar(start_slice):\n",
      "File \u001b[0;32m~/anaconda3/lib/python3.11/site-packages/pandas/core/indexes/base.py:6543\u001b[0m, in \u001b[0;36mIndex.slice_locs\u001b[0;34m(self, start, end, step)\u001b[0m\n\u001b[1;32m   6541\u001b[0m end_slice \u001b[38;5;241m=\u001b[39m \u001b[38;5;28;01mNone\u001b[39;00m\n\u001b[1;32m   6542\u001b[0m \u001b[38;5;28;01mif\u001b[39;00m end \u001b[38;5;129;01mis\u001b[39;00m \u001b[38;5;129;01mnot\u001b[39;00m \u001b[38;5;28;01mNone\u001b[39;00m:\n\u001b[0;32m-> 6543\u001b[0m     end_slice \u001b[38;5;241m=\u001b[39m \u001b[38;5;28mself\u001b[39m\u001b[38;5;241m.\u001b[39mget_slice_bound(end, \u001b[38;5;124m\"\u001b[39m\u001b[38;5;124mright\u001b[39m\u001b[38;5;124m\"\u001b[39m)\n\u001b[1;32m   6544\u001b[0m \u001b[38;5;28;01mif\u001b[39;00m end_slice \u001b[38;5;129;01mis\u001b[39;00m \u001b[38;5;28;01mNone\u001b[39;00m:\n\u001b[1;32m   6545\u001b[0m     end_slice \u001b[38;5;241m=\u001b[39m \u001b[38;5;28mlen\u001b[39m(\u001b[38;5;28mself\u001b[39m)\n",
      "File \u001b[0;32m~/anaconda3/lib/python3.11/site-packages/pandas/core/indexes/base.py:6456\u001b[0m, in \u001b[0;36mIndex.get_slice_bound\u001b[0;34m(self, label, side)\u001b[0m\n\u001b[1;32m   6454\u001b[0m \u001b[38;5;66;03m# we need to look up the label\u001b[39;00m\n\u001b[1;32m   6455\u001b[0m \u001b[38;5;28;01mtry\u001b[39;00m:\n\u001b[0;32m-> 6456\u001b[0m     slc \u001b[38;5;241m=\u001b[39m \u001b[38;5;28mself\u001b[39m\u001b[38;5;241m.\u001b[39mget_loc(label)\n\u001b[1;32m   6457\u001b[0m \u001b[38;5;28;01mexcept\u001b[39;00m \u001b[38;5;167;01mKeyError\u001b[39;00m \u001b[38;5;28;01mas\u001b[39;00m err:\n\u001b[1;32m   6458\u001b[0m     \u001b[38;5;28;01mtry\u001b[39;00m:\n",
      "File \u001b[0;32m~/anaconda3/lib/python3.11/site-packages/pandas/core/indexes/datetimes.py:584\u001b[0m, in \u001b[0;36mDatetimeIndex.get_loc\u001b[0;34m(self, key)\u001b[0m\n\u001b[1;32m    581\u001b[0m     \u001b[38;5;28;01mraise\u001b[39;00m \u001b[38;5;167;01mKeyError\u001b[39;00m(key)\n\u001b[1;32m    583\u001b[0m \u001b[38;5;28;01mtry\u001b[39;00m:\n\u001b[0;32m--> 584\u001b[0m     \u001b[38;5;28;01mreturn\u001b[39;00m Index\u001b[38;5;241m.\u001b[39mget_loc(\u001b[38;5;28mself\u001b[39m, key)\n\u001b[1;32m    585\u001b[0m \u001b[38;5;28;01mexcept\u001b[39;00m \u001b[38;5;167;01mKeyError\u001b[39;00m \u001b[38;5;28;01mas\u001b[39;00m err:\n\u001b[1;32m    586\u001b[0m     \u001b[38;5;28;01mraise\u001b[39;00m \u001b[38;5;167;01mKeyError\u001b[39;00m(orig_key) \u001b[38;5;28;01mfrom\u001b[39;00m \u001b[38;5;21;01merr\u001b[39;00m\n",
      "File \u001b[0;32m~/anaconda3/lib/python3.11/site-packages/pandas/core/indexes/base.py:3653\u001b[0m, in \u001b[0;36mIndex.get_loc\u001b[0;34m(self, key)\u001b[0m\n\u001b[1;32m   3651\u001b[0m casted_key \u001b[38;5;241m=\u001b[39m \u001b[38;5;28mself\u001b[39m\u001b[38;5;241m.\u001b[39m_maybe_cast_indexer(key)\n\u001b[1;32m   3652\u001b[0m \u001b[38;5;28;01mtry\u001b[39;00m:\n\u001b[0;32m-> 3653\u001b[0m     \u001b[38;5;28;01mreturn\u001b[39;00m \u001b[38;5;28mself\u001b[39m\u001b[38;5;241m.\u001b[39m_engine\u001b[38;5;241m.\u001b[39mget_loc(casted_key)\n\u001b[1;32m   3654\u001b[0m \u001b[38;5;28;01mexcept\u001b[39;00m \u001b[38;5;167;01mKeyError\u001b[39;00m \u001b[38;5;28;01mas\u001b[39;00m err:\n\u001b[1;32m   3655\u001b[0m     \u001b[38;5;28;01mraise\u001b[39;00m \u001b[38;5;167;01mKeyError\u001b[39;00m(key) \u001b[38;5;28;01mfrom\u001b[39;00m \u001b[38;5;21;01merr\u001b[39;00m\n",
      "\u001b[0;31mKeyboardInterrupt\u001b[0m: "
     ]
    }
   ],
   "source": [
    "# Start day second time around: '2021-03-25'\n",
    "windowed_df = df_to_windowed_df(df, \n",
    "                                '2021-03-21', \n",
    "                                '2022-03-19', \n",
    "                                n=3)\n",
    "windowed_df"
   ]
  },
  {
   "cell_type": "code",
   "execution_count": null,
   "id": "93e1cfdf",
   "metadata": {},
   "outputs": [],
   "source": [
    "        next_datetime_str = str(next_week.head(2).tail(1).index.values[0])\n",
    "        next_date_str = next_datetime_str.split('T')[0]\n",
    "        year_month_day = next_date_str.split('-')\n",
    "        year, month, day = year_month_day\n",
    "        next_date = datetime.datetime(day=int(day), month=int(month), year=int(year))\n",
    "\n",
    "        if last_time:\n",
    "            break\n",
    "\n",
    "        target_date = next_date\n",
    "\n",
    "        if target_date == last_date:\n",
    "            last_time = True\n",
    "    \n",
    "    ret_df = pd.DataFrame({})\n",
    "    ret_df['Target Date'] = dates\n",
    "  \n",
    "    X = np.array(X)\n",
    "    for i in range(0, n):\n",
    "        X[:, i]\n",
    "        ret_df[f'Target-{n-i}'] = X[:, i]\n",
    "  \n",
    "    ret_df['Target'] = Y\n",
    "\n"
   ]
  },
  {
   "cell_type": "code",
   "execution_count": null,
   "id": "bcb84461",
   "metadata": {},
   "outputs": [],
   "source": [
    "def windowed_df_to_date_X_y(windowed_dataframe):\n",
    "    df_as_np = windowed_dataframe.to_numpy()\n",
    "\n",
    "    dates = df_as_np[:, 0]\n",
    "\n",
    "    middle_matrix = df_as_np[:, 1:-1]\n",
    "    X = middle_matrix.reshape((len(dates), middle_matrix.shape[1], 1))\n",
    "\n",
    "    Y = df_as_np[:, -1]\n",
    "\n",
    "    return dates, X.astype(np.float32), Y.astype(np.float32)\n",
    "\n"
   ]
  },
  {
   "cell_type": "code",
   "execution_count": null,
   "id": "758c8f85",
   "metadata": {},
   "outputs": [],
   "source": [
    "dates, X, y = windowed_df_to_date_X_y(windowed_df)\n",
    "\n",
    "dates.shape, X.shape, y.shape"
   ]
  },
  {
   "cell_type": "code",
   "execution_count": null,
   "id": "44db0e0f",
   "metadata": {},
   "outputs": [],
   "source": []
  },
  {
   "cell_type": "code",
   "execution_count": null,
   "id": "510f3b28",
   "metadata": {},
   "outputs": [],
   "source": []
  }
 ],
 "metadata": {
  "kernelspec": {
   "display_name": "Python 3 (ipykernel)",
   "language": "python",
   "name": "python3"
  },
  "language_info": {
   "codemirror_mode": {
    "name": "ipython",
    "version": 3
   },
   "file_extension": ".py",
   "mimetype": "text/x-python",
   "name": "python",
   "nbconvert_exporter": "python",
   "pygments_lexer": "ipython3",
   "version": "3.11.5"
  }
 },
 "nbformat": 4,
 "nbformat_minor": 5
}
