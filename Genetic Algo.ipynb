{
 "cells": [
  {
   "cell_type": "code",
   "execution_count": 1,
   "id": "7b0e2f4b",
   "metadata": {},
   "outputs": [],
   "source": [
    "from random import randint, uniform\n",
    "n_pop = 10\n",
    "n_bits = 8\n",
    "n_iter = 5\n",
    "r_cross = 0.8 # crossover rate\n",
    "r_mut = 0.1 # flip bits with probability"
   ]
  },
  {
   "cell_type": "code",
   "execution_count": 3,
   "id": "71c99f84",
   "metadata": {},
   "outputs": [
    {
     "data": {
      "text/plain": [
       "[[0, 0, 1, 0, 0, 1, 1, 1],\n",
       " [0, 0, 1, 0, 1, 0, 0, 1],\n",
       " [0, 0, 0, 0, 1, 1, 1, 1],\n",
       " [0, 1, 1, 1, 0, 1, 1, 1],\n",
       " [1, 1, 0, 1, 0, 1, 0, 0],\n",
       " [0, 0, 1, 1, 0, 1, 1, 0],\n",
       " [0, 0, 1, 1, 1, 1, 0, 1],\n",
       " [1, 0, 1, 1, 0, 1, 0, 0],\n",
       " [0, 1, 1, 0, 0, 1, 0, 1],\n",
       " [1, 1, 0, 0, 0, 1, 1, 1]]"
      ]
     },
     "execution_count": 3,
     "metadata": {},
     "output_type": "execute_result"
    }
   ],
   "source": [
    "pop = [[randint(0,1) for x in range(n_bits)] for _ in range(n_pop)]\n",
    "pop"
   ]
  },
  {
   "cell_type": "code",
   "execution_count": 2,
   "id": "a585e380",
   "metadata": {},
   "outputs": [],
   "source": [
    "def objective(candidate):\n",
    "    sum_ = 0\n",
    "    for bit in candidate:\n",
    "        sum_ += bit\n",
    "    return sum_"
   ]
  },
  {
   "cell_type": "code",
   "execution_count": 5,
   "id": "70c87731",
   "metadata": {},
   "outputs": [
    {
     "name": "stdout",
     "output_type": "stream",
     "text": [
      "[4, 3, 4, 6, 4, 4, 5, 4, 4, 5]\n",
      "[4, 3, 4, 6, 4, 4, 5, 4, 4, 5]\n",
      "[4, 3, 4, 6, 4, 4, 5, 4, 4, 5]\n",
      "[4, 3, 4, 6, 4, 4, 5, 4, 4, 5]\n",
      "[4, 3, 4, 6, 4, 4, 5, 4, 4, 5]\n"
     ]
    }
   ],
   "source": [
    "# enumerate generations\n",
    "for gen in range(n_iter):\n",
    "    # evaluate all candidates in the population\n",
    "    scores = [objective(c) for c in pop]\n",
    "    print(scores)"
   ]
  },
  {
   "cell_type": "code",
   "execution_count": 5,
   "id": "97aae7c3",
   "metadata": {},
   "outputs": [],
   "source": [
    "def selection(pop,scores,k=3):\n",
    "    # first random selection\n",
    "    selection_ix = randint(0,len(pop)-1)\n",
    "    for ix in [randint(0,len(pop)-1) for x in range(k-1)]:\n",
    "    # check if better (e.g. perform a tournament)\n",
    "        if scores[ix] < scores[selection_ix]:\n",
    "            selection_ix = ix\n",
    "    return pop[selection_ix]"
   ]
  },
  {
   "cell_type": "code",
   "execution_count": 10,
   "id": "687148fc",
   "metadata": {},
   "outputs": [
    {
     "data": {
      "text/plain": [
       "[0, 0, 0, 0, 1, 1, 1, 1]"
      ]
     },
     "execution_count": 10,
     "metadata": {},
     "output_type": "execute_result"
    }
   ],
   "source": [
    "selection(pop, scores)"
   ]
  },
  {
   "cell_type": "code",
   "execution_count": 11,
   "id": "dd86d7b8",
   "metadata": {},
   "outputs": [
    {
     "data": {
      "text/plain": [
       "[[0, 1, 1, 0, 0, 1, 0, 1],\n",
       " [0, 1, 1, 0, 0, 1, 0, 1],\n",
       " [1, 0, 1, 1, 0, 1, 0, 0],\n",
       " [0, 0, 0, 0, 1, 1, 1, 1],\n",
       " [0, 0, 1, 0, 0, 1, 1, 1],\n",
       " [0, 0, 1, 1, 0, 1, 1, 0],\n",
       " [1, 1, 0, 1, 0, 1, 0, 0],\n",
       " [1, 1, 0, 1, 0, 1, 0, 0],\n",
       " [0, 0, 1, 0, 1, 0, 0, 1],\n",
       " [0, 0, 1, 1, 0, 1, 1, 0]]"
      ]
     },
     "execution_count": 11,
     "metadata": {},
     "output_type": "execute_result"
    }
   ],
   "source": [
    "# select parents\n",
    "selected = [selection(pop, scores) for _ in range(n_pop)]\n",
    "selected"
   ]
  },
  {
   "cell_type": "code",
   "execution_count": 6,
   "id": "109154fc",
   "metadata": {},
   "outputs": [],
   "source": [
    "# crossover two parents to create two children\n",
    "def crossover(p1,p2,r_cross):\n",
    "    print([p1,p2])\n",
    "    # children are copies of parents by default\n",
    "    c1 , c2 = p1.copy(), p2.copy()\n",
    "    # check for recombination\n",
    "    if uniform(0,1) < r_cross:\n",
    "        # select crossover point that is not on the end of the string\n",
    "        pt = randint(1, len(p1)-2)\n",
    "        # perform crossover\n",
    "        c1 = p1[:pt] + p2[pt:]\n",
    "        c2 = p2[:pt] + p1[pt:]\n",
    "    return [c1,c2]"
   ]
  },
  {
   "cell_type": "code",
   "execution_count": 16,
   "id": "ff98f99a",
   "metadata": {},
   "outputs": [
    {
     "name": "stdout",
     "output_type": "stream",
     "text": [
      "[[0, 0, 1, 0, 0, 1, 1, 1], [0, 0, 1, 0, 1, 0, 0, 1]]\n"
     ]
    },
    {
     "data": {
      "text/plain": [
       "[[0, 0, 1, 0, 0, 1, 1, 1], [0, 0, 1, 0, 1, 0, 0, 1]]"
      ]
     },
     "execution_count": 16,
     "metadata": {},
     "output_type": "execute_result"
    }
   ],
   "source": [
    "crossover(pop[0],pop[1],r_cross)"
   ]
  },
  {
   "cell_type": "code",
   "execution_count": 7,
   "id": "1763ba21",
   "metadata": {},
   "outputs": [],
   "source": [
    "def mutation(bitstring, r_mut):\n",
    "    for i in range(len(bitstring)):\n",
    "        # check for a mutation\n",
    "        if uniform(0,1) < r_mut:\n",
    "            # flip the bit\n",
    "            bitstring[i] = 1 - bitstring[i]"
   ]
  },
  {
   "cell_type": "code",
   "execution_count": 23,
   "id": "0ff5da27",
   "metadata": {},
   "outputs": [
    {
     "name": "stdout",
     "output_type": "stream",
     "text": [
      "[[0, 1, 1, 0, 0, 1, 0, 1], [0, 1, 1, 0, 0, 1, 0, 1]]\n",
      "[[1, 0, 1, 1, 0, 1, 0, 0], [0, 0, 0, 0, 1, 1, 1, 1]]\n",
      "[[0, 0, 1, 0, 0, 1, 1, 1], [0, 0, 1, 1, 0, 1, 1, 0]]\n",
      "[[1, 1, 0, 1, 0, 1, 0, 0], [1, 1, 0, 1, 0, 1, 0, 0]]\n",
      "[[0, 0, 1, 0, 1, 0, 0, 1], [0, 0, 1, 1, 0, 1, 1, 0]]\n"
     ]
    }
   ],
   "source": [
    "# create the next generation\n",
    "children = list()\n",
    "for i in range(0,n_pop-1,2):\n",
    "    # get selected parents in pairs\n",
    "    p1, p2 = selected[i], selected[i+1]\n",
    "    # crossover and mutation\n",
    "    for c in crossover(p1,p2,r_cross):\n",
    "        # mutation\n",
    "        mutation(c,r_mut)\n",
    "        # store for next generation\n",
    "        children.append(c)"
   ]
  },
  {
   "cell_type": "code",
   "execution_count": 14,
   "id": "283c1345",
   "metadata": {},
   "outputs": [],
   "source": [
    "def genetic_algorithm(objective, n_bits, n_iter, n_pop, r_cross, r_mut):\n",
    "    # initial population of random bitstring\n",
    "    pop = [[randint(0,1) for x in range(n_bits)] for _ in range(n_pop)]\n",
    "    print(pop)\n",
    "    # keep track of best solution\n",
    "    best, best_eval = 0, objective(pop[0])\n",
    "    # enumerate generations\n",
    "    for gen in range(n_iter):\n",
    "        # evaluate all candidates in the population\n",
    "        scores = [objective(c) for c in pop]\n",
    "        # check for new best solution\n",
    "        for i in range(n_pop):\n",
    "            if scores[i] < best_eval:\n",
    "                best, best_eval = pop[i], scores[i]\n",
    "                print(\">%d, new best f(%s) = %.3f\" % (gen, pop[i], scores[i]))\n",
    "        # select parents\n",
    "        selected = [selection(pop, scores) for _ in range(n_pop)]\n",
    "        # create the next generation\n",
    "        children = list()\n",
    "        for i in range(0, n_pop, 2):\n",
    "            # get selected parents in pairs\n",
    "            p1, p2 = selected[i], selected[i+1]\n",
    "            # crossover and mutation\n",
    "            for c in crossover(p1, p2, r_cross):\n",
    "                # mutation\n",
    "                mutation(c, r_mut)\n",
    "                # store for next generation\n",
    "                children.append(c)\n",
    "        # replace population\n",
    "        pop = children\n",
    "    return [best, best_eval]"
   ]
  },
  {
   "cell_type": "code",
   "execution_count": 15,
   "id": "e762625e",
   "metadata": {},
   "outputs": [
    {
     "name": "stdout",
     "output_type": "stream",
     "text": [
      "[[1, 0, 0, 0, 0, 1, 1, 0], [1, 0, 0, 0, 1, 0, 1, 1], [0, 1, 1, 0, 0, 0, 1, 1], [0, 0, 1, 0, 0, 1, 0, 0], [1, 1, 1, 0, 0, 1, 0, 1], [0, 0, 0, 1, 0, 0, 0, 0], [1, 0, 0, 0, 0, 1, 1, 0], [1, 1, 1, 1, 1, 0, 0, 1], [1, 1, 0, 1, 0, 0, 1, 0], [0, 0, 0, 1, 1, 1, 1, 0]]\n",
      ">0, new best f([0, 0, 1, 0, 0, 1, 0, 0]) = 2.000\n",
      ">0, new best f([0, 0, 0, 1, 0, 0, 0, 0]) = 1.000\n",
      "[[1, 0, 0, 0, 0, 1, 1, 0], [0, 0, 0, 1, 0, 0, 0, 0]]\n",
      "[[1, 0, 0, 0, 0, 1, 1, 0], [0, 1, 1, 0, 0, 0, 1, 1]]\n",
      "[[1, 0, 0, 0, 0, 1, 1, 0], [1, 0, 0, 0, 0, 1, 1, 0]]\n",
      "[[0, 0, 1, 0, 0, 1, 0, 0], [0, 0, 0, 1, 0, 0, 0, 0]]\n",
      "[[1, 0, 0, 0, 0, 1, 1, 0], [0, 0, 0, 1, 0, 0, 0, 0]]\n",
      "[[0, 0, 0, 0, 0, 1, 0, 0], [0, 0, 0, 1, 0, 0, 0, 0]]\n",
      "[[0, 0, 0, 1, 0, 0, 0, 0], [0, 0, 1, 1, 0, 0, 0, 0]]\n",
      "[[1, 0, 0, 0, 0, 1, 0, 0], [0, 0, 0, 1, 0, 1, 0, 0]]\n",
      "[[0, 0, 0, 0, 0, 1, 0, 0], [0, 0, 1, 1, 0, 0, 0, 0]]\n",
      "[[1, 0, 0, 0, 0, 1, 0, 1], [0, 0, 0, 1, 0, 0, 0, 0]]\n",
      ">2, new best f([0, 0, 0, 0, 0, 0, 0, 0]) = 0.000\n",
      "[[0, 0, 0, 0, 0, 0, 0, 0], [0, 1, 0, 0, 0, 0, 0, 0]]\n",
      "[[0, 0, 0, 0, 0, 0, 0, 0], [0, 1, 0, 0, 0, 0, 0, 0]]\n",
      "[[0, 0, 0, 0, 0, 0, 0, 0], [0, 0, 0, 0, 0, 0, 0, 0]]\n",
      "[[1, 1, 0, 1, 0, 1, 0, 0], [0, 1, 0, 0, 0, 0, 0, 0]]\n",
      "[[0, 1, 0, 0, 0, 0, 0, 0], [0, 1, 0, 0, 0, 0, 0, 0]]\n",
      "[[0, 0, 0, 0, 0, 0, 0, 0], [0, 0, 0, 0, 0, 0, 0, 0]]\n",
      "[[0, 0, 0, 1, 0, 0, 0, 0], [0, 1, 1, 0, 0, 0, 0, 0]]\n",
      "[[0, 0, 0, 0, 0, 0, 0, 0], [0, 0, 0, 0, 0, 0, 0, 0]]\n",
      "[[0, 1, 0, 0, 0, 0, 0, 0], [0, 0, 0, 0, 0, 0, 0, 0]]\n",
      "[[0, 0, 0, 0, 0, 0, 0, 0], [0, 0, 0, 0, 0, 0, 0, 0]]\n",
      "[[0, 0, 0, 0, 0, 0, 0, 0], [0, 0, 0, 0, 0, 0, 0, 0]]\n",
      "[[0, 0, 0, 0, 0, 0, 0, 0], [0, 0, 0, 0, 0, 0, 0, 0]]\n",
      "[[0, 0, 0, 1, 0, 0, 0, 0], [0, 0, 0, 0, 0, 0, 0, 0]]\n",
      "[[0, 0, 0, 0, 0, 0, 0, 0], [0, 0, 0, 1, 0, 0, 0, 0]]\n",
      "[[0, 1, 0, 0, 1, 0, 0, 0], [0, 0, 0, 0, 0, 0, 0, 0]]\n"
     ]
    },
    {
     "data": {
      "text/plain": [
       "[[0, 0, 0, 0, 0, 0, 0, 0], 0]"
      ]
     },
     "execution_count": 15,
     "metadata": {},
     "output_type": "execute_result"
    }
   ],
   "source": [
    "genetic_algorithm(objective, n_bits, n_iter, n_pop, r_cross, r_mut)"
   ]
  },
  {
   "cell_type": "code",
   "execution_count": null,
   "id": "1f8aab5c",
   "metadata": {},
   "outputs": [],
   "source": []
  },
  {
   "cell_type": "code",
   "execution_count": null,
   "id": "306c998c",
   "metadata": {},
   "outputs": [],
   "source": []
  },
  {
   "cell_type": "code",
   "execution_count": null,
   "id": "d32ea407",
   "metadata": {},
   "outputs": [],
   "source": []
  },
  {
   "cell_type": "code",
   "execution_count": null,
   "id": "cb31d1d1",
   "metadata": {},
   "outputs": [],
   "source": []
  }
 ],
 "metadata": {
  "kernelspec": {
   "display_name": "Python 3 (ipykernel)",
   "language": "python",
   "name": "python3"
  },
  "language_info": {
   "codemirror_mode": {
    "name": "ipython",
    "version": 3
   },
   "file_extension": ".py",
   "mimetype": "text/x-python",
   "name": "python",
   "nbconvert_exporter": "python",
   "pygments_lexer": "ipython3",
   "version": "3.11.5"
  }
 },
 "nbformat": 4,
 "nbformat_minor": 5
}
