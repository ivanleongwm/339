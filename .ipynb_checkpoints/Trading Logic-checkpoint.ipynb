{
 "cells": [
  {
   "cell_type": "code",
   "execution_count": null,
   "id": "6e35b80e",
   "metadata": {},
   "outputs": [],
   "source": [
    "#\n",
    "\n",
    "if cash available greater than current price:\n",
    "    and signal = positive:\n",
    "        buy (allocate equally based on available cash and positivity of signal)\n",
    "        units bought here have take profit price of 1.2\n",
    "        and stop loss of 0.95\n",
    "        \n",
    "        \n",
    "    and signal = negative:\n",
    "        sell (allocate equally based on available cash and negativity of units bought)\n",
    "        units bought here have a take profit of 0.8 \n",
    "        and stop loss of 1.05\n",
    "        "
   ]
  }
 ],
 "metadata": {
  "kernelspec": {
   "display_name": "Python 3 (ipykernel)",
   "language": "python",
   "name": "python3"
  },
  "language_info": {
   "codemirror_mode": {
    "name": "ipython",
    "version": 3
   },
   "file_extension": ".py",
   "mimetype": "text/x-python",
   "name": "python",
   "nbconvert_exporter": "python",
   "pygments_lexer": "ipython3",
   "version": "3.11.5"
  }
 },
 "nbformat": 4,
 "nbformat_minor": 5
}
