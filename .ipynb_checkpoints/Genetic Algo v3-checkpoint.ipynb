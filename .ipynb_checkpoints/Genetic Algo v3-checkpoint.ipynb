{
 "cells": [
  {
   "cell_type": "code",
   "execution_count": 93,
   "id": "8c4da9db",
   "metadata": {},
   "outputs": [],
   "source": [
    "import pandas as pd\n",
    "from datetime import date\n",
    "from IPython.display import display"
   ]
  },
  {
   "cell_type": "code",
   "execution_count": 94,
   "id": "892f84e0",
   "metadata": {},
   "outputs": [
    {
     "name": "stdout",
     "output_type": "stream",
     "text": [
      "Requirement already satisfied: openpyxl in c:\\users\\pc\\appdata\\local\\programs\\python\\python311\\lib\\site-packages (3.1.2)\n",
      "Requirement already satisfied: et-xmlfile in c:\\users\\pc\\appdata\\local\\programs\\python\\python311\\lib\\site-packages (from openpyxl) (1.1.0)\n"
     ]
    },
    {
     "name": "stderr",
     "output_type": "stream",
     "text": [
      "\n",
      "[notice] A new release of pip is available: 23.0.1 -> 24.0\n",
      "[notice] To update, run: C:\\Users\\pc\\AppData\\Local\\Programs\\Python\\Python311\\python.exe -m pip install --upgrade pip\n"
     ]
    }
   ],
   "source": [
    "!pip3 install openpyxl"
   ]
  },
  {
   "cell_type": "code",
   "execution_count": 95,
   "id": "23a241ab",
   "metadata": {},
   "outputs": [],
   "source": [
    "tickers = ['PLD','AMT','PSA','SPG','DLR','EQR']\n",
    "files_array = {}\n",
    "\n",
    "for ticker in tickers:\n",
    "    files_array[ticker] = pd.read_excel('yahoo_finance_reits_data.xlsx',sheet_name=ticker,index_col=0).reset_index()[-500:]"
   ]
  },
  {
   "cell_type": "code",
   "execution_count": 96,
   "id": "5a0a9753",
   "metadata": {},
   "outputs": [
    {
     "name": "stdout",
     "output_type": "stream",
     "text": [
      "(x['Open']+x['Close']+x['High']+x['High'])/3\n"
     ]
    }
   ],
   "source": [
    "string = '(Open+Close+High+High)/3'\n",
    "fields = ['Open','Close','High','Low','Volume']\n",
    "def create_expression(string):\n",
    "    for field in fields:\n",
    "        string = string.replace(field,f'x[\\'{field}\\']')\n",
    "    return string\n",
    "\n",
    "print(create_expression(string))"
   ]
  },
  {
   "cell_type": "code",
   "execution_count": 97,
   "id": "1ccf2c43",
   "metadata": {},
   "outputs": [],
   "source": [
    "def day_average(df):\n",
    "    df['Day Ave'] = df.apply(lambda x: (x['Open']+x['Close']+x['High'])/3, axis=1)\n",
    "    return df"
   ]
  },
  {
   "cell_type": "code",
   "execution_count": 98,
   "id": "a9155e23",
   "metadata": {},
   "outputs": [],
   "source": [
    "def returns(df):\n",
    "    df['Yesterday Ave'] = df['Day Ave'].shift()\n",
    "    df['Dod Return'] = (df['Day Ave'] - df['Yesterday Ave'])/abs(df['Yesterday Ave'])\n",
    "    df['Tommorrow Ave'] = df['Day Ave'].shift(-1)\n",
    "    df['2nd Dod Return'] = (df['Tommorrow Ave'] - df['Day Ave'])/abs(df['Day Ave'])\n",
    "    return df"
   ]
  },
  {
   "cell_type": "code",
   "execution_count": 99,
   "id": "9d6454ca",
   "metadata": {},
   "outputs": [],
   "source": [
    "def returns(df):\n",
    "    df['Yesterday Ave'] = df['Day Ave'].shift()\n",
    "    df['Dod Return'] = (df['Day Ave'] - df['Yesterday Ave'])/abs(df['Yesterday Ave'])\n",
    "    df['Tommorrow Ave'] = df['Day Ave'].shift(-1)\n",
    "    df['2nd Dod Return'] = (df['Tommorrow Ave'] - df['Day Ave'])/abs(df['Day Ave'])\n",
    "    return df"
   ]
  },
  {
   "cell_type": "code",
   "execution_count": 100,
   "id": "b00586c4",
   "metadata": {},
   "outputs": [],
   "source": [
    "def alpha_value(df,string):\n",
    "    df['Alpha Value'] = df.apply(lambda x: eval(create_expression(string)), axis=1)\n",
    "    return df"
   ]
  },
  {
   "cell_type": "code",
   "execution_count": 120,
   "id": "1610da2d",
   "metadata": {},
   "outputs": [],
   "source": [
    "def calculate_alpha_performance(files_array,alpha_expr):\n",
    "    print(f\"Calculating performance for alpha: {alpha_expr}\")\n",
    "    combi = pd.DataFrame(files_array[next(iter(files_array))].reset_index()['Date']) # get list of dates from any ticker\n",
    "    for key,value in files_array.items():\n",
    "        day_average(value)\n",
    "        returns(value)\n",
    "        dod_return = pd.DataFrame(value[['Date','Dod Return']])\n",
    "        dod_return.rename(columns={'Dod Return':f'{key} Dod Return'},inplace=True)\n",
    "        combi = combi.merge(dod_return,on='Date',how='left')\n",
    "    #print(\"\\nDay on day returns for each ticker:\")\n",
    "    #print(files_array)\n",
    "    #display(combi)\n",
    "    \n",
    "    combination = combi.melt(['Date'], var_name='Ticker', value_name='Dod Return') #need to double melt 2nd dod return\n",
    "    combination.sort_values('Date', inplace=True)\n",
    "    combination.dropna(inplace=True)\n",
    "    #print(\"\\nTranspose df:\")\n",
    "    #display(combination)\n",
    "    \n",
    "    combi2 = pd.DataFrame(files_array[next(iter(files_array))].reset_index()['Date'])\n",
    "    for key,value in files_array.items():\n",
    "        day_average(value)\n",
    "        returns(value)\n",
    "        dod_return = pd.DataFrame(value[['Date','2nd Dod Return']])\n",
    "        dod_return.rename(columns={'2nd Dod Return':f'{key} Dod Return'},inplace=True)\n",
    "        combi2 = combi2.merge(dod_return,on='Date',how='left')\n",
    "    \n",
    "    #print(\"\\nDay on day returns for following day for each ticker:\")\n",
    "    #display(combi2)\n",
    "    \n",
    "    combination2 = combi2.melt(['Date'], var_name='Ticker', value_name='2nd Dod Return') #need to double melt 2nd dod return\n",
    "    combination2.sort_values('Date', inplace=True)\n",
    "    combination2.dropna(inplace=True)\n",
    "    ##print(\"\\nTranspose df for following day:\")\n",
    "    #display(combination2)\n",
    "    \n",
    "    combi3 = pd.DataFrame(files_array[next(iter(files_array))].reset_index()['Date']) # get list of dates from any ticker\n",
    "    for key,value in files_array.items():\n",
    "        alpha_value(value,alpha_expr)\n",
    "        alpha_return = pd.DataFrame(value[['Date','Alpha Value']])\n",
    "        alpha_return.rename(columns={'Alpha Value':f'{key} Dod Return'},inplace=True)\n",
    "        #print(\"TESTTTT\")\n",
    "        #display(alpha_return)\n",
    "        #display(combi)\n",
    "        combi3 = combi3.merge(alpha_return,on='Date',how='left')\n",
    "    #print(\"COMBI 3\")\n",
    "    #display(combi3)\n",
    "        \n",
    "    #print(\"\\nAlpha value for each ticker:\")\n",
    "    combination4 = combi3.melt(['Date'], var_name='Ticker', value_name='Alpha Value') #need to double melt 2nd dod return\n",
    "    combination4.sort_values('Date', inplace=True)\n",
    "    combination4.dropna(inplace=True)\n",
    "    #print(\"COMBI 4\")\n",
    "    #display(combination4)\n",
    "    \n",
    "    \n",
    "    combination3 = combination.merge(combination2,how='left',on=['Date','Ticker'])\n",
    "    combination3 = combination3.merge(combination4,how='left',on=['Date','Ticker'])\n",
    "    #print(\"\\nMerge both dfs:\")\n",
    "    #display(combination3)\n",
    "    \n",
    "    combination3.dropna(inplace=True)\n",
    "    combination3['Rank'] = combination3.sort_values(['Alpha Value'], ascending=[True]).groupby(['Date']).cumcount() + 1\n",
    "    combination3['Alpha Rank'] = combination3['Rank'].apply(lambda x: x * (1/(len(tickers)-1)) - (1/(len(tickers)-1)))\n",
    "    combination3['Centered 0'] = combination3['Alpha Rank'] - 0.5\n",
    "    combination3['Abs Centered 0'] = abs(combination3['Centered 0'])\n",
    "    combination3['Sum Rank'] = combination3.apply(lambda x: sum(combination3[combination3['Date']==x['Date']]['Abs Centered 0']),axis=1)\n",
    "    combination3['Normalized'] = combination3.apply(lambda x: -x['Abs Centered 0']/x['Sum Rank'] if x['Centered 0'] < 0 else x['Abs Centered 0']/x['Sum Rank'], axis=1)\n",
    "    combination3['Allocated'] = combination3['Normalized'] * 20\n",
    "    combination3['PnL'] = combination3['Allocated'] * combination3['2nd Dod Return']\n",
    "    #print(\"\\nAllocate portfolio based on Alpha Rank:\")\n",
    "    #display(combination3)\n",
    "    \n",
    "    final = combination3[['Date','PnL']]\n",
    "    pnl = final.groupby(['Date']).sum()\n",
    "    pnl['PnL'] = pnl['PnL'].cumsum()\n",
    "    pnl.reset_index(inplace=True)\n",
    "    #display(pnl)\n",
    "    #pnl.plot(kind='line',x='Date',y='PnL');\n",
    "    \n",
    "    return combination3,pnl\n",
    "    "
   ]
  },
  {
   "cell_type": "code",
   "execution_count": 121,
   "id": "9e037d70",
   "metadata": {
    "scrolled": false
   },
   "outputs": [
    {
     "name": "stdout",
     "output_type": "stream",
     "text": [
      "Calculating performance for alpha: (Open+Close+High+High)/3\n"
     ]
    }
   ],
   "source": [
    "resultDf,pnlDf = calculate_alpha_performance(files_array,string)"
   ]
  },
  {
   "cell_type": "code",
   "execution_count": 122,
   "id": "871fbdb2",
   "metadata": {},
   "outputs": [],
   "source": [
    "def objective(files_array,candidate_string):\n",
    "    # Evaluate profit for alpha candidate for 1 year period\n",
    "    resultDf,pnlDf = calculate_alpha_performance(files_array,candidate_string)\n",
    "    one_year_return = pnlDf.iloc[-6,1] - pnlDf.iloc[-365,1]  \n",
    "    six_month_return = pnlDf.iloc[-6,1] - pnlDf.iloc[-180,1]\n",
    "    three_month_return = pnlDf.iloc[-6,1] - pnlDf.iloc[-90,1]  \n",
    "    one_month_return = pnlDf.iloc[-6,1] - pnlDf.iloc[-30,1]  \n",
    "    average_return = (one_month_return + three_month_return + six_month_return + one_year_return)/4\n",
    "    print(\"AVERAGE RETURN: \", average_return)\n",
    "    return average_return"
   ]
  },
  {
   "cell_type": "code",
   "execution_count": 123,
   "id": "e8ae78f9",
   "metadata": {
    "scrolled": true
   },
   "outputs": [
    {
     "name": "stdout",
     "output_type": "stream",
     "text": [
      "Calculating performance for alpha: (Close - (High - Close / (High) / Open))\n",
      "AVERAGE RETURN:  9.445009759709972\n"
     ]
    },
    {
     "data": {
      "text/plain": [
       "9.445009759709972"
      ]
     },
     "execution_count": 123,
     "metadata": {},
     "output_type": "execute_result"
    }
   ],
   "source": [
    "objective(files_array,r\"(Close - (High - Close / (High) / Open))\")"
   ]
  },
  {
   "cell_type": "code",
   "execution_count": 105,
   "id": "30c7e737",
   "metadata": {},
   "outputs": [],
   "source": [
    "n_pop = 10\n",
    "n_bits = 8\n",
    "n_iter = 5\n",
    "r_cross = 0.8 # crossover rate\n",
    "r_mut = 0.1 # flip bits with probability"
   ]
  },
  {
   "cell_type": "code",
   "execution_count": 125,
   "id": "74b3d834",
   "metadata": {},
   "outputs": [],
   "source": [
    "def genetic_algorithm(objective,files_array, n_bits, n_iter, n_pop, r_cross, r_mut):\n",
    "    # initial population of random bitstring\n",
    "    pop = generateAlphas(n_pop)\n",
    "    print(pop)\n",
    "    # keep track of best solution\n",
    "    best, best_eval = 0, objective(files_array,pop[0])\n",
    "    # enumerate generations\n",
    "    for gen in range(n_iter):\n",
    "        # evaluate all candidates in the population\n",
    "        scores = [objective(files_array,c) for c in pop]\n",
    "        print(scores)\n",
    "        # check for new best solution\n",
    "        for i in range(n_pop):\n",
    "            if scores[i] > best_eval:\n",
    "                best, best_eval = pop[i], scores[i]\n",
    "                print(\">%d, new best f(%s) = %.3f\" % (gen, pop[i], scores[i]))\n",
    "                \n",
    "        # select parents\n",
    "        selected = [selection(pop, scores) for _ in range(n_pop)]\n",
    "        print(\"Selected Parents\",selected)\n",
    "        # create the next generation\n",
    "        children = list()\n",
    "        for i in range(0, n_pop, 2):\n",
    "            # get selected parents in pairs\n",
    "            p1, p2 = selected[i], selected[i+1]"
   ]
  },
  {
   "cell_type": "code",
   "execution_count": null,
   "id": "bad3346d",
   "metadata": {},
   "outputs": [],
   "source": []
  },
  {
   "cell_type": "code",
   "execution_count": 126,
   "id": "83565671",
   "metadata": {},
   "outputs": [
    {
     "name": "stdout",
     "output_type": "stream",
     "text": [
      "['((Low)) - Open - (Open / Volume)', '(High) * Volume / High', '((Low - High + Open)) * Open', '((Open))', '(Open + Volume + (Close) - Low / ((Low + Close)))', '((High))', '(High + ((Volume)) - (Volume + High) / Open)', 'Close / Open / ((High))', 'Close - (High * High - Low + Open * High)', '(Volume) - Volume / (Low) - Low']\n",
      "Calculating performance for alpha: ((Low)) - Open - (Open / Volume)\n",
      "AVERAGE RETURN:  8.847230391914316\n",
      "Calculating performance for alpha: ((Low)) - Open - (Open / Volume)\n",
      "AVERAGE RETURN:  8.847230391914316\n",
      "Calculating performance for alpha: (High) * Volume / High\n",
      "AVERAGE RETURN:  -0.07391556674088526\n",
      "Calculating performance for alpha: ((Low - High + Open)) * Open\n",
      "AVERAGE RETURN:  -1.2897490087777377\n",
      "Calculating performance for alpha: ((Open))\n",
      "AVERAGE RETURN:  -1.3864833343119403\n",
      "Calculating performance for alpha: (Open + Volume + (Close) - Low / ((Low + Close)))\n",
      "AVERAGE RETURN:  -0.07391556674088526\n",
      "Calculating performance for alpha: ((High))\n",
      "AVERAGE RETURN:  -1.1719654953510275\n",
      "Calculating performance for alpha: (High + ((Volume)) - (Volume + High) / Open)\n",
      "AVERAGE RETURN:  0.017762230251610195\n",
      "Calculating performance for alpha: Close / Open / ((High))\n",
      "AVERAGE RETURN:  1.3860903444524928\n",
      "Calculating performance for alpha: Close - (High * High - Low + Open * High)\n",
      "AVERAGE RETURN:  1.3165772744234467\n",
      "Calculating performance for alpha: (Volume) - Volume / (Low) - Low\n",
      "AVERAGE RETURN:  0.017762230251610278\n",
      "[8.847230391914316, -0.07391556674088526, -1.2897490087777377, -1.3864833343119403, -0.07391556674088526, -1.1719654953510275, 0.017762230251610195, 1.3860903444524928, 1.3165772744234467, 0.017762230251610278]\n",
      "Selected Parents ['Close / Open / ((High))', 'Close / Open / ((High))', '(High + ((Volume)) - (Volume + High) / Open)', 'Close - (High * High - Low + Open * High)', 'Close / Open / ((High))', 'Close - (High * High - Low + Open * High)', 'Close / Open / ((High))', '((Low)) - Open - (Open / Volume)', '(Open + Volume + (Close) - Low / ((Low + Close)))', '(Volume) - Volume / (Low) - Low']\n",
      "Calculating performance for alpha: ((Low)) - Open - (Open / Volume)\n",
      "AVERAGE RETURN:  8.847230391914316\n",
      "Calculating performance for alpha: (High) * Volume / High\n",
      "AVERAGE RETURN:  -0.07391556674088526\n",
      "Calculating performance for alpha: ((Low - High + Open)) * Open\n",
      "AVERAGE RETURN:  -1.2897490087777377\n",
      "Calculating performance for alpha: ((Open))\n",
      "AVERAGE RETURN:  -1.3864833343119403\n",
      "Calculating performance for alpha: (Open + Volume + (Close) - Low / ((Low + Close)))\n",
      "AVERAGE RETURN:  -0.07391556674088526\n",
      "Calculating performance for alpha: ((High))\n",
      "AVERAGE RETURN:  -1.1719654953510275\n",
      "Calculating performance for alpha: (High + ((Volume)) - (Volume + High) / Open)\n",
      "AVERAGE RETURN:  0.017762230251610195\n",
      "Calculating performance for alpha: Close / Open / ((High))\n",
      "AVERAGE RETURN:  1.3860903444524928\n",
      "Calculating performance for alpha: Close - (High * High - Low + Open * High)\n",
      "AVERAGE RETURN:  1.3165772744234467\n",
      "Calculating performance for alpha: (Volume) - Volume / (Low) - Low\n",
      "AVERAGE RETURN:  0.017762230251610278\n",
      "[8.847230391914316, -0.07391556674088526, -1.2897490087777377, -1.3864833343119403, -0.07391556674088526, -1.1719654953510275, 0.017762230251610195, 1.3860903444524928, 1.3165772744234467, 0.017762230251610278]\n",
      "Selected Parents ['(Open + Volume + (Close) - Low / ((Low + Close)))', '(High + ((Volume)) - (Volume + High) / Open)', '(High + ((Volume)) - (Volume + High) / Open)', 'Close / Open / ((High))', '(Volume) - Volume / (Low) - Low', '((Low)) - Open - (Open / Volume)', 'Close - (High * High - Low + Open * High)', '(Volume) - Volume / (Low) - Low', '((High))', '(Volume) - Volume / (Low) - Low']\n",
      "Calculating performance for alpha: ((Low)) - Open - (Open / Volume)\n",
      "AVERAGE RETURN:  8.847230391914316\n",
      "Calculating performance for alpha: (High) * Volume / High\n",
      "AVERAGE RETURN:  -0.07391556674088526\n",
      "Calculating performance for alpha: ((Low - High + Open)) * Open\n",
      "AVERAGE RETURN:  -1.2897490087777377\n",
      "Calculating performance for alpha: ((Open))\n",
      "AVERAGE RETURN:  -1.3864833343119403\n",
      "Calculating performance for alpha: (Open + Volume + (Close) - Low / ((Low + Close)))\n",
      "AVERAGE RETURN:  -0.07391556674088526\n",
      "Calculating performance for alpha: ((High))\n",
      "AVERAGE RETURN:  -1.1719654953510275\n",
      "Calculating performance for alpha: (High + ((Volume)) - (Volume + High) / Open)\n",
      "AVERAGE RETURN:  0.017762230251610195\n",
      "Calculating performance for alpha: Close / Open / ((High))\n",
      "AVERAGE RETURN:  1.3860903444524928\n",
      "Calculating performance for alpha: Close - (High * High - Low + Open * High)\n",
      "AVERAGE RETURN:  1.3165772744234467\n",
      "Calculating performance for alpha: (Volume) - Volume / (Low) - Low\n",
      "AVERAGE RETURN:  0.017762230251610278\n",
      "[8.847230391914316, -0.07391556674088526, -1.2897490087777377, -1.3864833343119403, -0.07391556674088526, -1.1719654953510275, 0.017762230251610195, 1.3860903444524928, 1.3165772744234467, 0.017762230251610278]\n",
      "Selected Parents ['(High + ((Volume)) - (Volume + High) / Open)', '((Low)) - Open - (Open / Volume)', '((Low)) - Open - (Open / Volume)', '((Low)) - Open - (Open / Volume)', '(Open + Volume + (Close) - Low / ((Low + Close)))', 'Close / Open / ((High))', '((Low)) - Open - (Open / Volume)', '((Low)) - Open - (Open / Volume)', '((Low)) - Open - (Open / Volume)', '((Low)) - Open - (Open / Volume)']\n",
      "Calculating performance for alpha: ((Low)) - Open - (Open / Volume)\n",
      "AVERAGE RETURN:  8.847230391914316\n",
      "Calculating performance for alpha: (High) * Volume / High\n",
      "AVERAGE RETURN:  -0.07391556674088526\n",
      "Calculating performance for alpha: ((Low - High + Open)) * Open\n",
      "AVERAGE RETURN:  -1.2897490087777377\n",
      "Calculating performance for alpha: ((Open))\n",
      "AVERAGE RETURN:  -1.3864833343119403\n",
      "Calculating performance for alpha: (Open + Volume + (Close) - Low / ((Low + Close)))\n",
      "AVERAGE RETURN:  -0.07391556674088526\n",
      "Calculating performance for alpha: ((High))\n",
      "AVERAGE RETURN:  -1.1719654953510275\n",
      "Calculating performance for alpha: (High + ((Volume)) - (Volume + High) / Open)\n",
      "AVERAGE RETURN:  0.017762230251610195\n",
      "Calculating performance for alpha: Close / Open / ((High))\n",
      "AVERAGE RETURN:  1.3860903444524928\n",
      "Calculating performance for alpha: Close - (High * High - Low + Open * High)\n",
      "AVERAGE RETURN:  1.3165772744234467\n",
      "Calculating performance for alpha: (Volume) - Volume / (Low) - Low\n",
      "AVERAGE RETURN:  0.017762230251610278\n",
      "[8.847230391914316, -0.07391556674088526, -1.2897490087777377, -1.3864833343119403, -0.07391556674088526, -1.1719654953510275, 0.017762230251610195, 1.3860903444524928, 1.3165772744234467, 0.017762230251610278]\n",
      "Selected Parents ['Close / Open / ((High))', '(Volume) - Volume / (Low) - Low', '(Volume) - Volume / (Low) - Low', 'Close / Open / ((High))', '(Open + Volume + (Close) - Low / ((Low + Close)))', '(Volume) - Volume / (Low) - Low', 'Close / Open / ((High))', 'Close / Open / ((High))', 'Close - (High * High - Low + Open * High)', '(Volume) - Volume / (Low) - Low']\n",
      "Calculating performance for alpha: ((Low)) - Open - (Open / Volume)\n",
      "AVERAGE RETURN:  8.847230391914316\n",
      "Calculating performance for alpha: (High) * Volume / High\n",
      "AVERAGE RETURN:  -0.07391556674088526\n",
      "Calculating performance for alpha: ((Low - High + Open)) * Open\n",
      "AVERAGE RETURN:  -1.2897490087777377\n",
      "Calculating performance for alpha: ((Open))\n",
      "AVERAGE RETURN:  -1.3864833343119403\n",
      "Calculating performance for alpha: (Open + Volume + (Close) - Low / ((Low + Close)))\n",
      "AVERAGE RETURN:  -0.07391556674088526\n",
      "Calculating performance for alpha: ((High))\n",
      "AVERAGE RETURN:  -1.1719654953510275\n",
      "Calculating performance for alpha: (High + ((Volume)) - (Volume + High) / Open)\n",
      "AVERAGE RETURN:  0.017762230251610195\n",
      "Calculating performance for alpha: Close / Open / ((High))\n",
      "AVERAGE RETURN:  1.3860903444524928\n",
      "Calculating performance for alpha: Close - (High * High - Low + Open * High)\n",
      "AVERAGE RETURN:  1.3165772744234467\n",
      "Calculating performance for alpha: (Volume) - Volume / (Low) - Low\n",
      "AVERAGE RETURN:  0.017762230251610278\n",
      "[8.847230391914316, -0.07391556674088526, -1.2897490087777377, -1.3864833343119403, -0.07391556674088526, -1.1719654953510275, 0.017762230251610195, 1.3860903444524928, 1.3165772744234467, 0.017762230251610278]\n",
      "Selected Parents ['(Open + Volume + (Close) - Low / ((Low + Close)))', '((Low)) - Open - (Open / Volume)', '((Low)) - Open - (Open / Volume)', '((Low)) - Open - (Open / Volume)', '(Open + Volume + (Close) - Low / ((Low + Close)))', '((Low)) - Open - (Open / Volume)', '((Low)) - Open - (Open / Volume)', 'Close - (High * High - Low + Open * High)', 'Close - (High * High - Low + Open * High)', '(High) * Volume / High']\n"
     ]
    }
   ],
   "source": [
    "genetic_algorithm(objective, files_array, n_bits, n_iter, n_pop, r_cross, r_mut)"
   ]
  },
  {
   "cell_type": "code",
   "execution_count": 124,
   "id": "6b0d3306",
   "metadata": {},
   "outputs": [],
   "source": [
    "def selection(pop,scores,k=3):\n",
    "    # first random selection\n",
    "    selection_ix = randint(0,len(pop)-1)\n",
    "    for ix in [randint(0,len(pop)-1) for x in range(k-1)]:\n",
    "    # check if better (e.g. perform a tournament)\n",
    "        if scores[ix] > scores[selection_ix]:\n",
    "            selection_ix = ix\n",
    "    return pop[selection_ix]"
   ]
  },
  {
   "cell_type": "code",
   "execution_count": null,
   "id": "2e5807e3",
   "metadata": {},
   "outputs": [],
   "source": [
    "# Possible additions include methods to evaluate expressions and generate\n",
    "# some random expressions.\n",
    "\n",
    "class Expression:\n",
    "    pass\n",
    "\n",
    "class Number(Expression):\n",
    "    def __init__(self, num):\n",
    "        self.num = num\n",
    "\n",
    "    def __str__(self):\n",
    "        return str(self.num)\n",
    "\n",
    "class BinaryExpression(Expression):\n",
    "    def __init__(self, left, op, right):\n",
    "        self.left = left\n",
    "        self.op = op\n",
    "        self.right = right\n",
    "\n",
    "    def __str__(self):\n",
    "        return str(self.left) + \" \" + self.op + \" \"  + str(self.right)\n",
    "\n",
    "class ParenthesizedExpression(Expression):\n",
    "    def __init__(self, exp):\n",
    "        self.exp = exp\n",
    "\n",
    "    def __str__(self):\n",
    "        return \"(\" + str(self.exp) + \")\"\n",
    "\n",
    "e1 = Number(5)"
   ]
  },
  {
   "cell_type": "code",
   "execution_count": null,
   "id": "403a5365",
   "metadata": {},
   "outputs": [],
   "source": [
    "from random import random, randint, choice\n",
    "\n",
    "def randomAlpha(prob,datafields):\n",
    "    p = random()\n",
    "    if p > prob:\n",
    "        return datafields[randint(0, 4)]\n",
    "    elif randint(0, 1) == 0:\n",
    "        return ParenthesizedExpression(randomAlpha(prob / 1.2,datafields))\n",
    "    else:\n",
    "        left = randomAlpha(prob / 1.2,datafields)\n",
    "        op = choice([\"+\", \"-\", \"*\", \"/\"])\n",
    "        right = randomAlpha(prob / 1.2,datafields)\n",
    "        return BinaryExpression(left, op, right)\n",
    "        #return str(left) + ' ' + str(op) + ' ' + str(right) \n",
    "\n",
    "def generateAlphas(number):\n",
    "    past_alphas = []\n",
    "    alphas_to_sim = []\n",
    "    for i in range(number):\n",
    "        duplicate = True\n",
    "        while duplicate:\n",
    "            generated = randomAlpha(1,fields)\n",
    "            if generated not in past_alphas:\n",
    "                duplicate = False\n",
    "                #past_alphas.append(generated) # use this to output expressions\n",
    "                past_alphas.append(str(generated)) # use this to output string\n",
    "    return past_alphas\n"
   ]
  },
  {
   "cell_type": "code",
   "execution_count": null,
   "id": "eaec2ba8",
   "metadata": {},
   "outputs": [],
   "source": [
    "generateAlphas(10)"
   ]
  },
  {
   "cell_type": "code",
   "execution_count": null,
   "id": "97b886a0",
   "metadata": {},
   "outputs": [],
   "source": [
    "class Node:\n",
    "    def __init__(self, value):\n",
    "        self.value = value\n",
    "        self.children = []\n",
    "\n",
    "def parse_expression(tokens):\n",
    "    node = parse_term(tokens)\n",
    "\n",
    "    while tokens and tokens[0] in ['+', '-']:\n",
    "        operator = tokens.pop(0)\n",
    "        right = parse_term(tokens)\n",
    "        new_node = Node(operator)\n",
    "        new_node.children.extend([node, right])\n",
    "        node = new_node\n",
    "\n",
    "    return node\n",
    "\n",
    "def parse_term(tokens):\n",
    "    node = parse_factor(tokens)\n",
    "\n",
    "    while tokens and tokens[0] in ['*', '/']:\n",
    "        operator = tokens.pop(0)\n",
    "        right = parse_factor(tokens)\n",
    "        new_node = Node(operator)\n",
    "        new_node.children.extend([node, right])\n",
    "        node = new_node\n",
    "\n",
    "    return node\n",
    "\n",
    "def parse_factor(tokens):\n",
    "    if not tokens:\n",
    "        raise ValueError(\"Unexpected end of expression\")\n",
    "\n",
    "    token = tokens.pop(0)\n",
    "\n",
    "    if token.isalnum():  # Changed from isdigit() to isalnum() to handle alphabetic tokens\n",
    "        return Node(token)\n",
    "    elif token == '(':\n",
    "        node = parse_expression(tokens)\n",
    "        if tokens[0] != ')':\n",
    "            raise ValueError(\"Expected ')'\")\n",
    "        tokens.pop(0)  # Consume ')'\n",
    "        return node\n",
    "    else:\n",
    "        raise ValueError(f\"Unexpected token: {token}\")\n",
    "\n",
    "def parse_math_expression(expression):\n",
    "    tokens = expression.replace('(', ' ( ').replace(')', ' ) ').split()\n",
    "    return parse_expression(tokens)\n",
    "\n",
    "# Example usage\n",
    "math_expression = \"((Open / Volume) + Open - Open * (Volume) / Volume * ((Close - Open)))\"\n",
    "parse_tree_root = parse_math_expression(math_expression)\n",
    "\n",
    "math_expression = \"((Open / Volume) + Open - Open * (Volume) / Volume * ((Close - Open)))\"\n",
    "p1 = parse_math_expression(math_expression)\n",
    "\n",
    "math_expression = \"(Open - Open * (Volume) / Volume * ((Close - Open)))\"\n",
    "p2 = parse_math_expression(math_expression)\n",
    "\n",
    "# Helper function to visualize the tree\n",
    "def print_tree(node, depth=0, prefix=\"\"):\n",
    "    # Handle the root node\n",
    "    if depth == 0:\n",
    "        print(node.value)\n",
    "    else:\n",
    "        print(prefix + \"└── \" + node.value)\n",
    "\n",
    "    if node.children:\n",
    "        new_prefix = prefix + (\"    \" if depth == 0 else \"│   \")\n",
    "        for i, child in enumerate(node.children):\n",
    "            # Update the prefix for the last child\n",
    "            if i == len(node.children) - 1:\n",
    "                new_prefix = prefix + \"    \"\n",
    "            print_tree(child, depth + 1, new_prefix)\n",
    "\n",
    "print_tree(parse_tree_root)"
   ]
  },
  {
   "cell_type": "code",
   "execution_count": null,
   "id": "9085b517",
   "metadata": {},
   "outputs": [],
   "source": [
    "def tree_to_expression(node):\n",
    "    # If the node is a leaf (has no children), return its value\n",
    "    if not node.children:\n",
    "        return node.value\n",
    "\n",
    "    # If the node is not a leaf, it should be an operator\n",
    "    # We then recursively get the expressions of its children\n",
    "    left_expr = tree_to_expression(node.children[0])\n",
    "    right_expr = tree_to_expression(node.children[1])\n",
    "\n",
    "    # Construct and return the expression string\n",
    "    return f\"({left_expr} {node.value} {right_expr})\"\n",
    "\n",
    "# Example usage\n",
    "# Assuming root is the root of your expression tree\n",
    "expression = tree_to_expression(p1)\n",
    "print(expression)"
   ]
  },
  {
   "cell_type": "code",
   "execution_count": null,
   "id": "38625826",
   "metadata": {},
   "outputs": [],
   "source": []
  },
  {
   "cell_type": "code",
   "execution_count": null,
   "id": "9bbb8682",
   "metadata": {},
   "outputs": [],
   "source": []
  },
  {
   "cell_type": "code",
   "execution_count": null,
   "id": "067dd4bb",
   "metadata": {},
   "outputs": [],
   "source": []
  },
  {
   "cell_type": "code",
   "execution_count": null,
   "id": "e188ba5e",
   "metadata": {},
   "outputs": [],
   "source": []
  },
  {
   "cell_type": "code",
   "execution_count": null,
   "id": "26882102",
   "metadata": {},
   "outputs": [],
   "source": []
  },
  {
   "cell_type": "code",
   "execution_count": null,
   "id": "14ea779b",
   "metadata": {},
   "outputs": [],
   "source": []
  },
  {
   "cell_type": "code",
   "execution_count": null,
   "id": "f7645943",
   "metadata": {},
   "outputs": [],
   "source": []
  },
  {
   "cell_type": "code",
   "execution_count": null,
   "id": "cc09a589",
   "metadata": {},
   "outputs": [],
   "source": []
  },
  {
   "cell_type": "code",
   "execution_count": null,
   "id": "f0020e26",
   "metadata": {},
   "outputs": [],
   "source": []
  },
  {
   "cell_type": "code",
   "execution_count": null,
   "id": "55d3475e",
   "metadata": {},
   "outputs": [],
   "source": []
  },
  {
   "cell_type": "code",
   "execution_count": null,
   "id": "8e533b0b",
   "metadata": {},
   "outputs": [],
   "source": []
  },
  {
   "cell_type": "code",
   "execution_count": null,
   "id": "8258e348",
   "metadata": {},
   "outputs": [],
   "source": []
  },
  {
   "cell_type": "code",
   "execution_count": null,
   "id": "299d2760",
   "metadata": {},
   "outputs": [],
   "source": []
  },
  {
   "cell_type": "code",
   "execution_count": null,
   "id": "e498c7f5",
   "metadata": {},
   "outputs": [],
   "source": []
  },
  {
   "cell_type": "code",
   "execution_count": null,
   "id": "f0554c43",
   "metadata": {},
   "outputs": [],
   "source": []
  },
  {
   "cell_type": "code",
   "execution_count": null,
   "id": "a53b1fab",
   "metadata": {},
   "outputs": [],
   "source": []
  },
  {
   "cell_type": "code",
   "execution_count": null,
   "id": "0bffcc2a",
   "metadata": {},
   "outputs": [],
   "source": []
  }
 ],
 "metadata": {
  "kernelspec": {
   "display_name": "Python 3 (ipykernel)",
   "language": "python",
   "name": "python3"
  },
  "language_info": {
   "codemirror_mode": {
    "name": "ipython",
    "version": 3
   },
   "file_extension": ".py",
   "mimetype": "text/x-python",
   "name": "python",
   "nbconvert_exporter": "python",
   "pygments_lexer": "ipython3",
   "version": "3.11.0"
  }
 },
 "nbformat": 4,
 "nbformat_minor": 5
}
